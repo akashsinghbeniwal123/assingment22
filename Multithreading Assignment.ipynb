{
 "cells": [
  {
   "cell_type": "code",
   "execution_count": null,
   "id": "5cb65cc5-14e1-4655-b1da-105dc26ae830",
   "metadata": {},
   "outputs": [],
   "source": [
    "Q1. What is multithreading in python? Why is it used? Name the module used to handle threads in python.\n",
    "Multithreading is a technique that allows multiple threads of execution to run concurrently within a single process. Each thread is a separate flow of control within the process, sharing the same memory space. This can improve performance by allowing tasks to be executed simultaneously, especially in CPU-bound operations.\n",
    "use multithreading=:\n",
    "1.Improved performance: By executing multiple tasks concurrently, you can make better use of your CPU's resources and potentially speed up your program.\n",
    "Responsiveness: In GUI applications, multithreading can prevent the user interface from freezing while performing long-running tasks.\n",
    "2.Concurrency: Multithreading is essential for handling concurrent tasks like network I/O or database interactions.\n",
    "\n",
    "Module Name:The threading module is the primary module used for working with threads in Python. It provides classes and functions for creating, starting, stopping, and synchronizing threads.\n"
   ]
  },
  {
   "cell_type": "code",
   "execution_count": null,
   "id": "3d016dea-749e-4b17-9a21-37ea6451e4f0",
   "metadata": {},
   "outputs": [],
   "source": [
    "Q2. Why threading module used? Write the use of the following functions\n",
    "1. activeCount()\n",
    "2. currentThread()\n",
    "3.enumerate()\n",
    "The threading module is used to create and manage threads in Python. It provides various functions and classes to handle multithreaded programming effectively.\n",
    "\n",
    "activeCount():\n",
    "\n",
    "Returns the number of active threads in the current process.\n",
    "This is useful for monitoring the number of threads running concurrently.\n",
    "currentThread():\n",
    "\n",
    "Returns the current thread object.\n",
    "This can be used to obtain information about the thread that is executing the current code.\n",
    "enumerate():\n",
    "\n",
    "Returns a list of all active threads in the current process.\n",
    "This can be helpful for debugging and monitoring thread behavior."
   ]
  },
  {
   "cell_type": "code",
   "execution_count": null,
   "id": "6fe76f5b-1d80-4028-9a14-9fbb6c2afb4f",
   "metadata": {},
   "outputs": [],
   "source": [
    "Q3. Explain the following functions\n",
    " run()\n",
    " start()\n",
    " join()\n",
    " isAlive()\n",
    "Ans:\n",
    "run():\n",
    "\n",
    "This is a method defined within the Thread class.\n",
    "It is the default target function that gets executed when a thread is started.\n",
    "You can override this method to specify the code that your thread will run.\n",
    "If you do not provide a target function when creating a thread, the run() method will be executed by default.\n",
    "start():\n",
    "\n",
    "This method is used to initiate a thread execution.\n",
    "Once you call start(), the thread run() method will be executed in a separate thread of control.\n",
    "You can only call start() once for a given thread.\n",
    "join():\n",
    "\n",
    "This method is used to wait for a thread to finish executing.\n",
    "When you call join(), the current thread will be paused until the target thread terminates.\n",
    "This can be useful for ensuring that certain tasks are completed before proceeding.\n",
    "isAlive():\n",
    "\n",
    "This method returns a boolean value indicating whether the thread is still active.\n",
    "It returns True if the thread is running or has not yet started, and False if the thread has terminated."
   ]
  },
  {
   "cell_type": "code",
   "execution_count": null,
   "id": "2b179932-6a05-4525-a8f0-771d26f102c4",
   "metadata": {},
   "outputs": [],
   "source": [
    "Q4. Write a python program to create two threads. Thread one must print the list of squares and thread\n",
    "two must print the list of cubes."
   ]
  },
  {
   "cell_type": "code",
   "execution_count": 1,
   "id": "133294ea-a009-470d-a681-e9a006dbc65f",
   "metadata": {},
   "outputs": [
    {
     "name": "stdout",
     "output_type": "stream",
     "text": [
      "Square of 1 : 1\n",
      "Square of 2 : 4\n",
      "Square of 3 : 9\n",
      "Square of 4 : 16\n",
      "Square of 5 : 25\n",
      "Square of 6 : 36\n",
      "Square of 7 : 49\n",
      "Square of 8 : 64\n",
      "Square of 9 : 81\n",
      "Square of 10 : 100\n",
      "Cube of 1 : 1\n",
      "Cube of 2 : 8\n",
      "Cube of 3 : 27\n",
      "Cube of 4 : 64\n",
      "Cube of 5 : 125\n",
      "Cube of 6 : 216\n",
      "Cube of 7 : 343\n",
      "Cube of 8 : 512\n",
      "Cube of 9 : 729\n",
      "Cube of 10 : 1000\n",
      "All threads finished\n"
     ]
    }
   ],
   "source": [
    "import threading\n",
    "\n",
    "def print_squares():\n",
    "    for i in range(1, 11):\n",
    "        print(\"Square of\", i, \":\", i * i)\n",
    "\n",
    "def print_cubes():\n",
    "    for i in range(1, 11):\n",
    "        print(\"Cube of\", i, \":\", i * i * i)\n",
    "\n",
    "if __name__ == \"__main__\":\n",
    "    t1 = threading.Thread(target=print_squares)\n",
    "    t2 = threading.Thread(target=print_cubes)\n",
    "    t1.start()\n",
    "    t2.start()\n",
    "    t1.join()\n",
    "    t2.join()\n",
    "\n",
    "    print(\"All threads finished\")"
   ]
  },
  {
   "cell_type": "code",
   "execution_count": null,
   "id": "3eedd33e-5357-43d6-8940-5c1e56f5e327",
   "metadata": {},
   "outputs": [],
   "source": [
    "Q5. State advantages and disadvantages of multithreading.\n",
    "Ans:Advantages of Multithreading\n",
    "Improved Performance: Multithreading can significantly enhance performance, especially for CPU-bound tasks. By dividing a task into smaller subtasks that can be executed concurrently, you can make better use of your CPU's resources.\n",
    "Responsiveness: Multithreading can help prevent your application from freezing while performing long-running tasks. For example, in a GUI application, a separate thread can handle background tasks like loading data or processing images, allowing the main thread to keep the user interface responsive.\n",
    "Concurrency: Multithreading is essential for handling concurrent tasks, such as network I/O or database operations. It allows your application to handle multiple requests simultaneously, improving its scalability and responsiveness.\n",
    "Modularity: By breaking down a complex task into smaller, independent threads, you can improve the modularity and maintainability of your code.\n",
    "    \n",
    "Disadvantages of Multithreading\n",
    "Complexity: Multithreading can introduce complexity into your code, making it harder to write, debug, and maintain. You need to be careful to avoid race conditions, deadlocks, and other synchronization issues.\n",
    "Overhead: Creating and managing threads can incur some overhead, especially for small tasks. This overhead can sometimes outweigh the benefits of multithreading.\n",
    "Synchronization Issues: Coordinating the execution of multiple threads can be challenging. You need to use synchronization mechanisms like locks, semaphores, and events to prevent race conditions and ensure that shared resources are accessed in a safe manner.\n",
    "Debugging Challenges: Debugging multithreaded applications can be difficult, as the timing of events can affect the behavior of your program. You may need to use specialized tools or techniques to identify and fix issues related to thread synchronization and race conditions."
   ]
  }
 ],
 "metadata": {
  "kernelspec": {
   "display_name": "Python 3 (ipykernel)",
   "language": "python",
   "name": "python3"
  },
  "language_info": {
   "codemirror_mode": {
    "name": "ipython",
    "version": 3
   },
   "file_extension": ".py",
   "mimetype": "text/x-python",
   "name": "python",
   "nbconvert_exporter": "python",
   "pygments_lexer": "ipython3",
   "version": "3.12.1"
  }
 },
 "nbformat": 4,
 "nbformat_minor": 5
}
