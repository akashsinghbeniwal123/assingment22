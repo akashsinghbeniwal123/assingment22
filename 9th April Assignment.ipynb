{
 "cells": [
  {
   "cell_type": "code",
   "execution_count": null,
   "id": "4b619d06-bc13-4d97-8ca3-9f4625fbe8e0",
   "metadata": {},
   "outputs": [],
   "source": [
    "Q1. What is Bayes theorem?\n",
    "Ans:Bayes theorem is a mathematical rule that allows us to update our beliefs about the probability of an event based on new evidence. It is a fundamental tool in probability theory and statistics.   \n",
    "\n",
    "Here the mathematical formulation of Bayes' theorem:\n",
    "\n",
    "P(A|B) = P(B|A) * P(A) / P(B)"
   ]
  },
  {
   "cell_type": "code",
   "execution_count": null,
   "id": "72c07de1-8d89-44b7-a0b2-0b09237ccf01",
   "metadata": {},
   "outputs": [],
   "source": [
    "Q2. What is the formula for Bayes' theorem?\n",
    "Ans:P(A|B) = P(B|A) * P(A) / P(B)\n"
   ]
  },
  {
   "cell_type": "code",
   "execution_count": null,
   "id": "b1a4be7a-7777-4270-bb9b-7980dc406cd7",
   "metadata": {},
   "outputs": [],
   "source": [
    "Q3. How is Bayes' theorem used in practice?\n",
    "Ans:Bayes theorem is a powerful tool with many practical applications. Here are some examples:   \n",
    "\n",
    "1. Medical Diagnosis:\n",
    "\n",
    "A doctor might use Bayes theorem to assess the probability of a patient having a disease given a positive test result. They would consider the prior probability of the disease, the sensitivity and specificity of the test, and the prevalence of the disease in the population.   \n",
    "2. Spam Filtering:\n",
    "\n",
    "Email clients use Bayes theorem to classify emails as spam or not spam. They analyze the words and phrases in an email and calculate the probability that it's spam based on previous data.   \n",
    "3. Weather Forecasting:\n",
    "\n",
    "Meteorologists use Baye theorem to update their forecasts as new data becomes available. They consider historical weather patterns, current conditions, and new information to make more accurate predictions.   \n",
    "4. Machine Learning:\n",
    "\n",
    "Bayes theorem is a fundamental concept in Bayesian machine learning, where its used to update the probabilities of model parameters as new data is observed.\n",
    "5. Finance:\n",
    "\n",
    "Investors use Bayes theorem to update their beliefs about the future performance of stocks and other investments as new information becomes available.   \n",
    "6. Artificial Intelligence:\n",
    "\n",
    "Bayes theorem is used in various AI applications, such as natural language processing and computer vision, to make probabilistic inferences.   \n",
    "In"
   ]
  },
  {
   "cell_type": "code",
   "execution_count": null,
   "id": "6800b152-57f3-4d65-82ab-d41499c89d2f",
   "metadata": {},
   "outputs": [],
   "source": []
  },
  {
   "cell_type": "code",
   "execution_count": null,
   "id": "c2b1d33b-2d34-4a6f-b547-896f9447cb1a",
   "metadata": {},
   "outputs": [],
   "source": []
  },
  {
   "cell_type": "code",
   "execution_count": null,
   "id": "5b3ffe80-afef-49dd-bc36-75ec18489286",
   "metadata": {},
   "outputs": [],
   "source": []
  },
  {
   "cell_type": "code",
   "execution_count": null,
   "id": "03aab823-48f5-450a-babb-4b55707578d3",
   "metadata": {},
   "outputs": [],
   "source": []
  }
 ],
 "metadata": {
  "kernelspec": {
   "display_name": "Python 3 (ipykernel)",
   "language": "python",
   "name": "python3"
  },
  "language_info": {
   "codemirror_mode": {
    "name": "ipython",
    "version": 3
   },
   "file_extension": ".py",
   "mimetype": "text/x-python",
   "name": "python",
   "nbconvert_exporter": "python",
   "pygments_lexer": "ipython3",
   "version": "3.12.1"
  }
 },
 "nbformat": 4,
 "nbformat_minor": 5
}
