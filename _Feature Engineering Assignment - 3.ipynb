{
 "cells": [
  {
   "cell_type": "code",
   "execution_count": null,
   "id": "aa34874b-6b69-4a7c-8089-b94d152b70ec",
   "metadata": {},
   "outputs": [],
   "source": [
    "Q1. What is data encoding? How is it useful in data science?\n",
    "Ans:Data Encoding: A Fundamental Concept in Data Science\n",
    "Data encoding is the process of transforming data into a format that can be easily understood and processed by computers. It's a crucial step in data science, especially when dealing with categorical or textual data.\n",
    "\n",
    "Data Encoding Important:\n",
    "Machine Learning Compatibility: Most machine learning algorithms are designed to work with numerical data. Encoding converts categorical or textual data into numerical representations, making it suitable for these algorithms.\n",
    "Efficient Data Storage: Encoded data often occupies less storage space compared to its original format.\n",
    "Improved Model Performance: The choice of encoding technique can significantly impact the performance of a machine learning model.\n",
    "Feature Engineering: Encoding can create new features that capture valuable information from the original data.\n",
    "\n"
   ]
  },
  {
   "cell_type": "code",
   "execution_count": null,
   "id": "61f8b2a0-6c79-463c-8a00-d7e66a8d514f",
   "metadata": {},
   "outputs": [],
   "source": [
    "Q2. What is nominal encoding? \n",
    "Ans:Nominal encoding is a technique used to represent categorical data with no inherent order. In this method, each unique category is assigned a unique integer or string."
   ]
  },
  {
   "cell_type": "code",
   "execution_count": null,
   "id": "5430610d-26e5-4f34-9a68-6bc132a52d27",
   "metadata": {},
   "outputs": [],
   "source": [
    "Q3. In what situations is nominal encoding preferred over one-hot encoding? Provide a practical example.\n",
    "Ans:Nominal Encoding vs. One-Hot Encoding: When to Choose Which\n",
    "Both nominal encoding and one-hot encoding are popular techniques for handling categorical data. However, there are specific scenarios where one might be preferred over the other.\n",
    "\n",
    "Nominal Encoding is Preferred When:\n",
    "Cardinality is high: When there are a large number of unique categories, one-hot encoding can create a high-dimensional feature space, which can lead to the curse of dimensionality. Nominal encoding can help to reduce the dimensionality.\n",
    "Categories have a natural order: If the categories have a meaningful order (e.g., \"Low,\" \"Medium,\" \"High\"), nominal encoding can capture this relationship. One-hot encoding treats all categories as equal.\n",
    "Example:\n",
    "Consider a dataset of customer reviews with a \"Rating\" column that can take values from 1 to 5. In this case, nominal encoding might be preferred over one-hot encoding because:\n",
    "\n",
    "Cardinality is low: There are only five possible values, so one-hot encoding would not create a high-dimensional feature space.\n",
    "Categories have a natural order: The ratings have a clear order from \"1\" (worst) to \"5\" (best). Nominal encoding can capture this order by assigning sequential integers.\n",
    "By using nominal encoding in this scenario, we can preserve the ordinal relationship between the ratings and potentially improve the performance of the machine learning model."
   ]
  },
  {
   "cell_type": "code",
   "execution_count": null,
   "id": "d215cefc-eaa5-41d5-bb4f-ea6abcc4fb2a",
   "metadata": {},
   "outputs": [],
   "source": [
    "Q4. Suppose you have a dataset containing categorical data with 5 unique values. Which encoding\n",
    "technique would you use to transform this data into a format suitable for machine learning algorithms?\n",
    "Explain why you made this choice.\n",
    "Ans:For a dataset with 5 unique categorical values, one-hot encoding would be a suitable choice.\n",
    "\n",
    "\n",
    "\n",
    "Low Cardinality: With only 5 unique values, the dimensionality of the feature space after one-hot encoding will be relatively low, making it computationally efficient for most machine learning algorithms.\n",
    "No Natural Order: If there no inherent order or hierarchy among the categories, one-hot encoding is a straightforward and effective way to represent them as binary vectors.\n",
    "Preserves Category Independence: One-hot encoding treats each category as independent, which is often desirable when the categories are mutually exclusive."
   ]
  },
  {
   "cell_type": "code",
   "execution_count": null,
   "id": "d2c8fc5f-8b77-4aeb-abe1-2fce3466c8e5",
   "metadata": {},
   "outputs": [],
   "source": [
    "Q5. In a machine learning project, you have a dataset with 1000 rows and 5 columns. Two of the columns\n",
    "are categorical, and the remaining three columns are numerical. If you were to use nominal encoding to\n",
    "transform the categorical data, how many new columns would be created? Show your calculations.\n",
    "Ans:Understanding the Problem:\n",
    "\n",
    "We have 2 categorical columns.\n",
    "Nominal encoding creates a new column for each unique value in the categorical column.\n",
    "Calculating New Columns:\n",
    "\n",
    "We need to know the total number of unique values in both categorical columns.\n",
    "\n",
    "Let's assume:\n",
    "\n",
    "Column 1 has 3 unique values (e.g., \"Red,\" \"Blue,\" \"Green\").\n",
    "Column 2 has 4 unique values (e.g., \"Small,\" \"Medium,\" \"Large,\" \"Extra Large\").\n",
    "Total new columns: 3 (from Column 1) + 4 (from Column 2) = 7 new columns."
   ]
  },
  {
   "cell_type": "code",
   "execution_count": null,
   "id": "f5043b75-4730-4201-a308-bb3e0cc5d0c6",
   "metadata": {},
   "outputs": [],
   "source": [
    "Q6. You are working with a dataset containing information about different types of animals, including their\n",
    "species, habitat, and diet. Which encoding technique would you use to transform the categorical data into\n",
    "a format suitable for machine learning algorithms? Justify your answer.\n",
    "Ans:For a dataset containing information about animals, such as species, habitat, and diet, one-hot encoding would be a suitable technique to transform the categorical data.\n",
    "\n",
    "\n",
    "\n",
    "No Natural Order: Categories like \"species,\" \"habitat,\" and \"diet\" typically don't have a clear hierarchical or ordinal relationship. One-hot encoding treats each category as independent, which is appropriate in this case.\n",
    "Preserves Category Independence: One-hot encoding ensures that the categories are treated as mutually exclusive, preventing unintended correlations or biases.\n",
    "Clarity and Interpretability: The resulting binary representation is easy to interpret and understand, making it easier to analyze the model's results."
   ]
  },
  {
   "cell_type": "code",
   "execution_count": null,
   "id": "976fdb23-2187-4f99-8499-7bb1e315ffe2",
   "metadata": {},
   "outputs": [],
   "source": [
    "Q7.You are working on a project that involves predicting customer churn for a telecommunications\n",
    "company. You have a dataset with 5 features, including the customer's gender, age, contract type,\n",
    "monthly charges, and tenure. Which encoding technique(s) would you use to transform the categorical\n",
    "data into numerical data? Provide a step-by-step explanation of how you would implement the encoding.\n",
    "Ans:"
   ]
  },
  {
   "cell_type": "code",
   "execution_count": 1,
   "id": "e5110c5d-3a21-46b4-86e0-33877ce055f7",
   "metadata": {},
   "outputs": [],
   "source": [
    "import pandas as pd\n",
    "from sklearn.preprocessing import OneHotEncoder, LabelEncoder\n",
    "data = pd.read_csv(\"customer_data.csv\")\n",
    "gender_encoder = OneHotEncoder(sparse=False, handle_unknown='ignore')\n",
    "gender_encoded = gender_encoder.fit_transform(data[[\"Gender\"]])\n",
    "gender_df = pd.DataFrame(gender_encoded, columns=[f\"Gender_{col}\" for col in gender_encoder.get_feature_names_out()])\n",
    "data.drop(\"Gender\", axis=1, inplace=True)\n",
    "data = pd.concat([data, gender_df], axis=1)\n",
    "contract_encoder = LabelEncoder()\n",
    "contract_encoder.fit(data[\"Contract Type\"])\n",
    "data[\"Contract Type\"] = contract_encoder.transform(data[\"Contract Type\"])\n",
    "contract_mapping = {\"Monthly\": 1, \"Yearly\": 2, \"Two-Year\": 3} \n",
    "data[\"Contract Type\"] = data[\"Contract Type\"].replace(contract_mapping)"
   ]
  },
  {
   "cell_type": "code",
   "execution_count": null,
   "id": "eee321a3-2860-46f2-866e-849d7fb5c526",
   "metadata": {},
   "outputs": [],
   "source": []
  },
  {
   "cell_type": "code",
   "execution_count": null,
   "id": "f41a2a6a-2417-4c29-8b1d-f63ac3bb13f6",
   "metadata": {},
   "outputs": [],
   "source": []
  }
 ],
 "metadata": {
  "kernelspec": {
   "display_name": "Python 3 (ipykernel)",
   "language": "python",
   "name": "python3"
  },
  "language_info": {
   "codemirror_mode": {
    "name": "ipython",
    "version": 3
   },
   "file_extension": ".py",
   "mimetype": "text/x-python",
   "name": "python",
   "nbconvert_exporter": "python",
   "pygments_lexer": "ipython3",
   "version": "3.12.1"
  }
 },
 "nbformat": 4,
 "nbformat_minor": 5
}
