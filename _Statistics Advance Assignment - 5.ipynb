{
 "cells": [
  {
   "cell_type": "code",
   "execution_count": null,
   "id": "250b01b6-5637-4ae7-a853-132c8cec096e",
   "metadata": {},
   "outputs": [],
   "source": [
    "Q1. Calculate the 95% confidence interval for a sample of data with a mean of 50 and a standard deviation\n",
    "of 5 using Python. Interpret the results.\n",
    "Ans:"
   ]
  },
  {
   "cell_type": "code",
   "execution_count": 1,
   "id": "38ec5cf3-ad66-4cb0-a014-57b41371c80c",
   "metadata": {},
   "outputs": [
    {
     "name": "stdout",
     "output_type": "stream",
     "text": [
      "95% Confidence Interval: (np.float64(49.02001800772997), np.float64(50.97998199227003))\n"
     ]
    }
   ],
   "source": [
    "import scipy.stats as stats\n",
    "\n",
    "def calculate_confidence_interval(sample_mean, sample_std, sample_size, confidence_level=0.95):\n",
    "  z_score = stats.norm.ppf(1 - (1 - confidence_level) / 2)\n",
    "  margin_of_error = z_score * (sample_std / sample_size**0.5)\n",
    "  lower_bound = sample_mean - margin_of_error\n",
    "  upper_bound = sample_mean + margin_of_error\n",
    "\n",
    "  return lower_bound, upper_bound\n",
    "sample_mean = 50\n",
    "sample_std = 5\n",
    "sample_size = 100\n",
    "lower_bound, upper_bound = calculate_confidence_interval(sample_mean, sample_std, sample_size)\n",
    "\n",
    "print(\"95% Confidence Interval:\", (lower_bound, upper_bound))"
   ]
  },
  {
   "cell_type": "code",
   "execution_count": null,
   "id": "40b129ab-17fa-452b-89b9-ae45a4a3e684",
   "metadata": {},
   "outputs": [],
   "source": [
    "Q2. Conduct a chi-square goodness of fit test to determine if the distribution of colors of M&Ms in a bag\n",
    "matches the expected distribution of 20% blue, 20% orange, 20% green, 10% yellow, 10% red, and 20%\n",
    "brown. Use Python to perform the test with a significance level of 0.05.\n",
    "Ans:"
   ]
  },
  {
   "cell_type": "code",
   "execution_count": 2,
   "id": "1881449a-ee97-408f-a7fb-8c65f55e69d5",
   "metadata": {},
   "outputs": [
    {
     "name": "stdout",
     "output_type": "stream",
     "text": [
      "Chi-Square Statistic: 3.3\n",
      "P-Value: 0.6538416823944544\n",
      "Degrees of Freedom: 5\n"
     ]
    },
    {
     "ename": "NameError",
     "evalue": "name 'significance_level' is not defined",
     "output_type": "error",
     "traceback": [
      "\u001b[1;31m---------------------------------------------------------------------------\u001b[0m",
      "\u001b[1;31mNameError\u001b[0m                                 Traceback (most recent call last)",
      "Cell \u001b[1;32mIn[2], line 41\u001b[0m\n\u001b[0;32m     38\u001b[0m \u001b[38;5;28mprint\u001b[39m(\u001b[38;5;124m\"\u001b[39m\u001b[38;5;124mDegrees of Freedom:\u001b[39m\u001b[38;5;124m\"\u001b[39m, degrees_of_freedom)\n\u001b[0;32m     40\u001b[0m \u001b[38;5;66;03m# Conclusion\u001b[39;00m\n\u001b[1;32m---> 41\u001b[0m \u001b[38;5;28;01mif\u001b[39;00m p_value \u001b[38;5;241m<\u001b[39m \u001b[43msignificance_level\u001b[49m:\n\u001b[0;32m     42\u001b[0m   \u001b[38;5;28mprint\u001b[39m(\u001b[38;5;124m\"\u001b[39m\u001b[38;5;124mReject the null hypothesis. The distribution of M&M colors is significantly different from the expected distribution.\u001b[39m\u001b[38;5;124m\"\u001b[39m)\n\u001b[0;32m     43\u001b[0m \u001b[38;5;28;01melse\u001b[39;00m:\n",
      "\u001b[1;31mNameError\u001b[0m: name 'significance_level' is not defined"
     ]
    }
   ],
   "source": [
    "import scipy.stats as stats\n",
    "\n",
    "def chi_square_goodness_of_fit(observed_counts, expected_proportions, significance_level=0.05):\n",
    "  expected_counts = [proportion * sum(observed_counts) for proportion in expected_proportions]\n",
    "  chi_square_stat, p_value = stats.chisquare(observed_counts, expected_counts)\n",
    "  degrees_of_freedom = len(observed_counts) - 1\n",
    "\n",
    "  return chi_square_stat, p_value, degrees_of_freedom\n",
    "observed_counts = [20, 15, 25, 12, 8, 20]\n",
    "expected_proportions = [0.2, 0.2, 0.2, 0.1, 0.1, 0.2]\n",
    "chi_square_stat, p_value, degrees_of_freedom = chi_square_goodness_of_fit(observed_counts, expected_proportions)\n",
    "print(\"Chi-Square Statistic:\", chi_square_stat)\n",
    "print(\"P-Value:\", p_value)\n",
    "print(\"Degrees of Freedom:\", degrees_of_freedom)\n",
    "if p_value < significance_level:\n",
    "  print(\"Reject the null hypothesis. The distribution of M&M colors is significantly different from the expected distribution.\")\n",
    "else:\n",
    "  print(\"Fail to reject the null hypothesis. There is no significant difference between the observed and expected distributions.\")"
   ]
  },
  {
   "cell_type": "code",
   "execution_count": null,
   "id": "a819fc6d-250d-4e28-930b-0ceea43df882",
   "metadata": {},
   "outputs": [],
   "source": [
    "Q4. A study of the prevalence of smoking in a population of 500 individuals found that 60 individuals\n",
    "smoked. Use Python to calculate the 95% confidence interval for the true proportion of individuals in the\n",
    "population who smoke.\n",
    "Ans:"
   ]
  },
  {
   "cell_type": "code",
   "execution_count": 3,
   "id": "0901195c-281b-43ae-aa91-80e6a5008433",
   "metadata": {},
   "outputs": [
    {
     "name": "stdout",
     "output_type": "stream",
     "text": [
      "95% Confidence Interval: (np.float64(0.09151638887130707), np.float64(0.1484836111286929))\n"
     ]
    }
   ],
   "source": [
    "import scipy.stats as stats\n",
    "\n",
    "def calculate_proportion_confidence_interval(sample_size, observed_successes, confidence_level=0.95):\n",
    "  sample_proportion = observed_successes / sample_size\n",
    "  z_score = stats.norm.ppf(1 - (1 - confidence_level) / 2)\n",
    "  standard_error = (sample_proportion * (1 - sample_proportion) / sample_size)**0.5\n",
    "  margin_of_error = z_score * standard_error\n",
    "  lower_bound = sample_proportion - margin_of_error\n",
    "  upper_bound = sample_proportion + margin_of_error\n",
    "\n",
    "  return lower_bound, upper_bound\n",
    "sample_size = 500\n",
    "observed_successes = 60\n",
    "lower_bound, upper_bound = calculate_proportion_confidence_interval(sample_size, observed_successes)\n",
    "print(\"95% Confidence Interval:\", (lower_bound, upper_bound))"
   ]
  },
  {
   "cell_type": "code",
   "execution_count": null,
   "id": "3ea2db6a-e420-4a15-af15-4792e89543ac",
   "metadata": {},
   "outputs": [],
   "source": [
    "import scipy.stats as stats\n",
    "\n",
    "def calculate_proportion_confidence_interval(sample_size, observed_successes, confidence_level=0.95):\n",
    "  \"\"\"Calculates the confidence interval for a proportion.\n",
    "\n",
    "  Args:\n",
    "    sample_size: The sample size.\n",
    "    observed_successes: The number of observed successes.\n",
    "    confidence_level: The desired confidence level (default: 0.95).\n",
    "\n",
    "  Returns:\n",
    "    A tuple containing the lower and upper bounds of the confidence interval.\n",
    "  \"\"\"\n",
    "\n",
    "  # Calculate the sample proportion\n",
    "  sample_proportion = observed_successes / sample_size\n",
    "\n",
    "  # Calculate the z-score for the given confidence level\n",
    "  z_score = stats.norm.ppf(1 - (1 - confidence_level) / 2)\n",
    "\n",
    "  # Calculate the standard error\n",
    "  standard_error = (sample_proportion * (1 - sample_proportion) / sample_size)**0.5\n",
    "\n",
    "  # Calculate the margin of error\n",
    "  margin_of_error = z_score * standard_error\n",
    "\n",
    "  # Calculate the lower and upper bounds\n",
    "  lower_bound = sample_proportion - margin_of_error\n",
    "  upper_bound = sample_proportion + margin_of_error\n",
    "\n",
    "  return lower_bound, upper_bound\n",
    "\n",
    "# Sample data\n",
    "sample_size = 500\n",
    "observed_successes = 60\n",
    "\n",
    "# Calculate the 95% confidence interval\n",
    "lower_bound, upper_bound = calculate_proportion_confidence_interval(sample_size, observed_successes)\n",
    "\n",
    "print(\"95% Confidence Interval:\", (lower_bound, upper_bound))\n"
   ]
  },
  {
   "cell_type": "code",
   "execution_count": null,
   "id": "0f7ce280-b79c-4d0b-8452-b45966fc8265",
   "metadata": {},
   "outputs": [],
   "source": [
    "Q5. Calculate the 90% confidence interval for a sample of data with a mean of 75 and a standard deviation\n",
    "of 12 using Python. Interpret the results.\n",
    "ANs:"
   ]
  },
  {
   "cell_type": "code",
   "execution_count": 4,
   "id": "88ab71a6-4499-4ca7-a2c3-40111e4f1ea1",
   "metadata": {},
   "outputs": [
    {
     "name": "stdout",
     "output_type": "stream",
     "text": [
      "90% Confidence Interval: (np.float64(73.02617564765823), np.float64(76.97382435234177))\n"
     ]
    }
   ],
   "source": [
    "import scipy.stats as stats\n",
    "\n",
    "def calculate_confidence_interval(sample_mean, sample_std, sample_size, confidence_level=0.95):\n",
    "  z_score = stats.norm.ppf(1 - (1 - confidence_level) / 2)\n",
    "  margin_of_error = z_score * (sample_std / sample_size**0.5)\n",
    "  lower_bound = sample_mean - margin_of_error\n",
    "  upper_bound = sample_mean + margin_of_error\n",
    "\n",
    "  return lower_bound, upper_bound\n",
    "sample_mean = 75\n",
    "sample_std = 12\n",
    "sample_size = 100 \n",
    "lower_bound, upper_bound = calculate_confidence_interval(sample_mean, sample_std, sample_size, confidence_level=0.90)\n",
    "print(\"90% Confidence Interval:\", (lower_bound, upper_bound))"
   ]
  },
  {
   "cell_type": "code",
   "execution_count": null,
   "id": "0204d935-c36c-4b63-821a-8caeb34eeecf",
   "metadata": {},
   "outputs": [],
   "source": [
    "Q6. Use Python to plot the chi-square distribution with 10 degrees of freedom. Label the axes and shade the\n",
    "area corresponding to a chi-square statistic of 15."
   ]
  },
  {
   "cell_type": "code",
   "execution_count": 6,
   "id": "bf8cb291-b409-46ab-a012-3e764afee254",
   "metadata": {},
   "outputs": [
    {
     "data": {
      "image/png": "[encoded data removed]",
      "text/plain": [
       "<Figure size 1000x600 with 1 Axes>"
      ]
     },
     "metadata": {},
     "output_type": "display_data"
    }
   ],
   "source": [
    "import matplotlib.pyplot as plt\n",
    "import scipy.stats as stats\n",
    "import numpy as np\n",
    "df = 10\n",
    "x = 15\n",
    "x_values = stats.chi2.ppf(np.linspace(0.001, 0.999, 1000), df)\n",
    "y_values = stats.chi2.pdf(x_values, df)\n",
    "plt.figure(figsize=(10, 6))\n",
    "plt.plot(x_values, y_values, label='Chi-Square Distribution (df=10)')\n",
    "x_shade = x_values[x_values <= x]\n",
    "y_shade = stats.chi2.pdf(x_shade, df)\n",
    "plt.fill_between(x_shade, y_shade, color='orange', alpha=0.5)\n",
    "plt.xlabel('Chi-Square Statistic')\n",
    "plt.ylabel('Probability Density')\n",
    "plt.title('Chi-Square Distribution with 10 Degrees of Freedom')\n",
    "plt.legend()\n",
    "plt.show()"
   ]
  },
  {
   "cell_type": "code",
   "execution_count": null,
   "id": "0d96a6e3-c282-481c-9503-55cc35ea49df",
   "metadata": {},
   "outputs": [],
   "source": [
    "Q7. A random sample of 1000 people was asked if they preferred Coke or Pepsi. Of the sample, 520\n",
    "preferred Coke. Calculate a 99% confidence interval for the true proportion of people in the population who\n",
    "prefer Coke.\n",
    "Ans:Calculating the 99% Confidence Interval for the Proportion of People Preferring Coke\n",
    "Given:\n",
    "\n",
    "Sample size (n) = 1000\n",
    "Number of people preferring Coke (x) = 520\n",
    "Sample proportion (p̂):\n",
    "\n",
    "p̂ = x / n = 520 / 1000 = 0.52\n",
    "Confidence level: 99%\n",
    "\n",
    "Finding the Z-score:\n",
    "For a 99% confidence level, the Z-score is approximately 2.576.\n",
    "\n",
    "Formula for the confidence interval of a proportion:\n",
    "\n",
    "CI = p̂ ± Z * √(p̂ * (1 - p̂) / n)\n",
    "Substituting the values:\n",
    "\n",
    "CI = 0.52 ± 2.576 * √(0.52 * (1 - 0.52) / 1000)\n",
    "   ≈ 0.52 ± 2.576 * 0.0158\n",
    "   ≈ 0.52 ± 0.0407\n",
    "Therefore, the 99% confidence interval for the true proportion of people in the population who prefer Coke is approximately (0.4793, 0.5607)."
   ]
  },
  {
   "cell_type": "code",
   "execution_count": null,
   "id": "55a77859-3c3c-467e-859e-a1263a892c49",
   "metadata": {},
   "outputs": [],
   "source": [
    "Q8. A researcher hypothesizes that a coin is biased towards tails. They flip the coin 100 times and observe\n",
    "45 tails. Conduct a chi-square goodness of fit test to determine if the observed frequencies match the\n",
    "expected frequencies of a fair coin. Use a significance level of 0.05.\n",
    "Ans:"
   ]
  },
  {
   "cell_type": "code",
   "execution_count": null,
   "id": "034dd4de-ea6d-49e9-a052-4e8eed64a303",
   "metadata": {},
   "outputs": [],
   "source": []
  },
  {
   "cell_type": "code",
   "execution_count": null,
   "id": "7151113b-3c8b-414f-88b0-771864078c70",
   "metadata": {},
   "outputs": [],
   "source": []
  },
  {
   "cell_type": "code",
   "execution_count": null,
   "id": "08dd3560-0151-4657-8c30-4785e25b6183",
   "metadata": {},
   "outputs": [],
   "source": []
  }
 ],
 "metadata": {
  "kernelspec": {
   "display_name": "Python 3 (ipykernel)",
   "language": "python",
   "name": "python3"
  },
  "language_info": {
   "codemirror_mode": {
    "name": "ipython",
    "version": 3
   },
   "file_extension": ".py",
   "mimetype": "text/x-python",
   "name": "python",
   "nbconvert_exporter": "python",
   "pygments_lexer": "ipython3",
   "version": "3.12.1"
  }
 },
 "nbformat": 4,
 "nbformat_minor": 5
}
