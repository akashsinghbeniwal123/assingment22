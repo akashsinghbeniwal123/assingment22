{
 "cells": [
  {
   "cell_type": "code",
   "execution_count": null,
   "id": "c5e8287b-648b-489a-8689-827052395728",
   "metadata": {},
   "outputs": [],
   "source": [
    "Q1: What is Estimation Statistics? Explain point estimate and interval estimate.\n",
    "Ans:Estimation Statistics\n",
    "Estimation statistics is a branch of statistics that deals with estimating unknown population parameters based on sample data. It involves using sample information to make inferences about the larger population.   \n",
    "\n",
    "Point Estimate\n",
    "A point estimate is a single value that is used to estimate an unknown population parameter. For example, the sample mean can be used as a point estimate for the population mean. Point estimates provide a single value to represent the population parameter, but they do not provide information about the uncertainty associated with the estimate.\n",
    "\n",
    "Interval Estimate\n",
    "An interval estimate is a range of values that is likely to contain the unknown population parameter. This range is known as a confidence interval. Confidence intervals provide a measure of uncertainty around the point estimate. They indicate the range of values within which the population parameter is likely to fall with a specified level of confidence"
   ]
  },
  {
   "cell_type": "code",
   "execution_count": null,
   "id": "6ef9817c-b3ca-40ef-b66d-b647f28fe084",
   "metadata": {},
   "outputs": [],
   "source": [
    "Q2. Write a Python function to estimate the population mean using a sample mean and standard\n",
    "deviation.\n",
    "Ans:"
   ]
  },
  {
   "cell_type": "code",
   "execution_count": 1,
   "id": "d0e770c9-00ff-4fb4-8213-7a28fec40735",
   "metadata": {},
   "outputs": [],
   "source": [
    "import math\n",
    "\n",
    "def estimate_population_mean(sample_mean, sample_std_dev, sample_size, confidence_level=0.95):\n",
    "  standard_error = sample_std_dev / math.sqrt(sample_size)\n",
    "  z_score = 1.96  \n",
    "  margin_of_error = z_score * standard_error\n",
    "  lower_bound = sample_mean - margin_of_error\n",
    "  upper_bound = sample_mean + margin_of_error\n",
    "\n",
    "  return sample_mean, (lower_bound, upper_bound)"
   ]
  },
  {
   "cell_type": "code",
   "execution_count": 2,
   "id": "9fa10670-8650-4b5e-bbb6-1b0f3aebdbc5",
   "metadata": {},
   "outputs": [
    {
     "name": "stdout",
     "output_type": "stream",
     "text": [
      "Point Estimate: 100\n",
      "Interval Estimate: (95.8422121266231, 104.1577878733769)\n"
     ]
    }
   ],
   "source": [
    "sample_mean = 100\n",
    "sample_std_dev = 15\n",
    "sample_size = 50\n",
    "\n",
    "point_estimate, interval_estimate = estimate_population_mean(sample_mean, sample_std_dev, sample_size)\n",
    "print(\"Point Estimate:\", point_estimate)\n",
    "print(\"Interval Estimate:\", interval_estimate)"
   ]
  },
  {
   "cell_type": "code",
   "execution_count": null,
   "id": "089b26c1-fd79-4087-aee0-3cb2d5e29ae9",
   "metadata": {},
   "outputs": [],
   "source": [
    "Q3: What is Hypothesis testing? Why is it used? State the importance of Hypothesis testing.\n",
    "Ans:Hypothesis testing is a statistical method used to assess the validity of a claim or hypothesis about a population parameter. It involves setting up a null hypothesis (H₀) and an alternative hypothesis (H₁) and then using sample data to determine whether there is sufficient evidence to reject the null hypothesis.   \n",
    "\n",
    "Hypothesis Testing Used:\n",
    "\n",
    "Decision Making: Hypothesis testing helps in making informed decisions based on data. It provides a framework for evaluating claims and determining whether they are supported by evidence.\n",
    "Research: Hypothesis testing is a crucial tool in scientific research. It allows researchers to test theories, investigate relationships between variables, and draw conclusions about the significance of their findings.\n",
    "Quality Control: In industries like manufacturing, hypothesis testing is used to ensure that products meet quality standards by testing whether the observed characteristics are within acceptable limits.\n",
    "Policy Making: Governments and organizations use hypothesis testing to evaluate the effectiveness of policies and programs.\n",
    "Importance of Hypothesis Testing:\n",
    "\n",
    "Evidence-Based Decisions: Hypothesis testing promotes evidence-based decision-making by providing a systematic approach to evaluating claims.\n",
    "Scientific Inquiry: It is a fundamental tool in scientific research, enabling researchers to test hypotheses and advance knowledge.\n",
    "Quality Assurance: Hypothesis testing helps to maintain quality standards in various industries by identifying deviations from expected norms.\n",
    "Risk Management: It can be used to assess risks and make informed decisions in areas such as finance and healthca"
   ]
  },
  {
   "cell_type": "code",
   "execution_count": null,
   "id": "db194799-14d3-42d6-90ee-dd83e8c204d6",
   "metadata": {},
   "outputs": [],
   "source": [
    "Q4. Create a hypothesis that states whether the average weight of male college students is greater than\n",
    "the average weight of female college students.\n",
    "Ans:Null Hypothesis (H₀): The average weight of male college students is equal to or less than the average weight of female college students.\n",
    "\n",
    "Alternative Hypothesis (H₁): The average weight of male college students is greater than the average weight of female college students."
   ]
  },
  {
   "cell_type": "code",
   "execution_count": null,
   "id": "007e2f91-563c-40d0-ba2a-b80e3067d2b1",
   "metadata": {},
   "outputs": [],
   "source": [
    "Q5. Write a Python script to conduct a hypothesis test on the difference between two population means,\n",
    "given a sample from each population.\n",
    "Ans:"
   ]
  },
  {
   "cell_type": "code",
   "execution_count": 3,
   "id": "e0f1b7af-05fe-4553-90e8-ace895e667fb",
   "metadata": {},
   "outputs": [
    {
     "name": "stdout",
     "output_type": "stream",
     "text": [
      "T-statistic: 0.602167943595985\n",
      "P-value: 0.5637356255524366\n",
      "Conclusion: Fail to reject the null hypothesis. There is not enough evidence to suggest a difference in means.\n"
     ]
    }
   ],
   "source": [
    "import scipy.stats as stats\n",
    "\n",
    "def hypothesis_test_means(sample1, sample2, alpha=0.05):\n",
    "  t_statistic, p_value = stats.ttest_ind(sample1, sample2)\n",
    "  if p_value < alpha:\n",
    "    conclusion = \"Reject the null hypothesis. There is sufficient evidence to suggest a difference in means.\"\n",
    "  else:\n",
    "    conclusion = \"Fail to reject the null hypothesis. There is not enough evidence to suggest a difference in means.\"\n",
    "\n",
    "  return t_statistic, p_value, conclusion\n",
    "\n",
    "# Example usage:\n",
    "sample1 = [10, 12, 15, 18, 20]\n",
    "sample2 = [8, 11, 13, 16, 19]\n",
    "alpha = 0.05\n",
    "\n",
    "t_statistic, p_value, conclusion = hypothesis_test_means(sample1, sample2, alpha)\n",
    "print(\"T-statistic:\", t_statistic)\n",
    "print(\"P-value:\", p_value)\n",
    "print(\"Conclusion:\", conclusion)"
   ]
  },
  {
   "cell_type": "code",
   "execution_count": null,
   "id": "8e5d4948-2411-4dec-8c44-1601a7d41aab",
   "metadata": {},
   "outputs": [],
   "source": [
    "Q6: What is a null and alternative hypothesis? Give some examples.\n",
    "Ans:Null and Alternative Hypotheses:\n",
    "In hypothesis testing, the null hypothesis (H₀) is the statement of no effect, no difference, or no relationship between variables. It is the default assumption that we aim to test. The alternative hypothesis (H₁) is the statement that contradicts the null hypothesis. It is the claim we are trying to prove.\n",
    "\n",
    "Examples:\n",
    "\n",
    "Medical Research:\n",
    "H₀: A new drug has no effect on a disease.\n",
    "H₁: A new drug is effective in treating a disease.\n",
    "Education:\n",
    "H₀: There is no difference in test scores between students who received tutoring and those who did not.\n",
    "H₁: Students who received tutoring have higher test scores than those who did not.\n",
    "Business:\n",
    "H₀: There is no difference in sales between two marketing campaigns.\n",
    "H₁: Marketing campaign A is more effective than marketing campaign B.\n",
    "Social Sciences:\n",
    "H₀: There is no relationship between income and education level.\n",
    "H₁: Income increases with education level."
   ]
  },
  {
   "cell_type": "code",
   "execution_count": null,
   "id": "c19283f3-8146-4568-9c09-15d1e3e59d3f",
   "metadata": {},
   "outputs": [],
   "source": [
    "Q7: Write down the steps involved in hypothesis testing.\n",
    "Ans:Hypothesis testing is a statistical method used to assess the validity of a claim or hypothesis about a population parameter. Here are the general steps involved in hypothesis testing:   \n",
    "\n",
    "State the null and alternative hypotheses: Clearly define the null hypothesis (H₀) and the alternative hypothesis (H₁).   \n",
    "Set the significance level (α): Determine the desired level of significance (α) that represents the probability of rejecting the null hypothesis when it is actually true (Type I error). Common values for α are 0.05 and 0.01.\n",
    "Collect data: Gather a sample of data from the population of interest.\n",
    "Calculate the test statistic: Compute the appropriate test statistic based on the chosen hypothesis test (e.g., t-test, z-test, chi-square test).\n",
    "Determine the p-value: Find the p-value associated with the calculated test statistic. The p-value is the probability of observing a test statistic as extreme or more extreme than the calculated one, assuming the null hypothesis is true.   \n",
    "Compare p-value to α: If the p-value is less than or equal to α, reject the null hypothesis. If the p-value is greater than α, fail to reject the null hypothesis.\n",
    "Draw a conclusion: Based on the decision to reject or fail to reject the null hypothesis, draw a conclusion about the claim or hypothesis being tested."
   ]
  },
  {
   "cell_type": "code",
   "execution_count": null,
   "id": "a353cada-bff1-4cc1-87e4-f8dcb4744c40",
   "metadata": {},
   "outputs": [],
   "source": [
    "Q8. Define p-value and explain its significance in hypothesis testing.\n",
    "Ans:p-value is the probability of observing a test statistic as extreme or more extreme than the calculated one, assuming the null hypothesis is true. It provides a measure of evidence against the null hypothesis.   \n",
    "\n",
    "Significance of p-value in hypothesis testing:\n",
    "\n",
    "Decision-making: The p-value is used to determine whether to reject or fail to reject the null hypothesis. A low p-value indicates strong evidence against the null hypothesis, leading to its rejection. A high p-value suggests that there is not enough evidence to reject the null hypothesis.\n",
    "Strength of evidence: The magnitude of the p-value provides an indication of the strength of the evidence against the null hypothesis. A very low p-value (e.g., p < 0.01) suggests strong evidence, while a higher p-value (e.g., p > 0.05) indicates weaker evidence."
   ]
  },
  {
   "cell_type": "code",
   "execution_count": null,
   "id": "e6bd8910-23e1-4415-aa22-bc7243bf5ef6",
   "metadata": {},
   "outputs": [],
   "source": [
    "Q9. Generate a Student's t-distribution plot using Python's matplotlib library, with the degrees of freedom\n",
    "parameter set to 10.\n",
    "Ans:"
   ]
  },
  {
   "cell_type": "code",
   "execution_count": 5,
   "id": "44e8ff9b-6252-497b-8324-57ae5bf51217",
   "metadata": {},
   "outputs": [
    {
     "data": {
      "image/png": "[encoded data removed]",
      "text/plain": [
       "<Figure size 640x480 with 1 Axes>"
      ]
     },
     "metadata": {},
     "output_type": "display_data"
    }
   ],
   "source": [
    "import matplotlib.pyplot as plt\n",
    "import scipy.stats as stats\n",
    "import numpy as np\n",
    "df = 10\n",
    "x = np.linspace(stats.t.ppf(0.001, df), stats.t.ppf(0.999, df), 100)\n",
    "y = stats.t.pdf(x, df)\n",
    "plt.plot(x, y, label='Student\\'s t-distribution (df=10)')\n",
    "plt.xlabel('t-value')\n",
    "plt.ylabel('Probability Density')\n",
    "plt.title('Student\\'s t-distribution')\n",
    "plt.legend()\n",
    "plt.show()"
   ]
  },
  {
   "cell_type": "code",
   "execution_count": null,
   "id": "1130fa77-6492-4e6a-93b2-8505b0d340a9",
   "metadata": {},
   "outputs": [],
   "source": [
    "Q10. Write a Python program to calculate the two-sample t-test for independent samples, given two\n",
    "random samples of equal size and a null hypothesis that the population means are equal.\n",
    "Ans:"
   ]
  },
  {
   "cell_type": "code",
   "execution_count": 6,
   "id": "e2b1f04c-d5e4-4d1d-951f-8760274d91fe",
   "metadata": {},
   "outputs": [
    {
     "name": "stdout",
     "output_type": "stream",
     "text": [
      "T-statistic: 0.602167943595985\n",
      "P-value: 0.5637356255524366\n",
      "Conclusion: Fail to reject the null hypothesis. There is not enough evidence to suggest a difference in means.\n"
     ]
    }
   ],
   "source": [
    "import scipy.stats as stats\n",
    "\n",
    "def two_sample_t_test(sample1, sample2, alpha=0.05):\n",
    "  t_statistic, p_value = stats.ttest_ind(sample1, sample2)\n",
    "  if p_value < alpha:\n",
    "    conclusion = \"Reject the null hypothesis. There is sufficient evidence to suggest a difference in means.\"\n",
    "  else:\n",
    "    conclusion = \"Fail to reject the null hypothesis. There is not enough evidence to suggest a difference in means.\"\n",
    "  return t_statistic, p_value, conclusion\n",
    "sample1 = [10, 12, 15, 18, 20]\n",
    "sample2 = [8, 11, 13, 16, 19]\n",
    "alpha = 0.05\n",
    "\n",
    "t_statistic, p_value, conclusion = two_sample_t_test(sample1, sample2, alpha)\n",
    "print(\"T-statistic:\", t_statistic)\n",
    "print(\"P-value:\", p_value)\n",
    "print(\"Conclusion:\", conclusion)"
   ]
  },
  {
   "cell_type": "code",
   "execution_count": null,
   "id": "5f16be53-09c6-4849-af07-b7ec0dc8ee0a",
   "metadata": {},
   "outputs": [],
   "source": [
    "Q11: What is Student’s t distribution? When to use the t-Distribution.\n",
    "Ans:Student t-distribution is a probability distribution that resembles a normal distribution but has heavier tails, especially for smaller sample sizes. It is used when the population standard deviation is unknown and must be estimated from the sample.\n",
    "\n",
    "When to use the t-distribution:\n",
    "\n",
    "Unknown population standard deviation: When the population standard deviation is unknown, the t-distribution is used instead of the normal distribution to calculate confidence intervals and conduct hypothesis tests.   \n",
    "Small sample sizes: The t-distribution is particularly useful for small sample sizes (typically less than 30), as it accounts for the additional uncertainty introduced by estimating the population standard deviation from the sample.   \n",
    "Inference about means: The t-distribution is used for making inferences about population means, such as conducting t-tests to compare means between two groups or testing hypotheses about a single mean."
   ]
  },
  {
   "cell_type": "code",
   "execution_count": null,
   "id": "2ed62dc3-82dc-462a-9038-8fbefad2af32",
   "metadata": {},
   "outputs": [],
   "source": [
    "Q12: What is t-statistic? State the formula for t-statistic.\n",
    "Ans:t-statistic is a standardized value that measures the difference between a sample mean and a population mean relative to the standard error of the mean. It is used in hypothesis testing and confidence interval construction when the population standard deviation is unknown.   \n",
    "\n",
    "Formula for t-statistic:\n",
    "\n",
    "t = (x̄ - μ) / (s / √n)"
   ]
  },
  {
   "cell_type": "code",
   "execution_count": null,
   "id": "8bbb4418-3880-4926-b9bb-3da303e89197",
   "metadata": {},
   "outputs": [],
   "source": [
    "Q13. A coffee shop owner wants to estimate the average daily revenue for their shop. They take a random\n",
    "sample of 50 days and find the sample mean revenue to be $500 with a standard deviation of $50.\n",
    "Estimate the population mean revenue with a 95% confidence interval."
   ]
  },
  {
   "cell_type": "code",
   "execution_count": null,
   "id": "5724088b-5780-4169-8114-9c809f66b1cf",
   "metadata": {},
   "outputs": [],
   "source": [
    "Q14. A researcher hypothesizes that a new drug will decrease blood pressure by 10 mmHg. They conduct a\n",
    "clinical trial with 100 patients and find that the sample mean decrease in blood pressure is 8 mmHg with a\n",
    "standard deviation of 3 mmHg. Test the hypothesis with a significance level of 0.05.\n",
    "Ans:Hypothesis Testing for the New Drug\n",
    "Step 1: State the hypotheses:\n",
    "\n",
    "Null Hypothesis (H₀): The average decrease in blood pressure is 10 mmHg.\n",
    "Alternative Hypothesis (H₁): The average decrease in blood pressure is less than 10 mmHg.\n",
    "Step 2: Calculate the t-statistic:\n",
    "\n",
    "Using the formula for the t-statistic:\n",
    "\n",
    "t = (x̄ - μ) / (s / √n)\n",
    "where:\n",
    "\n",
    "x̄ = 8 mmHg (sample mean)\n",
    "μ = 10 mmHg (hypothesized population mean)\n",
    "s = 3 mmHg (sample standard deviation)\n",
    "n = 100 (sample size)\n",
    "t = (8 - 10) / (3 / √100) = -6.67\n",
    "Step 3: Find the p-value:\n",
    "\n",
    "Using a t-distribution table or statistical software, we find that the p-value associated with a t-statistic of -6.67 and 99 degrees of freedom is very small, likely less than 0.001.\n",
    "\n",
    "Step 4: Compare the p-value to the significance level:\n",
    "\n",
    "Since the p-value is much smaller than the significance level of 0.05, we reject the null hypothesis."
   ]
  },
  {
   "cell_type": "code",
   "execution_count": null,
   "id": "9db9daab-8311-4e26-acb3-66121ed1f2ff",
   "metadata": {},
   "outputs": [],
   "source": [
    "Q15. An electronics company produces a certain type of product with a mean weight of 5 pounds and a\n",
    "standard deviation of 0.5 pounds. A random sample of 25 products is taken, and the sample mean weight\n",
    "is found to be 4.8 pounds. Test the hypothesis that the true mean weight of the products is less than 5\n",
    "pounds with a significance level of 0.01.\n",
    "Ans:Step 1: State the hypotheses:\n",
    "\n",
    "Null Hypothesis (H₀): The true mean weight of the products is 5 pounds.\n",
    "Alternative Hypothesis (H₁): The true mean weight of the products is less than 5 pounds.   \n",
    "Step 2: Calculate the z-score:\n",
    "\n",
    "Since we know the population standard deviation, we can use the z-test.\n",
    "\n",
    "z = (x̄ - μ) / (σ / √n)\n",
    "where:\n",
    "\n",
    "x̄ = 4.8 pounds (sample mean)\n",
    "μ = 5 pounds (hypothesized population mean)\n",
    "σ = 0.5 pounds (population standard deviation)\n",
    "n = 25 (sample size)\n",
    "z = (4.8 - 5) / (0.5 / √25) = -2\n",
    "Step 3: Find the p-value:\n",
    "\n",
    "Using a standard normal distribution table or statistical software, we find that the p-value associated with a z-score of -2 is approximately 0.0228.\n",
    "\n",
    "Step 4: Compare the p-value to the significance level:\n",
    "\n",
    "Since the p-value (0.0228) is greater than the significance level of 0.01, we fail to reject the null hypothesis.\n"
   ]
  },
  {
   "cell_type": "code",
   "execution_count": null,
   "id": "c37a4fad-3efb-4ea8-a40e-9e887de75b85",
   "metadata": {},
   "outputs": [],
   "source": [
    "Q16. Two groups of students are given different study materials to prepare for a test. The first group (n1 =\n",
    "30) has a mean score of 80 with a standard deviation of 10, and the second group (n2 = 40) has a mean\n",
    "score of 75 with a standard deviation of 8. Test the hypothesis that the population means for the two\n",
    "groups are equal with a significance level of 0.01.\n",
    "Ans:Step 1: State the hypotheses:\n",
    "\n",
    "Null Hypothesis (H₀): The population means for the two groups are equal.\n",
    "Alternative Hypothesis (H₁): The population means for the two groups are not equal.   \n",
    "Step 2: Calculate the pooled standard deviation:\n",
    "\n",
    "sp = √((s1² * (n1 - 1) + s2² * (n2 - 1)) / (n1 + n2 - 2))\n",
    "where:\n",
    "\n",
    "s1 is the standard deviation of group 1\n",
    "n1 is the sample size of group 1\n",
    "s2 is the standard deviation of group 2\n",
    "n2 is the sample size of group 2\n",
    "sp = √((10² * (30 - 1) + 8² * (40 - 1)) / (30 + 40 - 2)) ≈ 9.14\n",
    "Step 3: Calculate the t-statistic:\n",
    "\n",
    "t = (x̄1 - x̄2) / (sp * √(1/n1 + 1/n2))\n",
    "where:\n",
    "\n",
    "x̄1 is the sample mean of group 1\n",
    "x̄2 is the sample mean of group 2\n",
    "t = (80 - 75) / (9.14 * √(1/30 + 1/40)) ≈ 2.20\n",
    "Step 4: Determine the degrees of freedom:\n",
    "\n",
    "df = n1 + n2 - 2 = 30 + 40 - 2 = 68\n",
    "Step 5: Find the p-value:\n",
    "\n",
    "Using a t-distribution table or statistical software, we find that the p-value associated with a t-statistic of 2.20 and 68 degrees of freedom is approximately 0.031.\n",
    "\n",
    "Step 6: Compare the p-value to the significance level:\n",
    "\n",
    "Since the p-value (0.031) is less than the significance level of 0.01, we reject the null hypothesis."
   ]
  },
  {
   "cell_type": "code",
   "execution_count": null,
   "id": "17bdfc25-1022-4724-b50a-879ba474de21",
   "metadata": {},
   "outputs": [],
   "source": [
    "Q17. A marketing company wants to estimate the average number of ads watched by viewers during a TV\n",
    "program. They take a random sample of 50 viewers and find that the sample mean is 4 with a standard\n",
    "deviation of 1.5. Estimate the population mean with a 99% confidence interval."
   ]
  },
  {
   "cell_type": "code",
   "execution_count": null,
   "id": "84c54e13-89db-4d38-83cf-3f381411b90a",
   "metadata": {},
   "outputs": [],
   "source": []
  }
 ],
 "metadata": {
  "kernelspec": {
   "display_name": "Python 3 (ipykernel)",
   "language": "python",
   "name": "python3"
  },
  "language_info": {
   "codemirror_mode": {
    "name": "ipython",
    "version": 3
   },
   "file_extension": ".py",
   "mimetype": "text/x-python",
   "name": "python",
   "nbconvert_exporter": "python",
   "pygments_lexer": "ipython3",
   "version": "3.12.1"
  }
 },
 "nbformat": 4,
 "nbformat_minor": 5
}
