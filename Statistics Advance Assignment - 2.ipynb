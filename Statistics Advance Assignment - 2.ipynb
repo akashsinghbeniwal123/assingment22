{
 "cells": [
  {
   "cell_type": "code",
   "execution_count": null,
   "id": "bad5d380-2a5c-4aea-8b31-2e7583f8e5cb",
   "metadata": {},
   "outputs": [],
   "source": [
    "Q1: What are the Probability Mass Function (PMF) and Probability Density Function (PDF)? Explain with\n",
    "an example.\n",
    "Ans:Probability Mass Function (PMF) and Probability Density Function (PDF)\n",
    "PMF and PDF are two fundamental concepts in probability theory used to describe the distribution of random variables. They differ based on whether the random variable is discrete or continuous.\n",
    "\n",
    "Probability Mass Function (PMF)\n",
    "Used for discrete random variables: A discrete random variable can take on a countable number of values.\n",
    "Defines the probability of each value: The PMF gives the probability that a discrete random variable will take on a specific value.\n",
    "Sum of probabilities: The sum of the PMF values for all possible values of the random variable must equal 1.\n",
    "Example:\n",
    "\n",
    "Consider a coin toss experiment. The random variable X representing the number of heads can take on values 0 or 1. The PMF for X would be:\n",
    "\n",
    "P(X = 0) = 0.5 (probability of getting no heads)\n",
    "P(X = 1) = 0.5 (probability of getting one head)\n",
    "Probability Density Function (PDF)\n",
    "Used for continuous random variables: A continuous random variable can take on any value within a continuous range.\n",
    "Defines the relative likelihood of values: The PDF does not give the exact probability of a specific value (as it's zero for continuous variables), but rather the relative likelihood of the variable being near that value.\n",
    "Integral of PDF: The integral of the PDF over its entire domain must equal 1.\n",
    "Example:\n",
    "\n",
    "Consider the height of people in a population. The height is a continuous random variable. The PDF would give the relative likelihood of a person's height being close to a specific value, such as 5 feet 10 inches."
   ]
  },
  {
   "cell_type": "code",
   "execution_count": null,
   "id": "851c3b07-5194-4fdb-9b1b-7cca7ddb088a",
   "metadata": {},
   "outputs": [],
   "source": [
    "Q2: What is Cumulative Density Function (CDF)? Explain with an example. Why CDF is used?\n",
    "Ans:CDF is a function that gives the probability that a random variable is less than or equal to a certain value. It's a non-decreasing function that starts at 0 and approaches 1 as the value of the random variable increases.\n",
    "\n",
    "Example:\n",
    "Consider a continuous random variable X representing the time it takes to finish a task. The CDF of X, denoted as F(x), would give the probability that the task is completed in less than or equal to x units of time.\n",
    "\n",
    "Why CDF is Used:\n",
    "Probability calculations: CDFs are used to calculate probabilities for various ranges of values. For instance, to find the probability that the task is completed between 30 and 60 minutes, we can calculate F(60) - F(30).\n",
    "Quantile calculations: CDFs help in finding quantiles or percentiles of a distribution. For example, to find the 75th percentile of the task completion time, we need to find the value x such that F(x) = 0.75.\n",
    "Distribution comparison: CDFs can be used to compare different probability distributions. If two distributions have the same CDF, they are identical.\n",
    "Statistical analysis: CDFs are used in various statistical analyses, such as hypothesis testing and confidence interval construction.\n"
   ]
  },
  {
   "cell_type": "code",
   "execution_count": null,
   "id": "9004570d-a88b-40fa-bcfb-0d8ef29339d3",
   "metadata": {},
   "outputs": [],
   "source": [
    "Q3: What are some examples of situations where the normal distribution might be used as a model?\n",
    "Explain how the parameters of the normal distribution relate to the shape of the distribution.\n",
    "Ans:Examples of Situations Where Normal Distribution is Used\n",
    "The normal distribution, often referred to as the Gaussian distribution or bell curve, is a widely used probability distribution in many fields. Here are some common examples of its applications:\n",
    "\n",
    "Height and weight: The heights and weights of people in a population often follow a normal distribution.\n",
    "Test scores: Standardized test scores like SAT or IQ scores are often normally distributed.\n",
    "Measurement errors: Errors in measurement instruments are frequently assumed to be normally distributed.\n",
    "Stock prices: The daily returns of stock prices are often modeled as normally distributed, although this assumption has been debated.\n",
    "Manufacturing processes: The dimensions of manufactured products can be normally distributed due to variations in the manufacturing process.\n",
    "Natural phenomena: Many natural phenomena, such as rainfall, temperature, and wind speed, exhibit normal distributions.\n",
    "Relationship Between Parameters and Shape\n",
    "A normal distribution is characterized by two parameters: the mean (μ) and the standard deviation (σ).\n",
    "\n",
    "Mean (μ): The mean determines the location of the center of the distribution. A higher mean shifts the distribution to the right, while a lower mean shifts it to the left.   \n",
    "Standard Deviation (σ): The standard deviation controls the spread of the distribution. A larger standard deviation results in a wider, flatter curve, while a smaller standard deviation results in a narrower, taller curve."
   ]
  },
  {
   "cell_type": "code",
   "execution_count": null,
   "id": "09b3b9c9-df15-4b04-aceb-c07d1000092c",
   "metadata": {},
   "outputs": [],
   "source": [
    "Q4: Explain the importance of Normal Distribution. Give a few real-life examples of Normal\n",
    "Distribution.\n",
    "\n",
    "Ans:Importance of Normal Distribution\n",
    "The normal distribution, also known as the Gaussian distribution or bell curve, is one of the most fundamental and widely used probability distributions in statistics and data analysis. Its importance stems from several key properties:   \n",
    "\n",
    "Central Limit Theorem: The Central Limit Theorem states that the distribution of the sample mean from a large sample size approaches a normal distribution, regardless of the underlying distribution of the population. This makes the normal distribution a powerful tool for statistical inference and hypothesis testing.\n",
    "Symmetry and Shape: The normal distribution is symmetric around its mean, making it easy to understand and interpret. Its characteristic bell shape provides a clear visual representation of the data's distribution.\n",
    "Mathematical Properties: The normal distribution has many desirable mathematical properties that make it easy to work with, such as its known mean, variance, and standard deviation.\n",
    "Real-World Applications: The normal distribution is a good model for many natural phenomena and human-made processes. It is used in various fields, including:\n",
    "Statistics: Hypothesis testing, confidence intervals, and regression analysis\n",
    "Physics: Modeling physical quantities like velocity, position, and temperature\n",
    "Engineering: Quality control, process optimization, and reliability analysis\n",
    "Finance: Modeling stock prices, returns, and risk\n",
    "Psychology: Studying personality traits, intelligence, and cognitive abilities\n",
    "Real-Life Examples of Normal Distribution\n",
    "Height and weight: The heights and weights of people in a population often follow a normal distribution.\n",
    "Test scores: Standardized test scores like SAT or IQ scores are frequently normally distributed.\n",
    "Measurement errors: Errors in measurement instruments are often assumed to be normally distributed.\n",
    "Manufacturing processes: The dimensions of manufactured products can be normally distributed due to variations in the manufacturing process.\n",
    "Natural phenomena: Many natural phenomena, such as rainfall, temperature, and wind speed, exhibit normal distributions."
   ]
  },
  {
   "cell_type": "code",
   "execution_count": null,
   "id": "9eaafa29-d7e4-4820-b446-3368d510105f",
   "metadata": {},
   "outputs": [],
   "source": [
    "Q5: What is Bernaulli Distribution? Give an Example. What is the difference between Bernoulli\n",
    "Distribution and Binomial Distribution?\n",
    "Ans:Bernoulli Distribution:\n",
    "Bernoulli Distribution is a discrete probability distribution that models a single binary outcome. It is used to represent experiments with only two possible outcomes, typically labeled as \"success\" and \"failure.\"\n",
    "\n",
    "Example:\n",
    "\n",
    "Flipping a coin: The outcome of a single coin flip can be modeled using a Bernoulli distribution. If we define \"heads\" as success, then the probability of success (p) is 0.5.\n",
    "Parameters:\n",
    "\n",
    "Probability of success (p): The probability of the \"success\" outcome.\n",
    "Probability of failure (q): The probability of the \"failure\" outcome, which is equal to 1 - p.\n",
    "Probability Mass Function (PMF):\n",
    "\n",
    "P(X = 1) = p (probability of success)\n",
    "P(X = 0) = q (probability of failure)\n",
    "Difference Between Bernoulli and Binomial Distributions\n",
    "While both Bernoulli and Binomial distributions deal with binary outcomes, they differ in the number of trials:\n",
    "\n",
    "Bernoulli Distribution: Models a single trial with two possible outcomes.\n",
    "Binomial Distribution: Models the number of successes in a fixed number (n) of independent Bernoulli trials."
   ]
  },
  {
   "cell_type": "code",
   "execution_count": null,
   "id": "30157bdc-185d-40b0-b3f8-571228c4e701",
   "metadata": {},
   "outputs": [],
   "source": [
    "Q6. Consider a dataset with a mean of 50 and a standard deviation of 10. If we assume that the dataset\n",
    "is normally distributed, what is the probability that a randomly selected observation will be greater\n",
    "than 60? Use the appropriate formula and show your calculations.\n",
    "Ans:"
   ]
  },
  {
   "cell_type": "code",
   "execution_count": null,
   "id": "6228d571-d6ca-44bc-a03d-70da4df66217",
   "metadata": {},
   "outputs": [],
   "source": [
    "Q7: Explain uniform Distribution with an example.\n",
    "Ans:Uniform Distribution is a continuous probability distribution where all outcomes within a specified range are equally likely. In other words, any value within the defined interval has the same probability of occurring.   \n",
    "\n",
    "Example:\n",
    "\n",
    "Rolling a fair die: The outcome of rolling a fair six-sided die is uniformly distributed. Each side has an equal probability of 1/6 of being rolled."
   ]
  },
  {
   "cell_type": "code",
   "execution_count": null,
   "id": "d4091fe6-5de1-4bf5-9d47-30cc173c3e11",
   "metadata": {},
   "outputs": [],
   "source": [
    "Q8: What is the z score? State the importance of the z score.\n",
    "Ans:Z-score is a standardized score that indicates how many standard deviations a data point is from the mean of a normally distributed dataset. It allows us to compare data points from different distributions and assess how unusual a particular value is within a given dataset.\n",
    "\n",
    "Importance of Z-Score:\n",
    "\n",
    "Standardization: Z-scores standardize data, making it easier to compare values from different distributions.\n",
    "Outlier detection: Z-scores can help identify outliers by looking for values with extremely high or low z-scores.\n",
    "Probability calculations: Z-scores can be used to calculate probabilities associated with specific ranges of values in a normal distribution using the standard normal distribution table."
   ]
  },
  {
   "cell_type": "code",
   "execution_count": null,
   "id": "9f0371b2-badc-45f6-a000-46218af594e3",
   "metadata": {},
   "outputs": [],
   "source": [
    "Q9: What is Central Limit Theorem? State the significance of the Central Limit Theorem.\n",
    "An:"
   ]
  },
  {
   "cell_type": "code",
   "execution_count": null,
   "id": "9bf2402e-7a9c-496b-8ede-9e564e7e8af2",
   "metadata": {},
   "outputs": [],
   "source": []
  },
  {
   "cell_type": "code",
   "execution_count": null,
   "id": "8f72bc47-d13a-4b19-a1f1-35b4fa43af33",
   "metadata": {},
   "outputs": [],
   "source": []
  }
 ],
 "metadata": {
  "kernelspec": {
   "display_name": "Python 3 (ipykernel)",
   "language": "python",
   "name": "python3"
  },
  "language_info": {
   "codemirror_mode": {
    "name": "ipython",
    "version": 3
   },
   "file_extension": ".py",
   "mimetype": "text/x-python",
   "name": "python",
   "nbconvert_exporter": "python",
   "pygments_lexer": "ipython3",
   "version": "3.12.1"
  }
 },
 "nbformat": 4,
 "nbformat_minor": 5
}
