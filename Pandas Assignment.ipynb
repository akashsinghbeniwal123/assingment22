{
 "cells": [
  {
   "cell_type": "code",
   "execution_count": null,
   "id": "b6edabf1-3f12-4b09-a7c2-0fbe770de09b",
   "metadata": {},
   "outputs": [],
   "source": [
    "Q1. Write a code to print the data present in the second row of the dataframe, df.\n",
    "import pandas as pd\n",
    "course_name = [‘Data Science’, ‘Machine Learning’, ‘Big Data’, ‘Data Engineer’]\n",
    "duration = [2,3,6,4]\n",
    "df = pd.DataFrame(data = {‘course_name’ : course_name, ‘duration’ : duration})"
   ]
  },
  {
   "cell_type": "code",
   "execution_count": null,
   "id": "c7b43e80-ac42-49fd-86b0-a8301595f36d",
   "metadata": {},
   "outputs": [],
   "source": [
    "print(df.iloc[1])"
   ]
  },
  {
   "cell_type": "code",
   "execution_count": null,
   "id": "64713bb3-d3d6-4a60-90dc-87796914618a",
   "metadata": {},
   "outputs": [],
   "source": [
    "Q2. What is the difference between the functions loc and iloc in pandas.DataFrame?\n",
    "Ans:\n",
    "\n",
    "loc:\n",
    "\n",
    "Label-based indexing: Uses column and row labels to select data.\n",
    "Can be used to select data based on conditions or boolean masks.\n",
    "Can select rows and columns simultaneously.\n",
    "\n",
    "    \n",
    "iloc:\n",
    "\n",
    "Integer-based indexing: Uses integer positions to select data.\n",
    "Starts from 0 for both rows and columns.\n",
    "Can be used to select data based on ranges or specific indices."
   ]
  },
  {
   "cell_type": "code",
   "execution_count": null,
   "id": "c8391e9a-fd29-4633-b193-d855f8212f6a",
   "metadata": {},
   "outputs": [],
   "source": [
    "Q3. Reindex the given dataframe using a variable, reindex = [3,0,1,2] and store it in the variable, new_df\n",
    "then find the output for both new_df.loc[2] and new_df.iloc[2]."
   ]
  },
  {
   "cell_type": "code",
   "execution_count": 3,
   "id": "36c1370d-0fa7-4090-93ff-b7e0d0f20ccb",
   "metadata": {},
   "outputs": [
    {
     "name": "stdout",
     "output_type": "stream",
     "text": [
      "new_df.loc[2]:\n",
      "course_name    Big Data\n",
      "duration              6\n",
      "Name: 2, dtype: object\n",
      "\n",
      "new_df.iloc[2]:\n",
      "course_name    Machine Learning\n",
      "duration                      3\n",
      "Name: 1, dtype: object\n"
     ]
    }
   ],
   "source": [
    "import pandas as pd\n",
    "course_name = ['Data Science', 'Machine Learning', 'Big Data', 'Data Engineer']\n",
    "duration = [2,3,6,4]\n",
    "df = pd.DataFrame(data = {'course_name' : course_name, 'duration' : duration})\n",
    "reindex = [3, 0, 1, 2]\n",
    "new_df = df.reindex(reindex)\n",
    "print(\"new_df.loc[2]:\")\n",
    "print(new_df.loc[2])\n",
    "\n",
    "print(\"\\nnew_df.iloc[2]:\")\n",
    "print(new_df.iloc[2])"
   ]
  },
  {
   "cell_type": "code",
   "execution_count": null,
   "id": "0dd2d239-142a-455b-a2e5-9a986bc8ccb8",
   "metadata": {},
   "outputs": [],
   "source": [
    "Q4. Write a code to find the following statistical measurements for the above dataframe df1:\n",
    "(i) mean of each and every column present in the dataframe.\n",
    "(ii) standard deviation of column, ‘column_2’."
   ]
  },
  {
   "cell_type": "code",
   "execution_count": null,
   "id": "656b72f0-fdf3-43a6-abde-9a97ae347d41",
   "metadata": {},
   "outputs": [],
   "source": [
    "mean_values = df1.mean()\n",
    "print(\"Mean values:\\n\", mean_values)\n",
    "\n",
    "std_dev = df[1'column_2'].std()\n",
    "print(\"Standard deviation of column_2:\", std_dev)"
   ]
  },
  {
   "cell_type": "code",
   "execution_count": null,
   "id": "2c4be90e-b874-4d53-9299-5213d05ea412",
   "metadata": {},
   "outputs": [],
   "source": [
    "Q5. Replace the data present in the second row of column, ‘column_2’ by a string variable then find the\n",
    "mean of column, column_2.\n",
    "If you are getting errors in executing it then explain why.\n",
    "[Hint: To replace the data use df1.loc[] and equate this to string data of your choice.]"
   ]
  },
  {
   "cell_type": "code",
   "execution_count": null,
   "id": "9fb8218a-1b80-4e91-91f4-eba9d3c9cf3a",
   "metadata": {},
   "outputs": [],
   "source": [
    "import pandas as pd\n",
    "df1.loc[1, 'column_2'] = 'new_value'\n",
    "try:\n",
    "    mean_value = df1['column_2'].mean()\n",
    "    print(\"Mean value:\", mean_value)\n",
    "except TypeError:\n",
    "    print(\"Cannot calculate mean with string values in the column.\")"
   ]
  },
  {
   "cell_type": "code",
   "execution_count": null,
   "id": "9fe176b1-5aa5-4a01-8e9c-a4ad9826ff15",
   "metadata": {},
   "outputs": [],
   "source": [
    "Q6. What do you understand about the windows function in pandas and list the types of windows\n",
    "functions?"
   ]
  },
  {
   "cell_type": "code",
   "execution_count": null,
   "id": "e4f379e8-db50-481d-91e1-7da21688c206",
   "metadata": {},
   "outputs": [],
   "source": [
    "Windows functions in Pandas are functions that operate on a sliding window of data within a Series or DataFrame. They allow you to perform calculations over subsets of data, making it easier to analyze trends, patterns, and relationships within your data.\n",
    "\n",
    "Types of window functions:\n",
    "\n",
    "Rolling: Computes a statistic over a fixed-size window that slides along the Series or DataFrame.\n",
    "Common functions: rolling.mean(), rolling.sum(), rolling.std(), rolling.corr()\n",
    "Expanding: Computes a statistic over a window that grows in size as you move through the Series or DataFrame.\n",
    "Common functions: expanding.mean(), expanding.sum(), expanding.std()\n",
    "EWM: Exponentially weighted moving window functions, where older observations are given less weight than more recent ones.\n",
    "Common functions: ewm.mean(), ewm.var(), ewm.corr()"
   ]
  },
  {
   "cell_type": "code",
   "execution_count": null,
   "id": "97603b3c-d04c-4d44-86b9-adc14e22d113",
   "metadata": {},
   "outputs": [],
   "source": [
    "Q7. Write a code to print only the current month and year at the time of answering this question.\n",
    "[Hint: Use pandas.datetime function]"
   ]
  },
  {
   "cell_type": "code",
   "execution_count": null,
   "id": "2b4fac78-1fed-4ec4-b17e-7df5c92ce661",
   "metadata": {},
   "outputs": [],
   "source": [
    "import pandas as pd\n",
    "current_datetime = pd.datetime.now()\n",
    "current_month = current_datetime.month_name()\n",
    "current_year = current_datetime.year\n",
    "\n",
    "# Print the current month and year\n",
    "print(\"Current month:\", current_month)\n",
    "print(\"Current year:\", current_year)"
   ]
  },
  {
   "cell_type": "code",
   "execution_count": null,
   "id": "96e5bb5e-a9b6-4f25-b22b-bf330adb280d",
   "metadata": {},
   "outputs": [],
   "source": [
    "Q8. Write a Python program that takes in two dates as input (in the format YYYY-MM-DD) and\n",
    "calculates the difference between them in days, hours, and minutes using Pandas time delta. The\n",
    "program should prompt the user to enter the dates and display the result."
   ]
  },
  {
   "cell_type": "code",
   "execution_count": null,
   "id": "e57d4609-69b3-4ea2-a991-8b5e75b0958d",
   "metadata": {},
   "outputs": [],
   "source": [
    "Ans: don"
   ]
  }
 ],
 "metadata": {
  "kernelspec": {
   "display_name": "Python 3 (ipykernel)",
   "language": "python",
   "name": "python3"
  },
  "language_info": {
   "codemirror_mode": {
    "name": "ipython",
    "version": 3
   },
   "file_extension": ".py",
   "mimetype": "text/x-python",
   "name": "python",
   "nbconvert_exporter": "python",
   "pygments_lexer": "ipython3",
   "version": "3.12.1"
  }
 },
 "nbformat": 4,
 "nbformat_minor": 5
}
