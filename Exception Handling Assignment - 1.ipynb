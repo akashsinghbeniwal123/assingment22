{
 "cells": [
  {
   "cell_type": "code",
   "execution_count": null,
   "id": "b7d3120b-cbd4-4531-be96-0d346669d052",
   "metadata": {},
   "outputs": [],
   "source": [
    "Q1. What is an Exception in python? Write the difference between Exceptions and Syntax errors.\n",
    "Ans:An exception in Python is an error that occurs during the execution of a program. It can be caused by various reasons such as invalid input, file not found, division by zero, or module import errors. When an exception occurs, the normal flow of the program is interrupted, and the Python interpreter attempts to handle the exception\n",
    "    Feature\tExceptions\tSyntax Errors\n",
    "Feature\t                                 Exceptions\t                                                               Syntax Errors\n",
    "Occurrence\t                           Occur during program execution\t                                           Detected by the Python interpreter before the program runs\n",
    "Cause\t                               Runtime errors, invalid input, file not found, etc.                         Incorrect syntax, missing keywords, typos\n",
    "Handling                               Can be handled using try...except blocks                                    Cannot be handled, prevent the program from running\n",
    "Example                                ZeroDivisionError, FileNotFoundError, TypeError\t                           SyntaxError, NameError, IndentationError\n"
   ]
  },
  {
   "cell_type": "code",
   "execution_count": 1,
   "id": "f6e289b8-ff05-4303-8f7f-ce20802f7531",
   "metadata": {},
   "outputs": [
    {
     "name": "stdin",
     "output_type": "stream",
     "text": [
      "Enter the first number:  1\n",
      "Enter the second number:  2\n"
     ]
    },
    {
     "name": "stdout",
     "output_type": "stream",
     "text": [
      "Result: 0.5\n"
     ]
    }
   ],
   "source": [
    "Q2. What happens when an exception is not handled? Explain with an example.\n",
    "Ans:This can be problematic, as it can leave the user with an incomplete or incorrect result, and it can make it difficult to debug the issue. Therefore, it's important to handle exceptions appropriately to prevent unexpected program termination and provide informative error messages to the user.\n",
    "\n",
    "try:\n",
    "    num1 = int(input(\"Enter the first number: \"))\n",
    "    num2 = int(input(\"Enter the second number: \"))\n",
    "    result = num1 / num2\n",
    "    print(\"Result:\", result)\n",
    "except ZeroDivisionError:\n",
    "    print(\"Error: Division by zero is not allowed.\")"
   ]
  },
  {
   "cell_type": "code",
   "execution_count": null,
   "id": "5a08cbc0-56a1-44f6-b392-4d13d97b7b62",
   "metadata": {},
   "outputs": [],
   "source": [
    "Q3. Which Python statements are used to catch and handle exceptions? Explain with an example.\n",
    "Ans:\n",
    "try:\n",
    "# Code that may raise an exception\n",
    "except ExceptionType:\n",
    "# Code to execute if the specified exception occurs\n",
    "else:\n",
    "# Code to execute if no exception occurs\n",
    "finally:\n",
    "# Code to execute regardless of whether an exception occurred"
   ]
  },
  {
   "cell_type": "code",
   "execution_count": null,
   "id": "cd093432-1c42-4458-8dd1-305b82c2e497",
   "metadata": {},
   "outputs": [],
   "source": [
    "Q4. Explain with an example:#\n",
    " try and else#\n",
    " finally\n",
    "+ raise\n"
   ]
  },
  {
   "cell_type": "code",
   "execution_count": null,
   "id": "54fa91fc-359d-4863-af5b-895930861baf",
   "metadata": {},
   "outputs": [],
   "source": [
    "try:\n",
    "    file = open(\"data.txt\", \"r\")\n",
    "    data = file.read()\n",
    "    print(data)\n",
    "except FileNotFoundError:\n",
    "    print(\"Error: File not found.\")\n",
    "finally:\n",
    "    if file:\n",
    "        file.close()"
   ]
  },
  {
   "cell_type": "code",
   "execution_count": null,
   "id": "56618918-efb9-433b-80f0-965bacd456e3",
   "metadata": {},
   "outputs": [],
   "source": [
    "try:\n",
    "    file = open(\"data.txt\", \"r\")\n",
    "    data = file.read()\n",
    "    print(data)\n",
    "except FileNotFoundError:\n",
    "    print(\"Error: File not found.\")\n",
    "finally:\n",
    "    if file:\n",
    "        file.close()"
   ]
  },
  {
   "cell_type": "code",
   "execution_count": 4,
   "id": "62f18318-cba3-4c19-9e7e-d4555fb96691",
   "metadata": {},
   "outputs": [
    {
     "name": "stdout",
     "output_type": "stream",
     "text": [
      "Error: Cannot divide by zero\n"
     ]
    }
   ],
   "source": [
    "def divide(x, y):\n",
    "    if y == 0:\n",
    "        raise ZeroDivisionError(\"Cannot divide by zero\")\n",
    "    return x / y\n",
    "\n",
    "try:\n",
    "    result = divide(10, 0)\n",
    "except ZeroDivisionError as e:\n",
    "    print(\"Error:\", e)"
   ]
  },
  {
   "cell_type": "code",
   "execution_count": null,
   "id": "08cfb5b8-7f04-4d1b-906c-14ca8f4134e9",
   "metadata": {},
   "outputs": [],
   "source": [
    "Q5. What are Custom Exceptions in python? Why do we need Custom Exceptions? Explain with an example.\n",
    "Ans:Custom exceptions are user-defined exceptions that can be created to represent specific error conditions that are not covered by Python's built-in exceptions. They provide a way to create more informative and specific error messages, making your code more readable and maintainable.\n",
    "\n",
    "Custom Exceptions are Needed:\n",
    "Clarity and Readability: Custom exceptions can make your code more readable by providing meaningful names and descriptions for specific error conditions.\n",
    "Better Error Handling: By defining custom exceptions, you can handle different error scenarios in a more granular way, providing tailored error messages and recovery mechanisms.\n",
    "Code Reusability: Custom exceptions can be reused across different parts of your code, promoting code modularity and reusability."
   ]
  },
  {
   "cell_type": "code",
   "execution_count": 5,
   "id": "dd72bce8-82b4-4d85-af79-3716cf09dadd",
   "metadata": {},
   "outputs": [
    {
     "name": "stdin",
     "output_type": "stream",
     "text": [
      "Enter your age:  21\n"
     ]
    },
    {
     "name": "stdout",
     "output_type": "stream",
     "text": [
      "Valid age.\n"
     ]
    }
   ],
   "source": [
    "class InvalidAgeError(Exception):\n",
    "    def __init__(self, message):\n",
    "        super().__init__(message)\n",
    "\n",
    "def check_age(age):\n",
    "    if age < 0:\n",
    "        raise InvalidAgeError(\"Age cannot be negative.\")\n",
    "    elif age > 120:\n",
    "        raise InvalidAgeError(\"Age cannot be greater than 120.\")\n",
    "\n",
    "try:\n",
    "    age = int(input(\"Enter your age: \"))\n",
    "    check_age(age)\n",
    "    print(\"Valid age.\")\n",
    "except InvalidAgeError as e:\n",
    "    print(\"Error:\", e)"
   ]
  },
  {
   "cell_type": "code",
   "execution_count": 7,
   "id": "524a3f2e-7b8a-47cc-b9df-2b71e299653e",
   "metadata": {},
   "outputs": [
    {
     "name": "stdin",
     "output_type": "stream",
     "text": [
      "Enter your age:  7\n"
     ]
    },
    {
     "name": "stdout",
     "output_type": "stream",
     "text": [
      "Valid age.\n"
     ]
    }
   ],
   "source": [
    "Q6. Create a custom exception class. Use this class to handle an exception.\n",
    "Ans:\n",
    "class InvalidAgeError(Exception):\n",
    "    def __init__(self, message):\n",
    "        super().__init__(message)\n",
    "\n",
    "def check_age(age):\n",
    "    if age < 0:\n",
    "        raise InvalidAgeError(\"Age cannot be negative.\")\n",
    "    elif age > 120:\n",
    "        raise InvalidAgeError(\"Age cannot be greater than 120.\")\n",
    "\n",
    "try:\n",
    "    age = int(input(\"Enter your age: \"))\n",
    "    check_age(age)\n",
    "    print(\"Valid age.\")\n",
    "except InvalidAgeError as e:\n",
    "    print(\"Error:\", e)"
   ]
  },
  {
   "cell_type": "code",
   "execution_count": null,
   "id": "fd6433be-1d5b-45ce-b2f3-758331b7e067",
   "metadata": {},
   "outputs": [],
   "source": []
  }
 ],
 "metadata": {
  "kernelspec": {
   "display_name": "Python 3 (ipykernel)",
   "language": "python",
   "name": "python3"
  },
  "language_info": {
   "codemirror_mode": {
    "name": "ipython",
    "version": 3
   },
   "file_extension": ".py",
   "mimetype": "text/x-python",
   "name": "python",
   "nbconvert_exporter": "python",
   "pygments_lexer": "ipython3",
   "version": "3.12.1"
  }
 },
 "nbformat": 4,
 "nbformat_minor": 5
}
