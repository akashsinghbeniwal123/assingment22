{
 "cells": [
  {
   "cell_type": "code",
   "execution_count": null,
   "id": "31c0ab4c-6687-4af3-b219-d72c7d2d13bb",
   "metadata": {},
   "outputs": [],
   "source": [
    "Q1. Create a Pandas Series that contains the following data: 4, 8, 15, 16, 23, and 42. Then, print the series.\n",
    "Ans:"
   ]
  },
  {
   "cell_type": "code",
   "execution_count": 1,
   "id": "f8455acb-0596-419c-a35a-664009645e77",
   "metadata": {},
   "outputs": [
    {
     "name": "stdout",
     "output_type": "stream",
     "text": [
      "0     4\n",
      "1     8\n",
      "2    15\n",
      "3    16\n",
      "4    23\n",
      "5    42\n",
      "dtype: int64\n"
     ]
    }
   ],
   "source": [
    "import pandas as pd\n",
    "data = [4, 8, 15, 16, 23, 42]\n",
    "series = pd.Series(data)\n",
    "print(series)"
   ]
  },
  {
   "cell_type": "code",
   "execution_count": null,
   "id": "416e898f-54ea-48d8-bb62-c79fdd79450e",
   "metadata": {},
   "outputs": [],
   "source": [
    "Q2. Create a variable of list type containing 10 elements in it, and apply pandas.Series function on the\n",
    "variable print it.\n",
    "Ans:"
   ]
  },
  {
   "cell_type": "code",
   "execution_count": 2,
   "id": "aed63fa8-412d-471c-97ad-59afa3280155",
   "metadata": {},
   "outputs": [
    {
     "name": "stdout",
     "output_type": "stream",
     "text": [
      "0     10\n",
      "1     20\n",
      "2     30\n",
      "3     40\n",
      "4     50\n",
      "5     60\n",
      "6     70\n",
      "7     80\n",
      "8     90\n",
      "9    100\n",
      "dtype: int64\n"
     ]
    }
   ],
   "source": [
    "my_list = [10, 20, 30, 40, 50, 60, 70, 80, 90, 100]\n",
    "series = pd.Series(my_list)\n",
    "print(series)"
   ]
  },
  {
   "cell_type": "code",
   "execution_count": null,
   "id": "56c91bcf-8cf7-419d-b5d3-1b06b408914d",
   "metadata": {},
   "outputs": [],
   "source": []
  },
  {
   "cell_type": "code",
   "execution_count": 3,
   "id": "ff36e5e0-a4e0-4323-a16d-17c77297c7da",
   "metadata": {},
   "outputs": [
    {
     "name": "stdout",
     "output_type": "stream",
     "text": [
      "     Name  Age  Gender\n",
      "0   Alice   25  Female\n",
      "1     Bob   30    Male\n",
      "2  Claire   27  Female\n"
     ]
    }
   ],
   "source": [
    "data = {\n",
    "    'Name': ['Alice', 'Bob', 'Claire'],\n",
    "    'Age': [25, 30, 27],\n",
    "    'Gender': ['Female', 'Male', 'Female']\n",
    "}\n",
    "df = pd.DataFrame(data)\n",
    "print(df)"
   ]
  },
  {
   "cell_type": "code",
   "execution_count": null,
   "id": "3befcd90-83d3-4380-ba83-358617bc67b8",
   "metadata": {},
   "outputs": [],
   "source": [
    "Q4. What is ‘DataFrame’ in pandas and how is it different from pandas.series? Explain with an example.\n",
    "Ans:DataFrame in Pandas is a two-dimensional labeled data structure with columns and rows. It is similar to a spreadsheet or a SQL table. Each column in a DataFrame can be of a different data type, and each row represents a data point.\n",
    "\n",
    "Series in Pandas is a one-dimensional labeled array. It can be thought of as a single column of a DataFrame. A Series can contain data of any data type, and each element is associated with a label.\n"
   ]
  },
  {
   "cell_type": "code",
   "execution_count": 4,
   "id": "053d3f81-1d6d-4fea-89fc-8fd7a670ccc4",
   "metadata": {},
   "outputs": [
    {
     "name": "stdout",
     "output_type": "stream",
     "text": [
      "a    1\n",
      "b    2\n",
      "c    3\n",
      "d    4\n",
      "e    5\n",
      "dtype: int64\n",
      "    Name  Age\n",
      "0  Akash   25\n",
      "1  Bobby   30\n",
      "2   Aman   35\n"
     ]
    }
   ],
   "source": [
    "\n",
    "series = pd.Series([1, 2, 3, 4, 5], index=['a', 'b', 'c', 'd', 'e'])\n",
    "data = {'Name': ['Akash', 'Bobby', 'Aman'],\n",
    "        'Age': [25, 30, 35]}\n",
    "df = pd.DataFrame(data)\n",
    "print(series)\n",
    "print(df)"
   ]
  },
  {
   "cell_type": "code",
   "execution_count": null,
   "id": "eaf57799-3efd-471d-a089-1245e848c597",
   "metadata": {},
   "outputs": [],
   "source": [
    "Q5. What are some common functions you can use to manipulate data in a Pandas DataFrame? Can\n",
    "you give an example of when you might use one of these functions?\n",
    "Ans:\n",
    "Here are some common functions used to manipulate data in Pandas DataFrames, along with examples:\n",
    "\n",
    "1. Selecting and Filtering Data:\n",
    "\n",
    "loc and iloc: These functions are used to select rows and columns based on labels or integer indices.\n",
    "\n",
    "2. Adding and Removing Columns:\n",
    "\n",
    "assign: Adds new columns to the DataFrame.\n",
    "\n",
    "\n",
    "3. Sorting Data:\n",
    "\n",
    "sort_values: Sorts the DataFrame based on specified columns.\n",
    "\n",
    "4. Grouping and Aggregating Data:\n",
    "\n",
    "groupby: Groups the DataFrame based on specified columns.\n",
    "\n",
    "5. Filtering Data:\n",
    "\n",
    "query: Filters the DataFrame based on a Boolean expression.\n",
    "\n",
    "7. Merging DataFrames:\n",
    "\n",
    "merge: Merges two DataFrames based on common columns."
   ]
  },
  {
   "cell_type": "code",
   "execution_count": 11,
   "id": "d4513d6a-ffc0-4a51-898e-7d5c585c76ed",
   "metadata": {},
   "outputs": [
    {
     "name": "stdout",
     "output_type": "stream",
     "text": [
      "    Name  Age\n",
      "1  Bobby   30\n",
      "2   Aman   35\n",
      "    Name  Age\n",
      "0  Akash   25\n",
      "1  Bobby   30\n",
      "    Name  Age         City\n",
      "0  Akash   25     New York\n",
      "1  Bobby   30  Los Angeles\n",
      "2   Aman   35      Chicago\n",
      "    Name         City\n",
      "0  Akash     New York\n",
      "1  Bobby  Los Angeles\n",
      "2   Aman      Chicago\n"
     ]
    }
   ],
   "source": [
    "data = {'Name': ['Akash', 'Bobby', 'Aman'],\n",
    "        'Age': [25, 30, 35]}\n",
    "df = pd.DataFrame(data)\n",
    "result1 = df.loc[df['Age'] > 25]\n",
    "result2 = df.iloc[:2, :]\n",
    "print(result1)\n",
    "print(result2)\n",
    "\n",
    "\n",
    "\n",
    "\n",
    "df['City'] = ['New York', 'Los Angeles', 'Chicago']\n",
    "print(df)\n",
    "\n",
    "df = df.drop('Age', axis=1)\n",
    "print(df)\n",
    "\n",
    "\n",
    "\n",
    "\n",
    "\n"
   ]
  },
  {
   "cell_type": "code",
   "execution_count": 9,
   "id": "e52325c3-d305-4d8f-a355-cebfd58876de",
   "metadata": {},
   "outputs": [
    {
     "name": "stdout",
     "output_type": "stream",
     "text": [
      "  key  value1  value2\n",
      "0   b       2       4\n",
      "1   c       3       5\n"
     ]
    }
   ],
   "source": [
    "\n",
    "df1 = pd.DataFrame({'key': ['a', 'b', 'c'], 'value1': [1, 2, 3]})\n",
    "df2 = pd.DataFrame({'key': ['b', 'c', 'd'], 'value2': [4, 5, 6]})\n",
    "\n",
    "merged_df = pd.merge(df1, df2, on='key')\n",
    "print(merged_df)"
   ]
  },
  {
   "cell_type": "code",
   "execution_count": null,
   "id": "6cf8205f-0673-4d24-b519-acf245990574",
   "metadata": {},
   "outputs": [],
   "source": [
    "Q6. Which of the following is mutable in nature Series, DataFrame, Panel?\n",
    "Ans:\n",
    "In Pandas, both DataFrames and Panels are mutable. This means you can modify their values after creation. However, Series are immutable, meaning their values cannot be changed once created.   \n",
    "\n",
    "Here is a breakdown:\n",
    "\n",
    "Series: A one-dimensional labeled array. Immutable.   \n",
    "DataFrame: A two-dimensional labeled data structure with columns and rows. Mutable.   \n",
    "Panel: A three-dimensional labeled data structure. Mutable."
   ]
  },
  {
   "cell_type": "code",
   "execution_count": null,
   "id": "4c4c6e15-c5c7-4879-9f2e-0ff0f36f349b",
   "metadata": {},
   "outputs": [],
   "source": [
    "Q7. Create a DataFrame using multiple Series. Explain with an example.\n",
    "Ans:Create individual Series: Define each Series with its own data and index.\n",
    "Combine Series into a dictionary: Create a dictionary where the keys are the column names and the values are the corresponding Series.\n",
    "Create a DataFrame from the dictionary: Use the pd.DataFrame() function to create a DataFrame from the dictionary."
   ]
  },
  {
   "cell_type": "code",
   "execution_count": null,
   "id": "4ca86369-7026-4812-bf7f-2ab847c2b6fa",
   "metadata": {},
   "outputs": [],
   "source": [
    "import pandas as pd\n",
    "\n",
    "# Create individual Series\n",
    "series1 = pd.Series([1, 2, 3], index=['a', 'b', 'c'])\n",
    "series2 = pd.Series([4, 5, 6], index=['a', 'b', 'c'])\n",
    "series3 = pd.Series([7, 8, 9], index=['a', 'b', 'c'])\n",
    "\n",
    "# Combine Series into a dictionary\n",
    "data = {'Column1': series1, 'Column2': series2, 'Column3': series3}\n",
    "\n",
    "# Create a DataFrame from the dictionary\n",
    "df = pd.DataFrame(data)\n",
    "\n",
    "# Print the DataFrame\n",
    "print(df)"
   ]
  }
 ],
 "metadata": {
  "kernelspec": {
   "display_name": "Python 3 (ipykernel)",
   "language": "python",
   "name": "python3"
  },
  "language_info": {
   "codemirror_mode": {
    "name": "ipython",
    "version": 3
   },
   "file_extension": ".py",
   "mimetype": "text/x-python",
   "name": "python",
   "nbconvert_exporter": "python",
   "pygments_lexer": "ipython3",
   "version": "3.12.1"
  }
 },
 "nbformat": 4,
 "nbformat_minor": 5
}
