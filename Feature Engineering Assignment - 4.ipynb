{
 "cells": [
  {
   "cell_type": "code",
   "execution_count": null,
   "id": "d4ffc75c-033c-4332-8892-f7755923c0f3",
   "metadata": {},
   "outputs": [],
   "source": [
    "Q1. What is the difference between Ordinal Encoding and Label Encoding? Provide an example of when you\n",
    "might choose one over the other.\n",
    "Ans:Ordinal Encoding vs. Label Encoding\n",
    "Ordinal Encoding and Label Encoding are both techniques used to convert categorical data into numerical representations. However, they differ in how they handle the relationship between categories.   \n",
    "\n",
    "Ordinal Encoding\n",
    "When to use: When the categories have a natural order or ranking (e.g., \"Low,\" \"Medium,\" \"High\").\n",
    "How it works: Assigns a unique integer to each category based on its position in the order.\n",
    "Example: | Category | Ordinal Encoding | | Low | 1 | | Medium | 2 | | High | 3 |\n",
    "Label Encoding\n",
    "When to use: When there is no inherent order among the categories.\n",
    "How it works: Assigns a unique integer to each category arbitrarily.\n",
    "Example: | Category | Label Encoding || Red | 1 | | Blue | 2 | | Green | 3 |"
   ]
  },
  {
   "cell_type": "code",
   "execution_count": null,
   "id": "dbf791a9-ea17-4ecb-99ae-5c94e677ec87",
   "metadata": {},
   "outputs": [],
   "source": [
    "Q2. Explain how Target Guided Ordinal Encoding works and provide an example of when you might use it in\n",
    "a machine learning project.\n",
    "Ans:Target Guided Ordinal Encoding\n",
    "Target Guided Ordinal Encoding is a technique used to encode categorical variables based on their relationship with the target variable. It's particularly useful when the categorical variable has an implicit order that's not immediately apparent.   \n",
    "\n",
    "\n",
    "\n",
    "Calculate Mean Target Value: For each category of the categorical variable, calculate the mean value of the target variable.\n",
    "Assign Ordinal Values: Assign ordinal values to the categories based on their mean target values. The category with the highest mean target value gets the highest ordinal value."
   ]
  },
  {
   "cell_type": "code",
   "execution_count": null,
   "id": "69304bad-cb75-4390-9480-1febebcd66f0",
   "metadata": {},
   "outputs": [],
   "source": [
    "Q3. Define covariance and explain why it is important in statistical analysis. How is covariance calculated?\n",
    "Ans:Covariance: A Measure of Joint Variability\n",
    "Covariance is a statistical measure that quantifies the relationship between two variables. It indicates how much two variables change together. A positive covariance means that when one variable increases, the other tends to increase as well. A negative covariance means that when one variable increases, the other tends to decrease.   \n",
    "\n",
    "Importance of Covariance in Statistical Analysis\n",
    "Correlation: Covariance is a key component in calculating correlation, which measures the strength and direction of the linear relationship between two variables.\n",
    "Multivariate Analysis: In multivariate analysis techniques like principal component analysis (PCA) and linear discriminant analysis (LDA), covariance matrices are used to identify patterns and relationships among multiple variables.\n",
    "Risk Management: In finance, covariance is used to assess the risk of a portfolio of assets. High covariance between assets indicates that they tend to move together, which can increase the overall risk of the portfolio.\n",
    "Calculating Covariance\n",
    "The formula for covariance between two variables, X and Y, is:\n",
    "\n",
    "cov(X, Y) = E[(X - μX)(Y - μY)]"
   ]
  },
  {
   "cell_type": "code",
   "execution_count": null,
   "id": "a53c5305-0059-43a1-b68e-9cdbc763200f",
   "metadata": {},
   "outputs": [],
   "source": [
    "Q4. For a dataset with the following categorical variables: Color (red, green, blue), Size (small, medium,\n",
    "large), and Material (wood, metal, plastic), perform label encoding using Python's scikit-learn library.\n",
    "Show your code and explain the output.\n",
    "Ans:"
   ]
  },
  {
   "cell_type": "code",
   "execution_count": 1,
   "id": "745961b0-9dc0-46e5-aedf-213a4b3b8b02",
   "metadata": {},
   "outputs": [
    {
     "name": "stdout",
     "output_type": "stream",
     "text": [
      "   Color    Size Material  Color_encoded  Size_encoded  Material_encoded\n",
      "0    red   small     wood              2             2                 2\n",
      "1  green  medium    metal              1             1                 0\n",
      "2   blue   large  plastic              0             0                 1\n",
      "3    red   small     wood              2             2                 2\n",
      "4  green  medium    metal              1             1                 0\n"
     ]
    }
   ],
   "source": [
    "import pandas as pd\n",
    "from sklearn.preprocessing import LabelEncoder\n",
    "data = {\n",
    "    'Color': ['red', 'green', 'blue', 'red', 'green'],\n",
    "    'Size': ['small', 'medium', 'large', 'small', 'medium'],\n",
    "    'Material': ['wood', 'metal', 'plastic', 'wood', 'metal']\n",
    "}\n",
    "\n",
    "df = pd.DataFrame(data)\n",
    "le = LabelEncoder()\n",
    "df['Color_encoded'] = le.fit_transform(df['Color'])\n",
    "df['Size_encoded'] = le.fit_transform(df['Size'])\n",
    "df['Material_encoded'] = le.fit_transform(df['Material'])\n",
    "\n",
    "print(df)"
   ]
  },
  {
   "cell_type": "code",
   "execution_count": null,
   "id": "a98591c4-18a0-4a34-8f65-c0d8b4b8fcf7",
   "metadata": {},
   "outputs": [],
   "source": [
    "Q5. Calculate the covariance matrix for the following variables in a dataset: Age, Income, and Education\n",
    "level. Interpret the results.\n",
    "Ans:"
   ]
  },
  {
   "cell_type": "code",
   "execution_count": null,
   "id": "5c9819f7-efa6-4ff4-aa7a-0e452a31e0bb",
   "metadata": {},
   "outputs": [],
   "source": []
  },
  {
   "cell_type": "code",
   "execution_count": null,
   "id": "c4ba40a5-1cb0-438b-80dc-361c5ee6e062",
   "metadata": {},
   "outputs": [],
   "source": []
  },
  {
   "cell_type": "code",
   "execution_count": null,
   "id": "abd2599b-99f3-4683-b254-ce5d5f7ddaac",
   "metadata": {},
   "outputs": [],
   "source": []
  },
  {
   "cell_type": "code",
   "execution_count": null,
   "id": "87c820ba-5067-4a21-85cc-f275fb4bc19f",
   "metadata": {},
   "outputs": [],
   "source": []
  },
  {
   "cell_type": "code",
   "execution_count": null,
   "id": "d7a3e25f-2378-4d12-ba7a-edfd256243fe",
   "metadata": {},
   "outputs": [],
   "source": []
  }
 ],
 "metadata": {
  "kernelspec": {
   "display_name": "Python 3 (ipykernel)",
   "language": "python",
   "name": "python3"
  },
  "language_info": {
   "codemirror_mode": {
    "name": "ipython",
    "version": 3
   },
   "file_extension": ".py",
   "mimetype": "text/x-python",
   "name": "python",
   "nbconvert_exporter": "python",
   "pygments_lexer": "ipython3",
   "version": "3.12.1"
  }
 },
 "nbformat": 4,
 "nbformat_minor": 5
}
