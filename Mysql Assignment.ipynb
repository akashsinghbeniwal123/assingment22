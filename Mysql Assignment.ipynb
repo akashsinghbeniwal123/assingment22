{
 "cells": [
  {
   "cell_type": "code",
   "execution_count": null,
   "id": "0be29342-891d-4ebb-ac5e-b887f3636a90",
   "metadata": {},
   "outputs": [],
   "source": [
    "Q1. What is a database? Differentiate between SQL and NoSQL databases.\n",
    "Database:\n",
    "A database is a structured collection of data, organized in a way that allows efficient retrieval and management.\n",
    " It serves as a central repository for information, enabling users to store, access, update, and analyze data\n",
    "\n",
    "SQL (Structured Query Language) Databases:\n",
    "Relational: Data is organized in tables with rows and columns, forming relationships between data elements.   \n",
    "Schema-driven: A predefined schema defines the structure of the data, including data types and relationships.\n",
    "Examples: MySQL, PostgreSQL, Oracle, SQL Server\n",
    "\n",
    "NoSQL (Not Only SQL) Databases:\n",
    "Non-relational: Data is stored in various formats, such as key-value pairs, documents, graphs, or wide-column stores.   \n",
    "Schema-less or flexible: Allows for dynamic data structures and changes without altering the schema.\n",
    "Examples: MongoDB, Cassandra, Redis, Neo4"
   ]
  },
  {
   "cell_type": "code",
   "execution_count": null,
   "id": "668c3fac-93a9-4a52-89c1-cf76beaa3e82",
   "metadata": {},
   "outputs": [],
   "source": [
    "Q2. What is DDL? Explain why CREATE, DROP, ALTER, and TRUNCATE are used with an example.\n",
    "Ans:Data Definition Language (DDL) is a subset of SQL used to define the structure of a database. It allows you to create, modify, and delete database objects like tables, indexes, views, and more.\n"
   ]
  },
  {
   "cell_type": "code",
   "execution_count": 3,
   "id": "38e421e3-3f66-43a7-8eae-a1257b0a5946",
   "metadata": {},
   "outputs": [],
   "source": [
    "#CREATE: Used to create new database objects.\n",
    "CREATE TABLE students (\n",
    "    student_id INT PRIMARY KEY,\n",
    "    name VARCHAR(50),\n",
    "    age INT,\n",
    "    city VARCHAR(30)\n",
    ");\n"
   ]
  },
  {
   "cell_type": "code",
   "execution_count": null,
   "id": "90c15f67-584c-45ff-9ac6-d8cce195a9b2",
   "metadata": {},
   "outputs": [],
   "source": [
    "DROP: Used to delete existing database objects.\n",
    "\n",
    "DROP TABLE students;"
   ]
  },
  {
   "cell_type": "code",
   "execution_count": null,
   "id": "5282a542-a87a-4372-8aef-3051e7314fda",
   "metadata": {},
   "outputs": [],
   "source": [
    "ALTER: Used to modify the structure or properties of existing database objects.\n",
    "\n",
    "ALTER TABLE students\n",
    "ADD COLUMN email VARCHAR(100);"
   ]
  },
  {
   "cell_type": "code",
   "execution_count": null,
   "id": "5f093884-c260-42ba-9799-9e5dd9a00463",
   "metadata": {},
   "outputs": [],
   "source": [
    "TRUNCATE: Used to delete all data from a table while retaining its structure.\n",
    "\n",
    "TRUNCATE TABLE students;"
   ]
  },
  {
   "cell_type": "code",
   "execution_count": null,
   "id": "8444cf70-f8d7-4ec8-bce3-72a0da1277ba",
   "metadata": {},
   "outputs": [],
   "source": [
    "Q3. What is DML? Explain INSERT, UPDATE, and DELETE with an example.\n",
    "Ans:Data Manipulation Language (DML) is a subset of SQL used to manipulate data within a database. It allows you to insert, update, and delete data from tables.\n",
    "\n",
    "\n",
    "INSERT: Used to insert new data into a table.\n",
    "\n",
    "Ans:INSERT INTO students (student_id, name, age, city)\n",
    "VALUES (1, 'Akash', 20, 'Delhi');\n",
    "\n",
    "UPDATE: Used to modify existing data in a table.\n",
    "\n",
    "UPDATE students\n",
    "SET city = 'Hodal'\n",
    "WHERE student_id = 1;\n",
    "\n",
    "DELETE: Used to remove data from a table.\n",
    "\n",
    "DELETE FROM students\n",
    "WHERE student_id = 2;"
   ]
  },
  {
   "cell_type": "code",
   "execution_count": null,
   "id": "d0cde759-d8d7-427e-abc9-2037e5ce5977",
   "metadata": {},
   "outputs": [],
   "source": [
    "Q4. What is DQL? Explain SELECT with an example.\n",
    "Ans:Data Query Language (DQL) is a subset of SQL used to retrieve data from a database. It allows you to select, filter, and aggregate data based on specific criteria.\n",
    "\n",
    "SELECT: Used to retrieve data from tables.\n",
    "\n",
    "SELECT student_id, name, age\n",
    "FROM students\n",
    "WHERE age >= 18\n",
    "ORDER BY age DESC;"
   ]
  },
  {
   "cell_type": "code",
   "execution_count": null,
   "id": "bb3647c3-3c25-49d9-bb12-ac3ff594e4f5",
   "metadata": {},
   "outputs": [],
   "source": [
    "Q5. Explain Primary Key and Foreign Key.\n",
    "Ans:A primary key is a unique identifier for each row in a table. It ensures that each row has a distinct value and prevents duplicate data.\n",
    "\n",
    "b)=>A foreign key is a column in one table that references the primary key of another table. It establishes a relationship between the two tables, indicating that a row in one table is related to a specific row in another.\n"
   ]
  },
  {
   "cell_type": "code",
   "execution_count": null,
   "id": "01d22fe9-3463-40ca-a76a-b90da3079819",
   "metadata": {},
   "outputs": [],
   "source": [
    "Q6. Write a python code to connect MySQL to python. Explain the cursor() and execute() method.\n",
    "Ans:\n",
    "import mysql.connector\n",
    "\n",
    "host = \"local_host\"\n",
    "user = \"localhost\"\n",
    "password = \"root\"\n",
    "database = \"sql_database\"\n",
    "mydb = mysql.connector.connect(\n",
    "    host=host,\n",
    "    user=localhost,\n",
    "    password=root,\n",
    "    database=database\n",
    ")\n",
    "mycursor = mydb.cursor()\n",
    "\n",
    "mycursor.execute(\"SELECT * FROM students\")\n",
    "\n",
    "myresult = mycursor.fetchall()\n",
    "\n",
    "for x in myresult:\n",
    "    print(x)\n",
    "\n",
    "mydb.close()\n",
    "\n",
    "Create a cursor object: The cursor() method creates a cursor object, which is used to execute SQL statements.\n",
    "Execute an SQL query: Use the execute() method to execute an SQL query. In this example, we are selecting all data from the your_table table."
   ]
  },
  {
   "cell_type": "code",
   "execution_count": null,
   "id": "9b78b336-1c11-4078-9481-ebbca4035740",
   "metadata": {},
   "outputs": [],
   "source": [
    "Q7. Give the order of execution of SQL clauses in an SQL query.\n",
    "Ans:\n"
   ]
  }
 ],
 "metadata": {
  "kernelspec": {
   "display_name": "Python 3 (ipykernel)",
   "language": "python",
   "name": "python3"
  },
  "language_info": {
   "codemirror_mode": {
    "name": "ipython",
    "version": 3
   },
   "file_extension": ".py",
   "mimetype": "text/x-python",
   "name": "python",
   "nbconvert_exporter": "python",
   "pygments_lexer": "ipython3",
   "version": "3.12.1"
  }
 },
 "nbformat": 4,
 "nbformat_minor": 5
}
