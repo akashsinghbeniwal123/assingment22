{
 "cells": [
  {
   "cell_type": "code",
   "execution_count": null,
   "id": "38ab71d9-ac22-4480-90d3-5002a7dfa587",
   "metadata": {},
   "outputs": [],
   "source": [
    "Q1. What are the three measures of central tendency?\n",
    "Ans:The three measures of central tendency are:\n",
    "\n",
    "Mean: This is the most common measure of central tendency and is calculated by adding up all the numbers in a data set and dividing by the total number of numbers. It's often referred to as the average.   \n",
    "\n",
    "Median: This is the middle value in a data set when the numbers are arranged in order. If there are an even number of numbers, the median is the average of the two middle numbers.   \n",
    "\n",
    "Mode: This is the most frequently occurring number in a data set. A data set can have one mode (unimodal), more than one mode (multimodal), or no mode.   \n"
   ]
  },
  {
   "cell_type": "code",
   "execution_count": null,
   "id": "a50e0fa9-844b-41c8-bba6-3dd8119283cc",
   "metadata": {},
   "outputs": [],
   "source": [
    "Q2. What is the difference between the mean, median, and mode? How are they used to measure the\n",
    "central tendency of a dataset?\n",
    "Ans:The mean, median, and mode are all measures of central tendency, which describe the \"middle\" or typical value in a dataset. However, they each have different ways of calculating this value and different strengths and weaknesses:\n",
    "\n",
    "Mean:\n",
    "\n",
    "Calculation: Sum of all values divided by the number of values.\n",
    "Interpretation: Represents the average value of the dataset.\n",
    "Use: Best for normally distributed data with no outliers. Sensitive to outliers.\n",
    "Median:\n",
    "\n",
    "Calculation: Middle value when the data is arranged in order.\n",
    "Interpretation: Represents the 50th percentile of the data.\n",
    "Use: Less sensitive to outliers than the mean, making it a better choice for skewed data.\n",
    "Mode:\n",
    "\n",
    "Calculation: Most frequently occurring value.\n",
    "Interpretation: Indicates the most common value in the data.\n",
    "Use: Useful for both quantitative and qualitative data. Can be multimodal or have no mode."
   ]
  },
  {
   "cell_type": "code",
   "execution_count": null,
   "id": "8c572e59-bbd7-4fda-a5e2-6b7e02250178",
   "metadata": {},
   "outputs": [],
   "source": [
    "Q3. Measure the three measures of central tendency for the given height data:\n",
    "[178,177,176,177,178.2,178,175,179,180,175,178.9,176.2,177,172.5,178,176.5]\n",
    "Ans:\n",
    "\n",
    "Measure                                       \tValue\n",
    "Mean\t                                        177.01875\n",
    "Median                                         \t177.0\n",
    "Mode\t                                        178"
   ]
  },
  {
   "cell_type": "code",
   "execution_count": null,
   "id": "ae6f3bfe-c0e6-4aef-821c-ac9b2b5525a0",
   "metadata": {},
   "outputs": [],
   "source": [
    "Q4. Find the standard deviation for the given data:\n",
    "[178,177,176,177,178.2,178,175,179,180,175,178.9,176.2,177,172.5,178,176.5]\n",
    "Ans:\n",
    "                        "
   ]
  },
  {
   "cell_type": "code",
   "execution_count": 1,
   "id": "12607f34-f174-4352-8cce-535c4f05bc73",
   "metadata": {},
   "outputs": [
    {
     "name": "stdout",
     "output_type": "stream",
     "text": [
      "Standard deviation: 1.7885814036548633\n"
     ]
    }
   ],
   "source": [
    "heights = [178, 177, 176, 177, 178.2, 178, 175, 179, 180, 175, 178.9, 176.2, 177, 172.5, 178, 176.5]\n",
    "mean_height = sum(heights) / len(heights)\n",
    "squared_deviations = [(h - mean_height) ** 2 for h in heights]\n",
    "variance = sum(squared_deviations) / len(heights)\n",
    "standard_deviation = variance ** 0.5\n",
    "print(\"Standard deviation:\", standard_deviation)"
   ]
  },
  {
   "cell_type": "code",
   "execution_count": null,
   "id": "e8981ff4-edfa-49a6-b149-11aa71612176",
   "metadata": {},
   "outputs": [],
   "source": [
    "Q5. How are measures of dispersion such as range, variance, and standard deviation used to describe\n",
    "the spread of a dataset? Provide an example.\n",
    "Ans:Measures of dispersion are used to describe the spread or variability of a dataset. They help us understand how much the data points differ from each other and how concentrated or spread out the data is.\n",
    "\n",
    "Here is a breakdown of the three common measures of dispersion:\n",
    "\n",
    "Range:\n",
    "\n",
    "Definition: The difference between the maximum and minimum values in a dataset.\n",
    "Interpretation: A simple measure of spread. Sensitive to outliers.\n",
    "Example: If the heights of a group of students range from 160 cm to 180 cm, the range is 180 - 160 = 20 cm.\n",
    "Variance:\n",
    "\n",
    "Definition: The average squared deviation from the mean.\n",
    "Interpretation: A measure of how much the data points vary from the mean.\n",
    "Example: If the mean height is 170 cm and the variance is 25, it indicates that the data points are relatively spread out from the mean.\n",
    "Standard Deviation:\n",
    "\n",
    "Definition: The square root of the variance.\n",
    "Interpretation: A commonly used measure of spread, expressed in the same units as the data.\n",
    "Example: If the standard deviation of heights is 5 cm, it means that most of the heights are within 5 cm of the mean.\n",
    "Example:\n",
    "\n",
    "Consider the following two datasets:\n",
    "\n",
    "Dataset A: 10, 12, 14, 16, 18\n",
    "Dataset B: 8, 10, 12, 14, 16"
   ]
  },
  {
   "cell_type": "code",
   "execution_count": null,
   "id": "ef493057-74fc-4f07-b1cd-23c8e82b2d40",
   "metadata": {},
   "outputs": [],
   "source": [
    "Q6. What is a Venn diagram?\n",
    "Ans:A Venn diagram is a graphical tool used to illustrate the relationships between sets of data. It consists of overlapping circles or other shapes, where each shape represents a set and the overlap between shapes shows the elements that are common to both sets.\n"
   ]
  },
  {
   "cell_type": "code",
   "execution_count": null,
   "id": "c4936ad3-6b8c-480c-a67b-90bdf82ac148",
   "metadata": {},
   "outputs": [],
   "source": [
    "Q7. For the two given sets A = (2,3,4,5,6,7) & B = (0,2,6,8,10). Find:\n",
    "(i) A B\n",
    "(ii) A ⋃ B\n",
    "Ans:\n",
    "\n",
    "(i) A ∩ B = {2, 6}\n",
    "\n",
    "(ii) A ∪ B = {0, 2, 3, 4, 5, 6, 7, 8, 10}"
   ]
  },
  {
   "cell_type": "code",
   "execution_count": null,
   "id": "45fa745a-de42-4457-98d7-62d008abad70",
   "metadata": {},
   "outputs": [],
   "source": [
    "Q8. What do you understand about skewness in data?\n",
    "Ans:Skewness is a statistical measure that describes the shape of a probability distribution. It measures the degree to which a distribution is asymmetrical or skewed.\n"
   ]
  },
  {
   "cell_type": "code",
   "execution_count": null,
   "id": "52f624a3-76ed-4728-b157-868b5ca3b86e",
   "metadata": {},
   "outputs": [],
   "source": [
    "Q9. If a data is right skewed then what will be the position of median with respect to mean?\n",
    "Ans:In a right-skewed distribution, the median will be less than the mean.\n",
    "\n",
    "This is because the right tail of the distribution is longer, which pulls the mean towards the right. As a result, the mean will be greater than the median.\n"
   ]
  },
  {
   "cell_type": "code",
   "execution_count": null,
   "id": "58b12c13-79eb-4aab-b5fe-45c9caaaee2e",
   "metadata": {},
   "outputs": [],
   "source": [
    "Q10. Explain the difference between covariance and correlation. How are these measures used in\n",
    "statistical analysis?\n",
    "Ans:Covariance and correlation are two statistical measures that are used to quantify the relationship between two variables. While they are related, they have distinct interpretations and applications.   \n",
    "\n",
    "Covariance measures the direction of the linear relationship between two variables. It indicates whether the variables tend to increase or decrease together.   \n",
    "\n",
    "Positive covariance: If one variable increases, the other tends to increase as well (e.g., height and weight).   \n",
    "Negative covariance: If one variable increases, the other tends to decrease (e.g., hours of study and number of errors on a test).\n",
    "Zero covariance: There is no linear relationship between the variables."
   ]
  },
  {
   "cell_type": "code",
   "execution_count": null,
   "id": "1fa37ae2-1b8b-4c98-8120-5a0d30f22e76",
   "metadata": {},
   "outputs": [],
   "source": [
    "Q11. What is the formula for calculating the sample mean? Provide an example calculation for a\n",
    "dataset.\n",
    "Ans:The formula for calculating the sample mean is:\n",
    "\n",
    "Mean = (Sum of all values) / (Number of values)\n",
    "\n",
    "Or, in mathematical notation:\n",
    "\n",
    "Mean = Σx / n\n",
    "\n",
    "where:\n",
    "\n",
    "Σx is the sum of all values in the dataset\n",
    "n is the number of values in the dataset\n",
    "Example:\n",
    "\n",
    "Consider the following dataset: 2, 4, 6, 8, 10\n",
    "\n",
    "To calculate the mean:\n",
    "\n",
    "Sum the values: 2 + 4 + 6 + 8 + 10 = 30\n",
    "Count the number of values: 5\n",
    "Divide the sum by the number of values: 30 / 5 = 6\n",
    "Therefore, the mean of the dataset is 6."
   ]
  },
  {
   "cell_type": "code",
   "execution_count": null,
   "id": "73690178-43bf-4431-a9ab-e5deaa1bd176",
   "metadata": {},
   "outputs": [],
   "source": [
    "Q12. For a normal distribution data what is the relationship between its measure of central tendency?\n",
    "Ans:In a normal distribution, the mean, median, and mode are all equal.\n",
    "\n",
    "This is because a normal distribution is symmetrical, meaning that the\n",
    "left and right sides of the distribution are mirror images of each other. As a result, the central point of the distribution, which is the point where the left and right tails intersect, is the same for all three measures of central tendency\n"
   ]
  },
  {
   "cell_type": "code",
   "execution_count": null,
   "id": "6b493d8c-a482-4688-b840-457356869e8a",
   "metadata": {},
   "outputs": [],
   "source": [
    "Q13. How is covariance different from correlation?\n",
    "Ans:Covariance and correlation are both statistical measures used to quantify the relationship between two variables, but they differ in their interpretation and scale.   \n",
    "\n",
    "Covariance measures the direction of the linear relationship between two variables. It indicates whether the variables tend to increase or decrease together.   \n",
    "\n",
    "Positive covariance: If one variable increases, the other tends to increase as well (e.g., height and weight).   \n",
    "Negative covariance: If one variable increases, the other tends to decrease (e.g., hours of study and number of errors on a test).\n",
    "Zero covariance: There is no linear relationship between the variables."
   ]
  },
  {
   "cell_type": "code",
   "execution_count": null,
   "id": "1ddcb034-89ea-42df-b4ad-03049c9c4fb4",
   "metadata": {},
   "outputs": [],
   "source": []
  }
 ],
 "metadata": {
  "kernelspec": {
   "display_name": "Python 3 (ipykernel)",
   "language": "python",
   "name": "python3"
  },
  "language_info": {
   "codemirror_mode": {
    "name": "ipython",
    "version": 3
   },
   "file_extension": ".py",
   "mimetype": "text/x-python",
   "name": "python",
   "nbconvert_exporter": "python",
   "pygments_lexer": "ipython3",
   "version": "3.12.1"
  }
 },
 "nbformat": 4,
 "nbformat_minor": 5
}
