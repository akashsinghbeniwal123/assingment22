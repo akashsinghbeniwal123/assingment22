{
 "cells": [
  {
   "cell_type": "code",
   "execution_count": null,
   "id": "733a65ad-4991-409b-b2d2-1a3dd97e3dc5",
   "metadata": {},
   "outputs": [],
   "source": [
    "Question 2;-\n",
    "ans;--Abstraction ;--Abstraction is used to hide the internal functionality of the function from the users."
   ]
  },
  {
   "cell_type": "code",
   "execution_count": 3,
   "id": "58f712e5-78a2-43e1-9ee7-a9fb026a9b3e",
   "metadata": {},
   "outputs": [],
   "source": [
    "\n",
    "# abstract base class work   \n",
    "from abc import ABC, abstractmethod   \n",
    "class Car(ABC):   \n",
    "    def mileage(self):   \n",
    "        pass  \n",
    "  \n",
    "class Tesla(Car):   \n",
    "    def mileage(self):   \n",
    "        print(\"The mileage is 30kmph\")   \n",
    "class Suzuki(Car):   \n",
    "    def mileage(self):   \n",
    "        print(\"The mileage is 25kmph \")   \n",
    "class Duster(Car):   \n",
    "     def mileage(self):   \n",
    "          print(\"The mileage is 24kmph \")   \n",
    "  \n",
    "class Renault(Car):   \n",
    "    def mileage(self):   \n",
    "            print(\"The mileage is 27kmph \")   \n",
    "          \n"
   ]
  },
  {
   "cell_type": "code",
   "execution_count": null,
   "id": "0bb02c1e-0350-4ced-9539-60517cb36360",
   "metadata": {},
   "outputs": [],
   "source": [
    "Question 2 :--\n",
    "ans:--abstration:--1.Abstraction is a basic OOP concept which focuses on just the relevant data of an object and hides all the irrelevant details which may or may not be for generic or specialized behavior\n",
    "                   2.It hides the background details and emphasizes on the essential points to reduce complexity and increase efficiency. \n",
    "                   3.It hides the details on the design level by providing functionality to the users."
   ]
  },
  {
   "cell_type": "code",
   "execution_count": null,
   "id": "6ea04941-29ec-4a38-a35f-48d58f3183de",
   "metadata": {},
   "outputs": [],
   "source": [
    "encapsulation:--1.Encapsulation is yet another OOP concept which binds data and functions into a single component while restricting access to some components.\n",
    "                2.It’s one of the main fundamental concepts of OOP which wraps data and information under a single unit.\n",
    "                3. On the contrary, by making the information more open you’ll risk misuse of data."
   ]
  },
  {
   "cell_type": "code",
   "execution_count": null,
   "id": "ae87371c-57f4-44ec-867f-b2b4d9b972a2",
   "metadata": {},
   "outputs": [],
   "source": [
    "question 3:--The 'abc' module in Python library provides the infrastructure for defining custom abstract base classes.\n",
    "\n",
    "'abc' works by marking methods of the base class as abstract. This is done by @absttractmethod decorator. concrete class which is a sub class of such abstract base class then implements the abstract base by overriding its abstract methods.\n",
    "\n"
   ]
  },
  {
   "cell_type": "code",
   "execution_count": null,
   "id": "9e823b14-aca4-4b84-9e89-4ec265958187",
   "metadata": {},
   "outputs": [],
   "source": [
    "question 4:--\n",
    "ans:--Data abstraction is a method where essential elements are displayed to the user and trivial elements are kept hidden. In Java, abstraction is achieved by using the abstract keyword for classes and interfaces. In abstract classes, we can have abstract methods as well as concrete methods.\n"
   ]
  },
  {
   "cell_type": "code",
   "execution_count": null,
   "id": "d5a5c1f4-c2ba-4ac4-8496-c2361d4172c9",
   "metadata": {},
   "outputs": [],
   "source": [
    "question 5:--\n",
    "ans:--"
   ]
  }
 ],
 "metadata": {
  "kernelspec": {
   "display_name": "Python 3 (ipykernel)",
   "language": "python",
   "name": "python3"
  },
  "language_info": {
   "codemirror_mode": {
    "name": "ipython",
    "version": 3
   },
   "file_extension": ".py",
   "mimetype": "text/x-python",
   "name": "python",
   "nbconvert_exporter": "python",
   "pygments_lexer": "ipython3",
   "version": "3.10.8"
  }
 },
 "nbformat": 4,
 "nbformat_minor": 5
}
