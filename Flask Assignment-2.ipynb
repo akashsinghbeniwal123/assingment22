{
 "cells": [
  {
   "cell_type": "code",
   "execution_count": null,
   "id": "61293c77-ecaa-41bf-8757-f3b909b5d2a6",
   "metadata": {},
   "outputs": [],
   "source": [
    "Q1. Explain GET and POST methods.\n",
    "GET Method:\n",
    "Purpose: Retrieves data from a server.\n",
    "Data: The data is included in the URL as query parameters.\n",
    "Safety: GET requests are idempotent, meaning they can be repeated multiple times without changing the result. They are also safe, meaning they should not have any side effects.\n",
    "Caching: GET requests can be cached by the browser or intermediate servers to improve performance.\n",
    "\n",
    "\n",
    "POST Method:\n",
    "Purpose: Sends data to a server to be processed.\n",
    "Data: The data is included in the request body.\n",
    "Safety: POST requests are not idempotent and can have side effects, such as creating or updating resources.\n",
    "Caching: POST requests are typically not cached."
   ]
  },
  {
   "cell_type": "code",
   "execution_count": null,
   "id": "fda0403a-0723-46f7-b085-98bece566867",
   "metadata": {},
   "outputs": [],
   "source": [
    "Q2. Why is request used in Flask?\n",
    "Ans:\n",
    "he request object in Flask is used to access information about the incoming HTTP request. It provides details such as:\n",
    "\n",
    "HTTP method: The HTTP method used for the request (e.g., GET, POST, PUT, DELETE).\n",
    "URL: The URL that was requested.\n",
    "Query parameters: Any parameters included in the URL after the question mark (?).\n",
    "Form data: Data submitted in a form, usually through a POST request.\n",
    "Files: Any files uploaded in the request.\n",
    "Headers: HTTP headers included in the request.\n",
    "Cookies: Cookies sent with the request."
   ]
  },
  {
   "cell_type": "code",
   "execution_count": null,
   "id": "0b668b74-4526-4033-b172-4805227e01ac",
   "metadata": {},
   "outputs": [],
   "source": [
    "Q3. Why is redirect() used in Flask?\n",
    "Ans:The redirect() function in Flask is used to redirect the user to a different URL. This is often used to:\n",
    "\n",
    "Handle form submissions: After a user submits a form, you can redirect them to a confirmation page or a thank you page.\n",
    "Redirect to external URLs: You can use redirect() to redirect users to external websites or services.\n",
    "Implement login and logout functionality: You can redirect users to the login page if they are not authenticated, or to the home page after they log out.\n",
    "Handle errors: You can redirect users to an error page if an error occurs during the request.\n",
    "    "
   ]
  },
  {
   "cell_type": "code",
   "execution_count": null,
   "id": "c9ceaa95-5918-4b4f-a0db-9a7af485831d",
   "metadata": {},
   "outputs": [],
   "source": [
    "Q4. What are templates in Flask? Why is the render_template() function used?\n",
    "Ans:Templates in Flask are HTML files that contain placeholders for dynamic content. These placeholders are replaced with actual values when the template is rendered. This allows you to separate the structure and layout of your web pages from the application logic, making your code more organized and maintainable.\n",
    "\n",
    "The render_template() function in Flask is used to render a template and return the rendered HTML content as a response. It takes the template name as the first argument and can also accept additional arguments that will be passed to the template as variables.\n"
   ]
  },
  {
   "cell_type": "code",
   "execution_count": 1,
   "id": "846491ed-cc73-4956-bafc-aa128d51f5be",
   "metadata": {},
   "outputs": [],
   "source": [
    "from flask import Flask, render_template\n",
    "\n",
    "app = Flask(__name__)\n",
    "\n",
    "@app.route('/')\n",
    "def index():\n",
    "    name = 'Akash'\n",
    "    age = 30\n",
    "    return render_template('index.html', name=name, age=age)"
   ]
  },
  {
   "cell_type": "code",
   "execution_count": null,
   "id": "062181ad-a986-4fca-9996-b8933ac7b671",
   "metadata": {},
   "outputs": [],
   "source": [
    "Q5. Create a simple API. Use Postman to test it."
   ]
  },
  {
   "cell_type": "code",
   "execution_count": null,
   "id": "94b6b74a-0752-4ed3-8f94-6f0de029c29c",
   "metadata": {},
   "outputs": [],
   "source": [
    "from flask import Flask, jsonify\n",
    "\n",
    "app = Flask(__name__)\n",
    "\n",
    "@app.route('/users/<int:user_id>')\n",
    "def get_user(user_id):\n",
    "    user = {\n",
    "        'id': user_id,\n",
    "        'name': 'Akash kumar',\n",
    "        'email': 'akashkumar@example.com'\n",
    "    }\n",
    "    return jsonify(user)\n",
    "\n",
    "if __name__ == '__main__':\n",
    "    app.run()"
   ]
  },
  {
   "cell_type": "code",
   "execution_count": null,
   "id": "e1846695-655d-440c-8250-1d343c5033dd",
   "metadata": {},
   "outputs": [],
   "source": []
  }
 ],
 "metadata": {
  "kernelspec": {
   "display_name": "Python 3 (ipykernel)",
   "language": "python",
   "name": "python3"
  },
  "language_info": {
   "codemirror_mode": {
    "name": "ipython",
    "version": 3
   },
   "file_extension": ".py",
   "mimetype": "text/x-python",
   "name": "python",
   "nbconvert_exporter": "python",
   "pygments_lexer": "ipython3",
   "version": "3.12.1"
  }
 },
 "nbformat": 4,
 "nbformat_minor": 5
}
