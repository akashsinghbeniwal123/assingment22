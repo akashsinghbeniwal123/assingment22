{
 "cells": [
  {
   "cell_type": "code",
   "execution_count": null,
   "id": "8b66a5f6-0eed-4c23-ba27-50f269baace8",
   "metadata": {},
   "outputs": [],
   "source": [
    "Q1. List any five functions of the pandas library with execution.\n",
    "Ans:"
   ]
  },
  {
   "cell_type": "code",
   "execution_count": 3,
   "id": "d160f598-2ce3-49d0-a362-9e07258e293c",
   "metadata": {},
   "outputs": [
    {
     "name": "stdout",
     "output_type": "stream",
     "text": [
      "     Name  Age\n",
      "0   Akash   25\n",
      "1   Bobby   30\n",
      "2  sachin   35\n",
      "     Name  Age\n",
      "1   Bobby   30\n",
      "2  sachin   35\n",
      "         Age\n",
      "Name        \n",
      "Akash   25.0\n",
      "Bobby   30.0\n",
      "sachin  35.0\n"
     ]
    }
   ],
   "source": [
    "import pandas as pd\n",
    "\n",
    "data = {'Name': ['Akash', 'Bobby', 'sachin'],\n",
    "        'Age': [25, 30, 35]}\n",
    "\n",
    "df = pd.DataFrame(data)\n",
    "\n",
    "print(df)\n",
    "\n",
    "\n",
    "\n",
    "result = df[df['Age'] > 25]\n",
    "\n",
    "print(result)\n",
    "\n",
    "#3. Grouping and Aggregating Data:\n",
    "\n",
    "grouped_df = df.groupby('Name').mean()\n",
    "\n",
    "print(grouped_df)"
   ]
  },
  {
   "cell_type": "code",
   "execution_count": 4,
   "id": "b40f3f52-b6dc-4b1a-8053-4de64eef8d2f",
   "metadata": {},
   "outputs": [
    {
     "name": "stdout",
     "output_type": "stream",
     "text": [
      "  key  value1  value2\n",
      "0   b       2       4\n",
      "1   c       3       5\n"
     ]
    }
   ],
   "source": [
    "#Merging DataFrames:\n",
    "df1 = pd.DataFrame({'key': ['a', 'b', 'c'], 'value1': [1, 2, 3]})\n",
    "df2 = pd.DataFrame({'key': ['b', 'c', 'd'], 'value2': [4, 5, 6]})\n",
    "\n",
    "merged_df = pd.merge(df1, df2, on='key')\n",
    "\n",
    "print(merged_df)"
   ]
  },
  {
   "cell_type": "code",
   "execution_count": 5,
   "id": "913c4081-3f71-42a5-8aa8-8d6d831d9c84",
   "metadata": {},
   "outputs": [
    {
     "name": "stdout",
     "output_type": "stream",
     "text": [
      "     Name  Age\n",
      "2  sachin   35\n",
      "1   Bobby   30\n",
      "0   Akash   25\n"
     ]
    }
   ],
   "source": [
    "# Sort :\n",
    "sorted_df = df.sort_values(by='Age', ascending=False)\n",
    "\n",
    "print(sorted_df)"
   ]
  },
  {
   "cell_type": "code",
   "execution_count": null,
   "id": "cc49bcda-b97f-4c0f-8d36-91119b8957bb",
   "metadata": {},
   "outputs": [],
   "source": [
    "Q2. Given a Pandas DataFrame df with columns 'A', 'B', and 'C', write a Python function to re-index the\n",
    "DataFrame with a new index that starts from 1 and increments by 2 for each row.\n",
    "Ans:"
   ]
  },
  {
   "cell_type": "code",
   "execution_count": null,
   "id": "c66f1463-2f6d-4246-9a90-1c9d4552bb26",
   "metadata": {},
   "outputs": [],
   "source": [
    "import pandas as pd\n",
    "\n",
    "def reindex_dataframe(df):\n",
    "  new_index = range(1, len(df) * 2, 2)\n",
    "  df = df.set_index(new_index)\n",
    "\n",
    "  return df\n",
    "df = pd.DataFrame({'A': [1, 2, 3], 'B': [4, 5, 6], 'C': [7, 8, 9]})\n",
    "\n",
    "reindexed_df = reindex_dataframe(df)\n",
    "\n",
    "print(reindexed_df)"
   ]
  },
  {
   "cell_type": "code",
   "execution_count": null,
   "id": "d03b58ed-e419-4d30-aef5-8c9203e1329d",
   "metadata": {},
   "outputs": [],
   "source": [
    "Q3. You have a Pandas DataFrame df with a column named 'Values'. Write a Python function that\n",
    "iterates over the DataFrame and calculates the sum of the first three values in the 'Values' column. The\n",
    "function should print the sum to the console.\n",
    "ANs:"
   ]
  },
  {
   "cell_type": "code",
   "execution_count": 8,
   "id": "c4fc1505-4d0d-4d93-aa1e-04d9c31d77e3",
   "metadata": {},
   "outputs": [
    {
     "name": "stdout",
     "output_type": "stream",
     "text": [
      "Sum of the first three values: 60\n"
     ]
    }
   ],
   "source": [
    "import pandas as pd\n",
    "\n",
    "def calculate_sum(df):\n",
    "  if len(df) >= 3:\n",
    "    sum_of_values = df['Values'].head(3).sum()\n",
    "    print(\"Sum of the first three values:\", sum_of_values)\n",
    "  else:\n",
    "    print(\"DataFrame does not have enough rows.\")\n",
    "data = {'Values': [10, 20, 30, 40, 50]}\n",
    "df = pd.DataFrame(data)\n",
    "\n",
    "calculate_sum(df)"
   ]
  },
  {
   "cell_type": "code",
   "execution_count": null,
   "id": "37d3c7c5-2533-4bc8-9ff9-973ff178e343",
   "metadata": {},
   "outputs": [],
   "source": [
    "Q4. Given a Pandas DataFrame df with a column 'Text', write a Python function to create a new column\n",
    "'Word_Count' that contains the number of words in each row of the 'Text' column.\n",
    "Ans:"
   ]
  },
  {
   "cell_type": "code",
   "execution_count": 9,
   "id": "2269b8f5-0d5d-49d4-91b5-6c220472dd82",
   "metadata": {},
   "outputs": [
    {
     "name": "stdout",
     "output_type": "stream",
     "text": [
      "                                Text  Word_Count\n",
      "0         This is a sample sentence.           5\n",
      "1  Another sentence with more words.           5\n"
     ]
    }
   ],
   "source": [
    "def calculate_word_count(df):\n",
    "  df['Word_Count'] = df['Text'].str.split().apply(len)\n",
    "  return df\n",
    "data = {'Text': ['This is a sample sentence.', 'Another sentence with more words.']}\n",
    "df = pd.DataFrame(data)\n",
    "\n",
    "df = calculate_word_count(df)\n",
    "\n",
    "print(df)"
   ]
  },
  {
   "cell_type": "code",
   "execution_count": null,
   "id": "ea3348a3-3874-47c7-a5cd-3c262d40fbeb",
   "metadata": {},
   "outputs": [],
   "source": [
    "Q5. How are DataFrame.size() and DataFrame.shape() different?\n",
    "Ans:DataFrame.size() and DataFrame.shape() are both used to get information about a Pandas DataFrame, but they provide different types of data:\n",
    "\n",
    "DataFrame.size() returns the total number of elements in the DataFrame. This is calculated by multiplying the number of rows and columns.\n",
    "DataFrame.shape() returns a tuple containing the number of rows and columns in the DataFrame.\n",
    "\n",
    "DataFrame.size() returns 6 (3 rows * 2 columns).\n",
    "DataFrame.shape() returns (3, 2), indicating 3 rows and 2 columns"
   ]
  },
  {
   "cell_type": "code",
   "execution_count": null,
   "id": "e29d5bca-9a3c-4653-a758-8d445c7a1fdb",
   "metadata": {},
   "outputs": [],
   "source": [
    "Q6. Which function of pandas do we use to read an excel file?\n",
    "Ans: pd.read_excel(r\"data/csv\")"
   ]
  },
  {
   "cell_type": "code",
   "execution_count": null,
   "id": "16e69f0f-479a-49f6-84ed-f8e806f836f4",
   "metadata": {},
   "outputs": [],
   "source": [
    "Q7. You have a Pandas DataFrame df that contains a column named 'Email' that contains email\n",
    "addresses in the format 'username@domain.com'. Write a Python function that creates a new column\n",
    "'Username' in df that contains only the username part of each email address.\n",
    "Ans:"
   ]
  },
  {
   "cell_type": "code",
   "execution_count": 11,
   "id": "fc789074-e212-482c-a948-9df32acfb835",
   "metadata": {},
   "outputs": [
    {
     "name": "stdout",
     "output_type": "stream",
     "text": [
      "                Email Username\n",
      "0   Akash1@domain.com   Akash1\n",
      "1  Kumar2@example.com   Kumar2\n",
      "2     jai@company.org      jai\n"
     ]
    }
   ],
   "source": [
    "def extract_usernames(df):\n",
    "  df['Username'] = df['Email'].str.split('@').str.get(0)\n",
    "  return df\n",
    "data = {'Email': ['Akash1@domain.com', 'Kumar2@example.com', 'jai@company.org']}\n",
    "df = pd.DataFrame(data)\n",
    "\n",
    "df = extract_usernames(df)\n",
    "\n",
    "print(df)"
   ]
  },
  {
   "cell_type": "code",
   "execution_count": null,
   "id": "1241f66b-2453-4236-a9b6-157a89368843",
   "metadata": {},
   "outputs": [],
   "source": [
    "Q8. You have a Pandas DataFrame df with columns 'A', 'B', and 'C'. Write a Python function that selects\n",
    "all rows where the value in column 'A' is greater than 5 and the value in column 'B' is less than 10. The\n",
    "function should return a new DataFrame that contains only the selected rows.\n",
    "For example, if df contains the following values:\n",
    "A B C\n",
    "0 3 5 1\n",
    "1 8 2 7\n",
    "2 6 9 4\n",
    "3 2 3 5\n",
    "4 9 1 2\n",
    "Ans:"
   ]
  },
  {
   "cell_type": "code",
   "execution_count": 12,
   "id": "a533a352-0340-4aad-b84f-2090a115760f",
   "metadata": {},
   "outputs": [
    {
     "name": "stdout",
     "output_type": "stream",
     "text": [
      "   A  B  C\n",
      "1  8  2  7\n",
      "2  6  9  4\n",
      "4  9  1  2\n"
     ]
    }
   ],
   "source": [
    "def select_rows(df):\n",
    "  selected_df = df[(df['A'] > 5) & (df['B'] < 10)]\n",
    "\n",
    "  return selected_df\n",
    "data = {'A': [3, 8, 6, 2, 9],\n",
    "        'B': [5, 2, 9, 3, 1],\n",
    "        'C': [1, 7, 4, 5, 2]}\n",
    "df = pd.DataFrame(data)\n",
    "\n",
    "selected_df = select_rows(df)\n",
    "\n",
    "print(selected_df)"
   ]
  },
  {
   "cell_type": "code",
   "execution_count": null,
   "id": "1f930bbb-eb8e-4c07-9fe3-9fdf3607d8ee",
   "metadata": {},
   "outputs": [],
   "source": []
  },
  {
   "cell_type": "code",
   "execution_count": null,
   "id": "3b5c8d64-d07a-4d2e-aada-56c864e8cf80",
   "metadata": {},
   "outputs": [],
   "source": []
  },
  {
   "cell_type": "code",
   "execution_count": null,
   "id": "13c5c896-c8aa-4025-91ea-ca4b947fe13e",
   "metadata": {},
   "outputs": [],
   "source": []
  },
  {
   "cell_type": "code",
   "execution_count": null,
   "id": "a57ab91b-27cb-46c1-b16d-f564e8b12173",
   "metadata": {},
   "outputs": [],
   "source": []
  }
 ],
 "metadata": {
  "kernelspec": {
   "display_name": "Python 3 (ipykernel)",
   "language": "python",
   "name": "python3"
  },
  "language_info": {
   "codemirror_mode": {
    "name": "ipython",
    "version": 3
   },
   "file_extension": ".py",
   "mimetype": "text/x-python",
   "name": "python",
   "nbconvert_exporter": "python",
   "pygments_lexer": "ipython3",
   "version": "3.12.1"
  }
 },
 "nbformat": 4,
 "nbformat_minor": 5
}
