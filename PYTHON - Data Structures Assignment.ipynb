{
 "cells": [
  {
   "cell_type": "code",
   "execution_count": null,
   "id": "87e5a10e-9171-4670-913b-681aff4faff9",
   "metadata": {},
   "outputs": [],
   "source": [
    "Q1. How do you comment code in Python? What are the different types of comments?\n",
    "Ans:Comments in Python are the lines in the code that are ignored by the interpreter during the execution of the program.\n",
    "# I am single line comment "
   ]
  },
  {
   "cell_type": "code",
   "execution_count": null,
   "id": "87a206a1-239c-48cc-b39f-04c112828ce2",
   "metadata": {},
   "outputs": [],
   "source": [
    "Q2. What are variables in Python? How do you declare and assign values to variables?\n",
    "Python Variable is containers that store values. Python is not “statically typed”. We do not need to declare variables before using them or declare their type\n"
   ]
  },
  {
   "cell_type": "code",
   "execution_count": 1,
   "id": "6811174d-da29-4d50-9ca0-ad73bd0506a9",
   "metadata": {},
   "outputs": [
    {
     "name": "stdout",
     "output_type": "stream",
     "text": [
      "Pwskills\n"
     ]
    }
   ],
   "source": [
    "Var = \"Pwskills\"\n",
    "print(Var)"
   ]
  },
  {
   "cell_type": "code",
   "execution_count": null,
   "id": "54913dc9-87cd-4bf4-aec9-1a4303a575ca",
   "metadata": {},
   "outputs": [],
   "source": [
    "Q3. How do you convert one data type to another in Python?\n",
    "Ans:In Python, converting between different data types is a common operation. This can be done using built-in functions like int(), float(), str(), and others"
   ]
  },
  {
   "cell_type": "code",
   "execution_count": 2,
   "id": "20452eb1-5e48-42b7-a9c7-ed10533e156f",
   "metadata": {},
   "outputs": [
    {
     "name": "stdout",
     "output_type": "stream",
     "text": [
      "123\n",
      "123.0\n"
     ]
    }
   ],
   "source": [
    "string_number = '123'\n",
    "int_number = int(string_number)\n",
    "float_number = float(string_number)\n",
    "print(int_number) \n",
    "print(float_number)"
   ]
  },
  {
   "cell_type": "code",
   "execution_count": null,
   "id": "a6cf1db6-bd72-4a57-8bb7-604b6dcd4d7f",
   "metadata": {},
   "outputs": [],
   "source": [
    "Q4. How do you write and execute a Python script from the command line?\n",
    "Ans:Generally, the scripts are used to accomplish specific tasks and are executed from the command line.\n",
    "print(\"Hello, World!\")"
   ]
  },
  {
   "cell_type": "code",
   "execution_count": 3,
   "id": "63b76888-9ee8-428e-8225-84f1670b63b6",
   "metadata": {},
   "outputs": [
    {
     "name": "stdout",
     "output_type": "stream",
     "text": [
      "[2, 3]\n"
     ]
    }
   ],
   "source": [
    "#Q5. Given a list my_list = [1, 2, 3, 4, 5], write the code to slice the list and obtain the sub-list [2, 3].\n",
    "my_list = [1, 2, 3, 4, 5]\n",
    "sub_list = my_list[1:3]\n",
    "print(sub_list)"
   ]
  },
  {
   "cell_type": "code",
   "execution_count": null,
   "id": "e7300dd9-4565-47c4-babb-23f9fe3a025a",
   "metadata": {},
   "outputs": [],
   "source": [
    "Q6. What is a complex number in mathematics, and how is it represented in Python?\n",
    "Ans:A complex number is a number that can be expressed in the form a + bi, where a and b are real numbers, and i is the imaginary unit defined as the square root of -1. The real part of a complex number is a, and the imaginary part is b.\n",
    "z = 3 + 4j"
   ]
  },
  {
   "cell_type": "code",
   "execution_count": 5,
   "id": "7f6935ad-0118-4eec-994e-0496ef0ce851",
   "metadata": {},
   "outputs": [],
   "source": [
    "# Q7. What is the correct way to declare a variable named age and assign the value 25 to it?\n",
    "#Ans:\n",
    "age = 25"
   ]
  },
  {
   "cell_type": "code",
   "execution_count": 7,
   "id": "bb796f25-8302-4de9-a7f8-b6403defdaa6",
   "metadata": {},
   "outputs": [
    {
     "name": "stdout",
     "output_type": "stream",
     "text": [
      "<class 'float'>\n"
     ]
    }
   ],
   "source": [
    "#Q8. Declare a variable named price and assign the value 9.99 to it. What data type does this variable\n",
    "#belong to?\n",
    "#Ans:\n",
    "price = 9.99\n",
    "print(type(price))"
   ]
  },
  {
   "cell_type": "code",
   "execution_count": 10,
   "id": "0e312b98-86c8-4e28-9bcb-dba1a4f52292",
   "metadata": {},
   "outputs": [
    {
     "name": "stdout",
     "output_type": "stream",
     "text": [
      "Your Full Name\n",
      "Akash kumar\n"
     ]
    }
   ],
   "source": [
    "#Q9. Create a variable named name and assign your full name to it as a string. How would you print the\n",
    "#value of this variable?\n",
    "#Ans:\n",
    "name = \"Your Full Name\"  \n",
    "print(name)\n",
    "name = \"Akash kumar\"\n",
    "print(name)"
   ]
  },
  {
   "cell_type": "code",
   "execution_count": 11,
   "id": "a5177318-7498-4f22-b475-349c3507a925",
   "metadata": {},
   "outputs": [
    {
     "name": "stdout",
     "output_type": "stream",
     "text": [
      "World\n"
     ]
    }
   ],
   "source": [
    "#Q10. Given the string \"Hello, World!\", extract the substring \"World\".\n",
    "string = \"Hello, World!\"\n",
    "substring = string[7:12]\n",
    "print(substring)\n"
   ]
  },
  {
   "cell_type": "code",
   "execution_count": 12,
   "id": "90709277-5687-4544-9ee5-0e997c9d06f0",
   "metadata": {},
   "outputs": [],
   "source": [
    "# Q11. Create a variable named \"is_student\" and assign it a boolean value indicating whether you are\n",
    "# currently a student or not.\n",
    "is_student = True"
   ]
  },
  {
   "cell_type": "code",
   "execution_count": null,
   "id": "b3919e86-2e3a-41c4-b61c-34020b34cf72",
   "metadata": {},
   "outputs": [],
   "source": []
  }
 ],
 "metadata": {
  "kernelspec": {
   "display_name": "Python 3 (ipykernel)",
   "language": "python",
   "name": "python3"
  },
  "language_info": {
   "codemirror_mode": {
    "name": "ipython",
    "version": 3
   },
   "file_extension": ".py",
   "mimetype": "text/x-python",
   "name": "python",
   "nbconvert_exporter": "python",
   "pygments_lexer": "ipython3",
   "version": "3.12.1"
  }
 },
 "nbformat": 4,
 "nbformat_minor": 5
}
