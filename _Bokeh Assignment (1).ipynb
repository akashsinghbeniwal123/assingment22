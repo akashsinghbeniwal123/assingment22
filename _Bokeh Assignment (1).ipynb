{
 "cells": [
  {
   "cell_type": "code",
   "execution_count": null,
   "id": "e0a4ff75-c9db-416f-9ddf-515a1f87100f",
   "metadata": {},
   "outputs": [],
   "source": [
    "Q1. How can you create a Bokeh plot using Python code?"
   ]
  },
  {
   "cell_type": "code",
   "execution_count": 1,
   "id": "4c2bb49f-2dc4-40c0-aab1-aeaeab896a39",
   "metadata": {},
   "outputs": [],
   "source": [
    "import bokeh.plotting as bp\n",
    "fig = bp.figure()\n",
    "x = [1, 2, 3, 4, 5]\n",
    "y = [2, 3, 1, 4, 5]\n",
    "fig.line(x, y)\n",
    "bp.show(fig)"
   ]
  },
  {
   "cell_type": "code",
   "execution_count": null,
   "id": "430b32f3-f278-4675-ad5f-aa018026ec1e",
   "metadata": {},
   "outputs": [],
   "source": [
    "Q2. What are glyphs in Bokeh, and how can you add them to a Bokeh plot? Explain with an example."
   ]
  },
  {
   "cell_type": "code",
   "execution_count": null,
   "id": "4e8af141-1e21-4da1-8ced-ba07c7c5a25d",
   "metadata": {},
   "outputs": [],
   "source": [
    "Ans:Glyphs are the basic visual elements used to represent data points in Bokeh plots. They can be lines, circles, squares, triangles, or other shapes. By combining different glyphs, you can create various types of plots like line charts, scatter plots, bar charts, and more.\n",
    "\n",
    "Adding Glyphs to a Bokeh Plot\n",
    "\n",
    "To add glyphs to a Bokeh plot, you typically use the fig.add_glyph() method. This method takes several arguments, including:\n",
    "\n",
    "glyph: The type of glyph you want to add (e.g., Circle, Line, Rect).\n",
    "source: A data source containing the data for the glyph.\n",
    "Other options: Various options to customize the appearance of the glyph, such as color, size, line width, and marker type.\n",
    "Example: Creating a Scatter Plot"
   ]
  },
  {
   "cell_type": "code",
   "execution_count": 2,
   "id": "b53cd8e9-7b10-40ba-9b71-d800a22a20e5",
   "metadata": {},
   "outputs": [
    {
     "ename": "AttributeError",
     "evalue": "module 'bokeh.plotting' has no attribute 'Circle'",
     "output_type": "error",
     "traceback": [
      "\u001b[1;31m---------------------------------------------------------------------------\u001b[0m",
      "\u001b[1;31mAttributeError\u001b[0m                            Traceback (most recent call last)",
      "Cell \u001b[1;32mIn[2], line 15\u001b[0m\n\u001b[0;32m     12\u001b[0m fig \u001b[38;5;241m=\u001b[39m bp\u001b[38;5;241m.\u001b[39mfigure()\n\u001b[0;32m     14\u001b[0m \u001b[38;5;66;03m# Add circle glyphs\u001b[39;00m\n\u001b[1;32m---> 15\u001b[0m fig\u001b[38;5;241m.\u001b[39madd_glyph(glyph\u001b[38;5;241m=\u001b[39m\u001b[43mbp\u001b[49m\u001b[38;5;241;43m.\u001b[39;49m\u001b[43mCircle\u001b[49m(x\u001b[38;5;241m=\u001b[39m\u001b[38;5;124m'\u001b[39m\u001b[38;5;124mx\u001b[39m\u001b[38;5;124m'\u001b[39m, y\u001b[38;5;241m=\u001b[39m\u001b[38;5;124m'\u001b[39m\u001b[38;5;124my\u001b[39m\u001b[38;5;124m'\u001b[39m, fill_color\u001b[38;5;241m=\u001b[39m\u001b[38;5;124m'\u001b[39m\u001b[38;5;124mblue\u001b[39m\u001b[38;5;124m'\u001b[39m, size\u001b[38;5;241m=\u001b[39m\u001b[38;5;241m10\u001b[39m), source\u001b[38;5;241m=\u001b[39msource)\n\u001b[0;32m     17\u001b[0m \u001b[38;5;66;03m# Show the plot\u001b[39;00m\n\u001b[0;32m     18\u001b[0m bp\u001b[38;5;241m.\u001b[39mshow(fig)\n",
      "\u001b[1;31mAttributeError\u001b[0m: module 'bokeh.plotting' has no attribute 'Circle'"
     ]
    }
   ],
   "source": [
    "import bokeh.plotting as bp\n",
    "from bokeh.models import ColumnDataSource\n",
    "x = [1, 2, 3, 4, 5]\n",
    "y = [2, 3, 1, 4, 5]\n",
    "source = ColumnDataSource(data={'x': x, 'y': y})\n",
    "fig = bp.figure()\n",
    "fig.add_glyph(glyph=bp.Circle(x='x', y='y', fill_color='blue', size=10), source=source)\n",
    "bp.show(fig)"
   ]
  },
  {
   "cell_type": "code",
   "execution_count": null,
   "id": "cbf5202a-9e4c-48ed-8f64-03a2c8891f5b",
   "metadata": {},
   "outputs": [],
   "source": [
    "Q3. How can you customize the appearance of a Bokeh plot, including the axes, title, and legend?\n",
    "Ans:Bokeh provides a rich set of options for customizing the appearance of your plots, including the axes, title, and legend. Here's how you can modify these elements:\n",
    "\n",
    "Axes:\n",
    "\n",
    "Labels: Use xaxis.axis_label and yaxis.axis_label to set the labels for the x and y axes.\n",
    "Ticks: Use xaxis.ticks and yaxis.ticks to customize the appearance of ticks, such as their location, format, and rotation.\n",
    "Range: Use xaxis.range and yaxis.range to set the minimum and maximum values displayed on the axes.\n",
    "Grid lines: Use xaxis.grid_lines and yaxis.grid_lines to customize the appearance of grid lines.\n",
    "Title:\n",
    "\n",
    "Text: Use fig.title to set the title of the plot.\n",
    "Font: Use fig.title_text_font and fig.title_text_font_size to customize the font and font size of the title.\n",
    "Alignment: Use fig.title_align to align the title within the plot area.\n",
    "Legend:\n",
    "\n",
    "Visibility: Use fig.legend.visible to show or hide the legend.\n",
    "Location: Use fig.legend.location to specify the location of the legend (e.g., 'top_left', 'bottom_right').\n",
    "Orientation: Use fig.legend.orientation to specify the orientation of the legend (e.g., 'horizontal', 'vertical').\n",
    "Label: Use fig.legend.items to customize the labels associated with each legend item.\n"
   ]
  },
  {
   "cell_type": "code",
   "execution_count": null,
   "id": "c72a3baa-2c5a-48d7-b016-bef62004c8e7",
   "metadata": {},
   "outputs": [],
   "source": [
    "Q4. What is a Bokeh server, and how can you use it to create interactive plots that can be updated in\n",
    "real time?\n",
    "Ans:Bokeh Server is a component of the Bokeh library that allows you to create interactive visualizations that can be updated in real time. It provides a communication channel between your Python code and a web browser, enabling you to push data updates to the plot without requiring a full page reload.\n",
    "\n",
    "Creating Interactive Plots with Bokeh Server\n",
    "\n",
    "To create an interactive plot using Bokeh Server, follow these steps:\n",
    "\n",
    "Create a Bokeh document: Define the plot and its components using the Bokeh plotting API.\n",
    "Create a Bokeh server application: Use the bokeh.server.server module to create a Bokeh server application.\n",
    "Run the Bokeh server: Start the server application and provide the document as an argument."
   ]
  },
  {
   "cell_type": "code",
   "execution_count": null,
   "id": "33e0980d-9996-4636-9256-6f1527d9f244",
   "metadata": {},
   "outputs": [],
   "source": [
    "Q5. How can you embed a Bokeh plot into a web page or dashboard using Flask or Django?\n",
    "Ans:"
   ]
  },
  {
   "cell_type": "code",
   "execution_count": 5,
   "id": "1923865b-61d8-4ea0-b25f-f17dca4d621b",
   "metadata": {},
   "outputs": [
    {
     "name": "stdout",
     "output_type": "stream",
     "text": [
      "Requirement already satisfied: Flask in c:\\users\\brindavan\\appdata\\local\\programs\\python\\python312\\lib\\site-packages (3.0.3)\n",
      "Requirement already satisfied: bokeh in c:\\users\\brindavan\\appdata\\local\\programs\\python\\python312\\lib\\site-packages (3.5.1)\n",
      "Requirement already satisfied: Werkzeug>=3.0.0 in c:\\users\\brindavan\\appdata\\local\\programs\\python\\python312\\lib\\site-packages (from Flask) (3.0.4)\n",
      "Requirement already satisfied: Jinja2>=3.1.2 in c:\\users\\brindavan\\appdata\\local\\programs\\python\\python312\\lib\\site-packages (from Flask) (3.1.4)\n",
      "Requirement already satisfied: itsdangerous>=2.1.2 in c:\\users\\brindavan\\appdata\\local\\programs\\python\\python312\\lib\\site-packages (from Flask) (2.2.0)\n",
      "Requirement already satisfied: click>=8.1.3 in c:\\users\\brindavan\\appdata\\local\\programs\\python\\python312\\lib\\site-packages (from Flask) (8.1.7)\n",
      "Requirement already satisfied: blinker>=1.6.2 in c:\\users\\brindavan\\appdata\\local\\programs\\python\\python312\\lib\\site-packages (from Flask) (1.8.2)\n",
      "Requirement already satisfied: contourpy>=1.2 in c:\\users\\brindavan\\appdata\\local\\programs\\python\\python312\\lib\\site-packages (from bokeh) (1.2.1)\n",
      "Requirement already satisfied: numpy>=1.16 in c:\\users\\brindavan\\appdata\\local\\programs\\python\\python312\\lib\\site-packages (from bokeh) (2.0.0)\n",
      "Requirement already satisfied: packaging>=16.8 in c:\\users\\brindavan\\appdata\\local\\programs\\python\\python312\\lib\\site-packages (from bokeh) (24.1)\n",
      "Requirement already satisfied: pandas>=1.2 in c:\\users\\brindavan\\appdata\\local\\programs\\python\\python312\\lib\\site-packages (from bokeh) (2.2.2)\n",
      "Requirement already satisfied: pillow>=7.1.0 in c:\\users\\brindavan\\appdata\\local\\programs\\python\\python312\\lib\\site-packages (from bokeh) (10.3.0)\n",
      "Requirement already satisfied: PyYAML>=3.10 in c:\\users\\brindavan\\appdata\\local\\programs\\python\\python312\\lib\\site-packages (from bokeh) (6.0.1)\n",
      "Requirement already satisfied: tornado>=6.2 in c:\\users\\brindavan\\appdata\\local\\programs\\python\\python312\\lib\\site-packages (from bokeh) (6.4.1)\n",
      "Requirement already satisfied: xyzservices>=2021.09.1 in c:\\users\\brindavan\\appdata\\local\\programs\\python\\python312\\lib\\site-packages (from bokeh) (2024.6.0)\n",
      "Requirement already satisfied: colorama in c:\\users\\brindavan\\appdata\\local\\programs\\python\\python312\\lib\\site-packages (from click>=8.1.3->Flask) (0.4.6)\n",
      "Requirement already satisfied: MarkupSafe>=2.0 in c:\\users\\brindavan\\appdata\\local\\programs\\python\\python312\\lib\\site-packages (from Jinja2>=3.1.2->Flask) (2.1.5)\n",
      "Requirement already satisfied: python-dateutil>=2.8.2 in c:\\users\\brindavan\\appdata\\local\\programs\\python\\python312\\lib\\site-packages (from pandas>=1.2->bokeh) (2.9.0.post0)\n",
      "Requirement already satisfied: pytz>=2020.1 in c:\\users\\brindavan\\appdata\\local\\programs\\python\\python312\\lib\\site-packages (from pandas>=1.2->bokeh) (2024.1)\n",
      "Requirement already satisfied: tzdata>=2022.7 in c:\\users\\brindavan\\appdata\\local\\programs\\python\\python312\\lib\\site-packages (from pandas>=1.2->bokeh) (2024.1)\n",
      "Requirement already satisfied: six>=1.5 in c:\\users\\brindavan\\appdata\\local\\programs\\python\\python312\\lib\\site-packages (from python-dateutil>=2.8.2->pandas>=1.2->bokeh) (1.16.0)\n",
      "Note: you may need to restart the kernel to use updated packages.\n"
     ]
    },
    {
     "name": "stderr",
     "output_type": "stream",
     "text": [
      "\n",
      "[notice] A new release of pip is available: 23.2.1 -> 24.2\n",
      "[notice] To update, run: python.exe -m pip install --upgrade pip\n"
     ]
    }
   ],
   "source": [
    "pip install Flask bokeh"
   ]
  },
  {
   "cell_type": "code",
   "execution_count": null,
   "id": "a9515470-35ac-4846-8739-93186bc81c5b",
   "metadata": {},
   "outputs": [
    {
     "name": "stdout",
     "output_type": "stream",
     "text": [
      " * Serving Flask app '__main__'\n",
      " * Debug mode: off\n"
     ]
    },
    {
     "name": "stderr",
     "output_type": "stream",
     "text": [
      "WARNING: This is a development server. Do not use it in a production deployment. Use a production WSGI server instead.\n",
      " * Running on http://127.0.0.1:5000\n",
      "Press CTRL+C to quit\n"
     ]
    }
   ],
   "source": [
    "from flask import Flask, render_template\n",
    "import bokeh.plotting as bp\n",
    "\n",
    "app = Flask(__name__)\n",
    "\n",
    "@app.route('/')\n",
    "def index():\n",
    "\n",
    "    x = [1, 2, 3, 4, 5]\n",
    "    y = [2, 3, 1, 4, 5]\n",
    "    fig = bp.figure()\n",
    "    fig.line(x, y)\n",
    "\n",
    "    script, div = bp.components(fig)\n",
    "\n",
    "    return render_template('index.html', script=script, div=div)\n",
    "\n",
    "if __name__ == '__main__':\n",
    "    app.run()"
   ]
  },
  {
   "cell_type": "code",
   "execution_count": null,
   "id": "5b446c67-ac34-4fe5-9a3c-49e30b8a9118",
   "metadata": {},
   "outputs": [],
   "source": []
  }
 ],
 "metadata": {
  "kernelspec": {
   "display_name": "Python 3 (ipykernel)",
   "language": "python",
   "name": "python3"
  },
  "language_info": {
   "codemirror_mode": {
    "name": "ipython",
    "version": 3
   },
   "file_extension": ".py",
   "mimetype": "text/x-python",
   "name": "python",
   "nbconvert_exporter": "python",
   "pygments_lexer": "ipython3",
   "version": "3.12.1"
  }
 },
 "nbformat": 4,
 "nbformat_minor": 5
}
