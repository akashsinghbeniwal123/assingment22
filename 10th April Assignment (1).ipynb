{
 "cells": [
  {
   "cell_type": "code",
   "execution_count": null,
   "id": "6c801cb0-2711-4057-acae-7f5e6b57b7f6",
   "metadata": {},
   "outputs": [],
   "source": [
    "Q1. A company conducted a survey of its employees and found that 70% of the employees use the\n",
    "company's health insurance plan, while 40% of the employees who use the plan are smokers. What is the\n",
    "probability that an employee is a smoker given that he/she uses the health insurance plan?\n",
    "Ans:P(Smoker|Uses Health Insurance) = P(Smoker and Uses Health Insurance) / P(Uses Health Insurance)\n",
    "We know:\n",
    "\n",
    "P(Uses Health Insurance) = 0.7\n",
    "P(Smoker and Uses Health Insurance) = 0.4 * 0.7 = 0.28 (40% of 70%)\n",
    "Therefore:\n",
    "\n",
    "P(Smoker|Uses Health Insurance) = 0.28 / 0.7 = 0.4\n",
    "So, the probability that an employee is a smoker given that he/she uses the health insurance plan is 40%."
   ]
  },
  {
   "cell_type": "code",
   "execution_count": null,
   "id": "806a8986-c814-4b62-b90c-16a95ee450ff",
   "metadata": {},
   "outputs": [],
   "source": [
    "Q2. What is the difference between Bernoulli Naive Bayes and Multinomial Naive Bayes?\n",
    "Ans:Bernoulli Naive Bayes and Multinomial Naive Bayes are two popular variants of Naive Bayes classifiers, primarily used for text classification tasks. They differ in the way they handle feature occurrence:   \n",
    "\n",
    "Bernoulli Naive Bayes:\n",
    "\n",
    "Feature Representation: Binary features (0 or 1).   \n",
    "Assumption: Each feature is a binary variable indicating whether a specific word or term is present or absent in a document.   \n",
    "Best suited for: Text classification tasks where the presence or absence of specific words is important, such as spam filtering or sentiment analysis.\n",
    "Multinomial Naive Bayes:\n",
    "\n",
    "Feature Representation: Counts of features.\n",
    "Assumption: Features represent the frequency of occurrence of a specific word or term in a document.   \n",
    "Best suited for: Text classification tasks where the frequency of words is important, such as topic modeling or document categorization."
   ]
  },
  {
   "cell_type": "code",
   "execution_count": null,
   "id": "faf97c60-ce5e-463a-98fa-2b633dca7b74",
   "metadata": {},
   "outputs": [],
   "source": []
  },
  {
   "cell_type": "code",
   "execution_count": null,
   "id": "2f029270-b104-4376-aa34-db0b5e3b4204",
   "metadata": {},
   "outputs": [],
   "source": []
  },
  {
   "cell_type": "code",
   "execution_count": null,
   "id": "f0e38ed9-96c6-4c1f-9f83-893f8fa694d0",
   "metadata": {},
   "outputs": [],
   "source": []
  },
  {
   "cell_type": "code",
   "execution_count": null,
   "id": "5a4ba0ba-177f-442a-95ef-4577589a4abc",
   "metadata": {},
   "outputs": [],
   "source": []
  },
  {
   "cell_type": "code",
   "execution_count": null,
   "id": "698869ce-75a2-439e-a577-0120cff927fe",
   "metadata": {},
   "outputs": [],
   "source": []
  }
 ],
 "metadata": {
  "kernelspec": {
   "display_name": "Python 3 (ipykernel)",
   "language": "python",
   "name": "python3"
  },
  "language_info": {
   "codemirror_mode": {
    "name": "ipython",
    "version": 3
   },
   "file_extension": ".py",
   "mimetype": "text/x-python",
   "name": "python",
   "nbconvert_exporter": "python",
   "pygments_lexer": "ipython3",
   "version": "3.12.1"
  }
 },
 "nbformat": 4,
 "nbformat_minor": 5
}
