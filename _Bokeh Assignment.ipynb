{
 "cells": [
  {
   "cell_type": "code",
   "execution_count": null,
   "id": "e0a4ff75-c9db-416f-9ddf-515a1f87100f",
   "metadata": {},
   "outputs": [],
   "source": [
    "Q1. How can you create a Bokeh plot using Python code?"
   ]
  },
  {
   "cell_type": "code",
   "execution_count": 1,
   "id": "4c2bb49f-2dc4-40c0-aab1-aeaeab896a39",
   "metadata": {},
   "outputs": [],
   "source": [
    "import bokeh.plotting as bp\n",
    "fig = bp.figure()\n",
    "x = [1, 2, 3, 4, 5]\n",
    "y = [2, 3, 1, 4, 5]\n",
    "fig.line(x, y)\n",
    "bp.show(fig)"
   ]
  },
  {
   "cell_type": "code",
   "execution_count": null,
   "id": "430b32f3-f278-4675-ad5f-aa018026ec1e",
   "metadata": {},
   "outputs": [],
   "source": [
    "Q2. What are glyphs in Bokeh, and how can you add them to a Bokeh plot? Explain with an example."
   ]
  },
  {
   "cell_type": "code",
   "execution_count": null,
   "id": "4e8af141-1e21-4da1-8ced-ba07c7c5a25d",
   "metadata": {},
   "outputs": [],
   "source": [
    "Ans:Glyphs are the basic visual elements used to represent data points in Bokeh plots. They can be lines, circles, squares, triangles, or other shapes. By combining different glyphs, you can create various types of plots like line charts, scatter plots, bar charts, and more.\n",
    "\n",
    "Adding Glyphs to a Bokeh Plot\n",
    "\n",
    "To add glyphs to a Bokeh plot, you typically use the fig.add_glyph() method. This method takes several arguments, including:\n",
    "\n",
    "glyph: The type of glyph you want to add (e.g., Circle, Line, Rect).\n",
    "source: A data source containing the data for the glyph.\n",
    "Other options: Various options to customize the appearance of the glyph, such as color, size, line width, and marker type.\n",
    "Example: Creating a Scatter Plot"
   ]
  },
  {
   "cell_type": "code",
   "execution_count": 2,
   "id": "b53cd8e9-7b10-40ba-9b71-d800a22a20e5",
   "metadata": {},
   "outputs": [
    {
     "ename": "AttributeError",
     "evalue": "module 'bokeh.plotting' has no attribute 'Circle'",
     "output_type": "error",
     "traceback": [
      "\u001b[1;31m---------------------------------------------------------------------------\u001b[0m",
      "\u001b[1;31mAttributeError\u001b[0m                            Traceback (most recent call last)",
      "Cell \u001b[1;32mIn[2], line 15\u001b[0m\n\u001b[0;32m     12\u001b[0m fig \u001b[38;5;241m=\u001b[39m bp\u001b[38;5;241m.\u001b[39mfigure()\n\u001b[0;32m     14\u001b[0m \u001b[38;5;66;03m# Add circle glyphs\u001b[39;00m\n\u001b[1;32m---> 15\u001b[0m fig\u001b[38;5;241m.\u001b[39madd_glyph(glyph\u001b[38;5;241m=\u001b[39m\u001b[43mbp\u001b[49m\u001b[38;5;241;43m.\u001b[39;49m\u001b[43mCircle\u001b[49m(x\u001b[38;5;241m=\u001b[39m\u001b[38;5;124m'\u001b[39m\u001b[38;5;124mx\u001b[39m\u001b[38;5;124m'\u001b[39m, y\u001b[38;5;241m=\u001b[39m\u001b[38;5;124m'\u001b[39m\u001b[38;5;124my\u001b[39m\u001b[38;5;124m'\u001b[39m, fill_color\u001b[38;5;241m=\u001b[39m\u001b[38;5;124m'\u001b[39m\u001b[38;5;124mblue\u001b[39m\u001b[38;5;124m'\u001b[39m, size\u001b[38;5;241m=\u001b[39m\u001b[38;5;241m10\u001b[39m), source\u001b[38;5;241m=\u001b[39msource)\n\u001b[0;32m     17\u001b[0m \u001b[38;5;66;03m# Show the plot\u001b[39;00m\n\u001b[0;32m     18\u001b[0m bp\u001b[38;5;241m.\u001b[39mshow(fig)\n",
      "\u001b[1;31mAttributeError\u001b[0m: module 'bokeh.plotting' has no attribute 'Circle'"
     ]
    }
   ],
   "source": [
    "import bokeh.plotting as bp\n",
    "from bokeh.models import ColumnDataSource\n",
    "x = [1, 2, 3, 4, 5]\n",
    "y = [2, 3, 1, 4, 5]\n",
    "source = ColumnDataSource(data={'x': x, 'y': y})\n",
    "fig = bp.figure()\n",
    "fig.add_glyph(glyph=bp.Circle(x='x', y='y', fill_color='blue', size=10), source=source)\n",
    "bp.show(fig)"
   ]
  },
  {
   "cell_type": "code",
   "execution_count": null,
   "id": "cbf5202a-9e4c-48ed-8f64-03a2c8891f5b",
   "metadata": {},
   "outputs": [],
   "source": [
    "Q3. How can you customize the appearance of a Bokeh plot, including the axes, title, and legend?\n",
    "Ans:Bokeh provides a rich set of options for customizing the appearance of your plots, including the axes, title, and legend. Here's how you can modify these elements:\n",
    "\n",
    "Axes:\n",
    "\n",
    "Labels: Use xaxis.axis_label and yaxis.axis_label to set the labels for the x and y axes.\n",
    "Ticks: Use xaxis.ticks and yaxis.ticks to customize the appearance of ticks, such as their location, format, and rotation.\n",
    "Range: Use xaxis.range and yaxis.range to set the minimum and maximum values displayed on the axes.\n",
    "Grid lines: Use xaxis.grid_lines and yaxis.grid_lines to customize the appearance of grid lines.\n",
    "Title:\n",
    "\n",
    "Text: Use fig.title to set the title of the plot.\n",
    "Font: Use fig.title_text_font and fig.title_text_font_size to customize the font and font size of the title.\n",
    "Alignment: Use fig.title_align to align the title within the plot area.\n",
    "Legend:\n",
    "\n",
    "Visibility: Use fig.legend.visible to show or hide the legend.\n",
    "Location: Use fig.legend.location to specify the location of the legend (e.g., 'top_left', 'bottom_right').\n",
    "Orientation: Use fig.legend.orientation to specify the orientation of the legend (e.g., 'horizontal', 'vertical').\n",
    "Label: Use fig.legend.items to customize the labels associated with each legend item.\n"
   ]
  },
  {
   "cell_type": "code",
   "execution_count": null,
   "id": "c72a3baa-2c5a-48d7-b016-bef62004c8e7",
   "metadata": {},
   "outputs": [],
   "source": [
    "Q4. What is a Bokeh server, and how can you use it to create interactive plots that can be updated in\n",
    "real time?\n",
    "Ans:Bokeh Server is a component of the Bokeh library that allows you to create interactive visualizations that can be updated in real time. It provides a communication channel between your Python code and a web browser, enabling you to push data updates to the plot without requiring a full page reload.\n",
    "\n",
    "Creating Interactive Plots with Bokeh Server\n",
    "\n",
    "To create an interactive plot using Bokeh Server, follow these steps:\n",
    "\n",
    "Create a Bokeh document: Define the plot and its components using the Bokeh plotting API.\n",
    "Create a Bokeh server application: Use the bokeh.server.server module to create a Bokeh server application.\n",
    "Run the Bokeh server: Start the server application and provide the document as an argument."
   ]
  },
  {
   "cell_type": "code",
   "execution_count": null,
   "id": "33e0980d-9996-4636-9256-6f1527d9f244",
   "metadata": {},
   "outputs": [],
   "source": [
    "Q5. How can you embed a Bokeh plot into a web page or dashboard using Flask or Django?\n",
    "Ans:"
   ]
  },
  {
   "cell_type": "code",
   "execution_count": null,
   "id": "1923865b-61d8-4ea0-b25f-f17dca4d621b",
   "metadata": {},
   "outputs": [],
   "source": []
  }
 ],
 "metadata": {
  "kernelspec": {
   "display_name": "Python 3 (ipykernel)",
   "language": "python",
   "name": "python3"
  },
  "language_info": {
   "codemirror_mode": {
    "name": "ipython",
    "version": 3
   },
   "file_extension": ".py",
   "mimetype": "text/x-python",
   "name": "python",
   "nbconvert_exporter": "python",
   "pygments_lexer": "ipython3",
   "version": "3.12.1"
  }
 },
 "nbformat": 4,
 "nbformat_minor": 5
}
