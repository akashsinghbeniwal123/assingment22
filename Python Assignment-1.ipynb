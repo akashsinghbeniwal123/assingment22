{
 "cells": [
  {
   "cell_type": "code",
   "execution_count": 2,
   "id": "70503015-db69-47d9-9114-af02341eb072",
   "metadata": {},
   "outputs": [
    {
     "name": "stdout",
     "output_type": "stream",
     "text": [
      "[1, 3, 5, 7, 9, 11, 13, 15, 17, 19, 21, 23, 25]\n"
     ]
    }
   ],
   "source": [
    "Q1. Which keyword is used to create a function? Create a function to return a list of odd numbers in the\n",
    "range of 1 to 25.\n",
    " Ans:\n",
    "def odd_numbers(start, end):\n",
    "    return [num for num in range(start, end + 1) if num % 2 != 0]\n",
    "odd_list = odd_numbers(1, 25)\n",
    "print(odd_list)"
   ]
  },
  {
   "cell_type": "code",
   "execution_count": null,
   "id": "943453df-258a-471c-80ed-12d3b04b093a",
   "metadata": {},
   "outputs": [],
   "source": [
    "Q2. Why *args and **kwargs is used in some functions? Create a function each for *args and **kwargs\n",
    "to demonstrate their use.\n",
    "Ans:\n",
    "In Python, *args and **kwargs are used to pass a variable number of arguments to a function.\n",
    "\n",
    "*args: This syntax allows you to pass any number of positional arguments to a function. They are collected into a tuple inside the function.\n",
    "**kwargs: This syntax allows you to pass any number of keyword arguments to a function. They are collected into a dictionary inside the function."
   ]
  },
  {
   "cell_type": "code",
   "execution_count": 7,
   "id": "818a384d-3c45-495a-bd2b-178da0a4a16a",
   "metadata": {},
   "outputs": [
    {
     "name": "stdout",
     "output_type": "stream",
     "text": [
      "15\n",
      "Name: Akash\n",
      "Age: 30\n",
      "City: Faridabad\n"
     ]
    }
   ],
   "source": [
    "def sum_numbers(*args):\n",
    "  result = 0\n",
    "  for num in args:\n",
    "    result += num\n",
    "  return result\n",
    "sum_of_numbers = sum_numbers(1, 2, 3, 4, 5)\n",
    "print(sum_of_numbers)  \n",
    "\n",
    "#=============================================\n",
    "\n",
    "def print_person_info(**kwargs):\n",
    "  print(\"Name:\", kwargs.get(\"name\"))\n",
    "  print(\"Age:\", kwargs.get(\"age\"))\n",
    "  print(\"City:\", kwargs.get(\"city\"))\n",
    "print_person_info(name=\"Akash\", age=30, city=\"Faridabad\")"
   ]
  },
  {
   "cell_type": "code",
   "execution_count": null,
   "id": "2c091128-80bc-419b-b07f-fb42dc4822c0",
   "metadata": {},
   "outputs": [],
   "source": [
    "Q3. What is an iterator in python? Name the method used to initialise the iterator object and the method\n",
    "used for iteration. Use these methods to print the first five elements of the given list [2, 4, 6, 8, 10, 12, 14,\n",
    "16, 18, 20].\n",
    "Ans:An iterator in Python is an object that implements the __iter__ and __next__ methods. The __iter__ method returns the iterator object itself, while the __next__ method returns the next element in the sequence. Iterators are used to traverse elements in a collection sequentially.\n",
    "Methods:\n",
    "__iter__(): Initializes the iterator object.\n",
    "__next__(): Returns the next element in the sequence."
   ]
  },
  {
   "cell_type": "code",
   "execution_count": 8,
   "id": "01089e4c-ea08-4375-a1d4-22dc8b3d6df9",
   "metadata": {},
   "outputs": [
    {
     "name": "stdout",
     "output_type": "stream",
     "text": [
      "2\n",
      "4\n",
      "6\n",
      "8\n",
      "10\n"
     ]
    }
   ],
   "source": [
    "my_list = [2, 4, 6, 8, 10, 12, 14, 16, 18, 20]\n",
    "my_iter = iter(my_list)\n",
    "for i in range(5):\n",
    "    element = next(my_iter)\n",
    "    print(element)"
   ]
  },
  {
   "cell_type": "code",
   "execution_count": null,
   "id": "1a454c61-e906-4542-b538-0bae0e54b45f",
   "metadata": {},
   "outputs": [],
   "source": [
    "Q4. What is a generator function in python? Why yield keyword is used? Give an example of a generator\n",
    "function.\n",
    "Ans:A generator function in Python is a special type of function that returns a generator object. Unlike regular functions that return a single value at a time, generator functions return an iterator that can be used to generate a sequence of values on-the-fly. This is particularly useful for dealing with large datasets or infinite sequences.\n",
    "\n",
    "Yield Keyword:\n",
    "The yield keyword is used within a generator function to return a value to the caller and pause the function's execution until the next value is requested. This allows the generator to create a sequence of values efficiently, without having to store the entire sequence in memory at once.\n"
   ]
  },
  {
   "cell_type": "code",
   "execution_count": 9,
   "id": "d6e8f506-be6b-4798-9a2b-2295fdf3b29c",
   "metadata": {},
   "outputs": [
    {
     "name": "stdout",
     "output_type": "stream",
     "text": [
      "0\n",
      "1\n",
      "1\n",
      "2\n",
      "3\n",
      "5\n",
      "8\n",
      "13\n",
      "21\n",
      "34\n"
     ]
    }
   ],
   "source": [
    "def fibonacci_generator():\n",
    "    a, b = 0, 1\n",
    "    while True:\n",
    "        yield a\n",
    "        a, b = b, a + b\n",
    "fib_generator = fibonacci_generator()\n",
    "for i in range(10):\n",
    "    print(next(fib_generator))"
   ]
  },
  {
   "cell_type": "code",
   "execution_count": null,
   "id": "76e8ec82-b57f-41a5-a3fe-9c126cdec228",
   "metadata": {},
   "outputs": [],
   "source": [
    "Q5. Create a generator function for prime numbers less than 1000. Use the next() method to print the\n",
    "first 20 prime numbers."
   ]
  },
  {
   "cell_type": "code",
   "execution_count": 10,
   "id": "670110a4-ce07-4ab3-a0b7-0da2d6a935b5",
   "metadata": {},
   "outputs": [
    {
     "name": "stdout",
     "output_type": "stream",
     "text": [
      "2\n",
      "3\n",
      "5\n",
      "7\n",
      "11\n",
      "13\n",
      "17\n",
      "19\n",
      "23\n",
      "29\n",
      "31\n",
      "37\n",
      "41\n",
      "43\n",
      "47\n",
      "53\n",
      "59\n",
      "61\n",
      "67\n",
      "71\n"
     ]
    }
   ],
   "source": [
    "def prime_generator():\n",
    "    primes = []\n",
    "    for num in range(2, 1000):\n",
    "        is_prime = True\n",
    "        for prime in primes:\n",
    "            if num % prime == 0:\n",
    "                is_prime = False\n",
    "                break\n",
    "        if is_prime:\n",
    "            primes.append(num)\n",
    "            yield num\n",
    "prime_gen = prime_generator()\n",
    "for i in range(20):\n",
    "    print(next(prime_gen))"
   ]
  },
  {
   "cell_type": "code",
   "execution_count": null,
   "id": "32320338-847a-47d4-9630-1da185077ad9",
   "metadata": {},
   "outputs": [],
   "source": []
  },
  {
   "cell_type": "code",
   "execution_count": 11,
   "id": "a0eba235-3374-45d5-8382-8a1159edaee8",
   "metadata": {},
   "outputs": [
    {
     "name": "stdout",
     "output_type": "stream",
     "text": [
      "0\n",
      "1\n",
      "1\n",
      "2\n",
      "3\n",
      "5\n",
      "8\n",
      "13\n",
      "21\n",
      "34\n"
     ]
    }
   ],
   "source": [
    "Q6. Write a python program to print the first 10 Fibonacci numbers using a while loop.\n",
    "def fibonacci_generator():\n",
    "    a, b = 0, 1\n",
    "    while True:\n",
    "        yield a\n",
    "        a, b = b, a + b\n",
    "fib_gen = fibonacci_generator()\n",
    "for i in range(10):\n",
    "    print(next(fib_gen))"
   ]
  },
  {
   "cell_type": "code",
   "execution_count": 12,
   "id": "59487ed0-8cec-4a12-b41f-527712b56ab3",
   "metadata": {},
   "outputs": [
    {
     "name": "stdout",
     "output_type": "stream",
     "text": [
      "['p', 'w', 's', 'k', 'i', 'l', 'l', 's']\n"
     ]
    }
   ],
   "source": [
    "Q7. Write a List Comprehension to iterate through the given string: ‘pwskills’.\n",
    "Expected output: ['p', 'w', 's', 'k', 'i', 'l', 'l', 's']\n",
    "string = \"pwskills\"\n",
    "result = [char for char in string]\n",
    "print(result)"
   ]
  },
  {
   "cell_type": "code",
   "execution_count": 14,
   "id": "ecb1c5a1-536c-4644-889a-6f4e0bc7add3",
   "metadata": {},
   "outputs": [
    {
     "name": "stdin",
     "output_type": "stream",
     "text": [
      "Enter a number:  121\n"
     ]
    },
    {
     "name": "stdout",
     "output_type": "stream",
     "text": [
      "121 is a palindrome.\n"
     ]
    }
   ],
   "source": [
    "Q8. Write a python program to check whether a given number is Palindrome or not using a while loop.\n",
    "def is_palindrome(number):\n",
    "    original_number = number\n",
    "    reversed_number = 0\n",
    "\n",
    "    while number > 0:\n",
    "        digit = number % 10\n",
    "        reversed_number = (reversed_number * 10) + digit\n",
    "        number //= 10\n",
    "\n",
    "    return original_number == reversed_number\n",
    "num = int(input(\"Enter a number: \"))\n",
    "if is_palindrome(num):\n",
    "    print(num, \"is a palindrome.\")\n",
    "else:\n",
    "    print(num, \"is not a palindrome.\")"
   ]
  },
  {
   "cell_type": "code",
   "execution_count": null,
   "id": "ed85fd6c-d7cb-44ce-a140-485c2dec6f84",
   "metadata": {},
   "outputs": [],
   "source": [
    "\n",
    "odd_numbers = [num for num in range(1, 101) if num % 2 != 0]\n",
    "print(odd_numbers)"
   ]
  }
 ],
 "metadata": {
  "kernelspec": {
   "display_name": "Python 3 (ipykernel)",
   "language": "python",
   "name": "python3"
  },
  "language_info": {
   "codemirror_mode": {
    "name": "ipython",
    "version": 3
   },
   "file_extension": ".py",
   "mimetype": "text/x-python",
   "name": "python",
   "nbconvert_exporter": "python",
   "pygments_lexer": "ipython3",
   "version": "3.12.1"
  }
 },
 "nbformat": 4,
 "nbformat_minor": 5
}
