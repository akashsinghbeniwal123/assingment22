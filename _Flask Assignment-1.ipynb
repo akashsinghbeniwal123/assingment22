{
 "cells": [
  {
   "cell_type": "code",
   "execution_count": null,
   "id": "5a7f9f84-ec34-4f1a-9f0d-8f6cd6f5857d",
   "metadata": {},
   "outputs": [],
   "source": [
    "Q1. What is Flask Framework? What are the advantages of Flask Framework?\n",
    "Ans:Flask is a lightweight, flexible, and extensible Python web framework. It provides the essential tools and infrastructure needed to build web applications, without imposing strict rules or conventions. This simplicity and flexibility make Flask a popular choice for developers who value control and customization.\n",
    "\n",
    "Advantages of Flask Framework:\n",
    "\n",
    "Lightweight and flexible: Flasks minimalistic approach allows developers to build applications with a high degree of control and customization.\n",
    "Easy to learn: Flask has a simple and intuitive API, making it easy for developers to get started and build web applications quickly.\n",
    "Scalable: Flask can handle large-scale applications and can be scaled horizontally to meet increasing demand.\n"
   ]
  },
  {
   "cell_type": "code",
   "execution_count": null,
   "id": "82c332ae-f7c4-43d2-8c17-e1e7877a2e2e",
   "metadata": {},
   "outputs": [],
   "source": [
    "Q2. Create a simple Flask application to display ‘Hello World!!’. Attach the screenshot of the output in\n",
    "Jupyter Notebook.\n",
    "Ans:"
   ]
  },
  {
   "cell_type": "code",
   "execution_count": null,
   "id": "b0358ced-40a3-4ee8-b257-64dd2b3a5655",
   "metadata": {},
   "outputs": [
    {
     "name": "stdout",
     "output_type": "stream",
     "text": [
      " * Serving Flask app '__main__'\n",
      " * Debug mode: off\n"
     ]
    },
    {
     "name": "stderr",
     "output_type": "stream",
     "text": [
      "WARNING: This is a development server. Do not use it in a production deployment. Use a production WSGI server instead.\n",
      " * Running on http://127.0.0.1:5000\n",
      "Press CTRL+C to quit\n"
     ]
    }
   ],
   "source": [
    "import flask\n",
    "from flask import Flask\n",
    "\n",
    "app = Flask(__name__)\n",
    "\n",
    "@app.route('/')\n",
    "def hello_world():\n",
    "    return 'Hello, World!'\n",
    "\n",
    "if __name__ == '__main__':\n",
    "    app.run()"
   ]
  },
  {
   "cell_type": "code",
   "execution_count": null,
   "id": "190be2a7-353d-4879-bb26-bb68a3cf2d55",
   "metadata": {},
   "outputs": [],
   "source": [
    "Q3. What is App routing in Flask? Why do we use app routes?\n",
    "Ans:App routing in Flask is the process of mapping URLs to specific Python functions within your application. This allows you to define how different parts of your application interact with each other and how users can navigate through your website.\n",
    "\n",
    "use app routes=:\n",
    "\n",
    "Structure and organization: App routing helps you organize your application's logic and make it easier to understand and maintain.\n",
    "User navigation: By defining routes, you can control how users navigate through your application and what content they can access.\n",
    "Dynamic content: App routing allows you to create dynamic content based on the URL parameters. For example, you can create a route to display a product page based on the product ID.\n",
    "RESTful API design: App routing is essential for building RESTful APIs, which use HTTP methods (GET, POST, PUT, DELETE) and URLs to define resources and operations.\n"
   ]
  },
  {
   "cell_type": "code",
   "execution_count": null,
   "id": "4ba971ad-6076-4141-8ce0-1380ba317ac4",
   "metadata": {},
   "outputs": [],
   "source": [
    "Q4. Create a “/welcome” route to display the welcome message “Welcome to ABC Corporation” and a “/”\n",
    "route to show the following details:\n",
    "Company Name: ABC Corporation\n",
    "Location: India\n",
    "Contact Detail: 999-999-9999\n"
   ]
  },
  {
   "cell_type": "code",
   "execution_count": null,
   "id": "66ac259f-81af-4057-875a-94fd3dd1d21f",
   "metadata": {},
   "outputs": [
    {
     "name": "stdout",
     "output_type": "stream",
     "text": [
      " * Serving Flask app '__main__'\n",
      " * Debug mode: off\n"
     ]
    },
    {
     "name": "stderr",
     "output_type": "stream",
     "text": [
      "WARNING: This is a development server. Do not use it in a production deployment. Use a production WSGI server instead.\n",
      " * Running on http://127.0.0.1:5000\n",
      "Press CTRL+C to quit\n"
     ]
    }
   ],
   "source": [
    "from flask import Flask\n",
    "\n",
    "app = Flask(__name__)\n",
    "\n",
    "@app.route('/welcome')\n",
    "def welcome():\n",
    "    return 'Welcome to ABC Corporation'\n",
    "\n",
    "@app.route('/')\n",
    "def home():\n",
    "    return f'''\n",
    "    Company Name: ABC Corporation\n",
    "    Location: India\n",
    "    Contact Detail: 999-999-9999\n",
    "    '''\n",
    "\n",
    "if __name__ == '__main__':\n",
    "    app.run()"
   ]
  },
  {
   "cell_type": "code",
   "execution_count": null,
   "id": "79aa409b-dec2-4c47-9f40-2c5156197bca",
   "metadata": {},
   "outputs": [],
   "source": []
  }
 ],
 "metadata": {
  "kernelspec": {
   "display_name": "Python 3 (ipykernel)",
   "language": "python",
   "name": "python3"
  },
  "language_info": {
   "codemirror_mode": {
    "name": "ipython",
    "version": 3
   },
   "file_extension": ".py",
   "mimetype": "text/x-python",
   "name": "python",
   "nbconvert_exporter": "python",
   "pygments_lexer": "ipython3",
   "version": "3.12.1"
  }
 },
 "nbformat": 4,
 "nbformat_minor": 5
}
