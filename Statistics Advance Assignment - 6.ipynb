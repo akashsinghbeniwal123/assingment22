{
 "cells": [
  {
   "cell_type": "code",
   "execution_count": null,
   "id": "e512ce9f-f74c-4e45-bb72-9ac962400ef6",
   "metadata": {},
   "outputs": [],
   "source": [
    "Q1. Explain the assumptions required to use ANOVA and provide examples of violations that could impact\n",
    "the validity of the results.\n",
    "ANs:Assumptions of ANOVA and Potential Violations\n",
    "ANOVA (Analysis of Variance) is a statistical technique used to compare the means of multiple groups. To ensure the validity of the results, several assumptions must be met:\n",
    "\n",
    "Assumptions of ANOVA\n",
    "Normality: The distribution of the dependent variable (response variable) should be approximately normal within each group.\n",
    "Homogeneity of variance: The variance of the dependent variable should be equal across all groups.\n",
    "Independence: Observations within each group should be independent of each other.\n",
    "Potential Violations and Their Impact\n",
    "1. Violation of Normality:\n",
    "\n",
    "Impact: If the data within a group is significantly non-normal (e.g., skewed or has outliers), it can affect the accuracy of the F-test and p-value.\n",
    "Example: A skewed distribution within a group might lead to an inflated or deflated F-statistic, potentially leading to incorrect conclusions.\n",
    "2. Violation of Homogeneity of Variance:\n",
    "\n",
    "Impact: Unequal variances across groups can bias the F-test, leading to inaccurate results.\n",
    "Example: If one group has a much larger variance than the others, it can dominate the F-test, making it difficult to detect differences in means.\n",
    "3. Violation of Independence:\n",
    "\n",
    "Impact: Dependent observations can inflate the degrees of freedom and lead to a decreased p-value, potentially leading to false positives.\n",
    "Example: Repeated measurements on the same individuals or clustered data (e.g., data from multiple schools within a district) can violate independence."
   ]
  },
  {
   "cell_type": "code",
   "execution_count": null,
   "id": "b1ff4769-f1cf-41b6-aed1-2362dab0a325",
   "metadata": {},
   "outputs": [],
   "source": [
    "Q2. What are the three types of ANOVA, and in what situations would each be used?\n",
    "Ans:Three Types of ANOVA and Their Applications\n",
    "ANOVA (Analysis of Variance) is a statistical technique used to compare the means of multiple groups. There are three main types:\n",
    "\n",
    "1. One-Way ANOVA\n",
    "Purpose: Compares the means of three or more independent groups.\n",
    "When to use: When you have one categorical independent variable (factor) and one continuous dependent variable.\n",
    "Example: Comparing the average test scores of students from three different schools.\n",
    "2. Two-Way ANOVA\n",
    "Purpose: Compares the means of groups based on two categorical independent variables (factors) and their interaction.\n",
    "When to use: When you want to examine the effects of two factors and how they interact on a continuous dependent variable.\n",
    "Example: Comparing the effects of fertilizer type and watering frequency on plant growth.\n",
    "3. Repeated Measures ANOVA\n",
    "Purpose: Compares the means of the same group of participants measured multiple times.\n",
    "When to use: When you have one categorical independent variable (factor) and one continuous dependent variable measured repeatedly on the same individuals.\n",
    "Example: Comparing the blood pressure of the same group of patients before and after a medical treatment."
   ]
  },
  {
   "cell_type": "code",
   "execution_count": null,
   "id": "0ee60130-5c67-4836-8091-4ac402ac7aa2",
   "metadata": {},
   "outputs": [],
   "source": [
    "Q3. What is the partitioning of variance in ANOVA, and why is it important to understand this concept?\n",
    "Ans:Partitioning of Variance in ANOVA\n",
    "Partitioning of variance in ANOVA is the process of dividing the total variability in the dependent variable into two components:\n",
    "\n",
    "Between-group variance: This measures the variation in the means of the different groups. It reflects the differences between the groups.\n",
    "Within-group variance: This measures the variation within each group. It reflects the variability of individual data points around their respective group means.\n",
    " it important to understand partitioning of variance::\n",
    "\n",
    "Understanding the sources of variation: Partitioning of variance helps you identify the main sources of variation in your data. This can be useful for understanding the factors that influence the dependent variable.\n",
    "Evaluating the effectiveness of treatments or interventions: If you're comparing multiple groups, understanding the partitioning of variance can help you determine whether the treatment or intervention has a significant effect on the dependent variable.\n",
    "Interpreting the F-statistic: The F-statistic in ANOVA is calculated by comparing the between-group variance to the within-group variance. A larger F-statistic indicates that the between-group variance is significantly larger than the within-group variance, suggesting that the differences between the groups are meaningful. "
   ]
  },
  {
   "cell_type": "code",
   "execution_count": null,
   "id": "81650105-8b3c-43cc-95c9-c66f6cb7e9a4",
   "metadata": {},
   "outputs": [],
   "source": [
    "Q4. How would you calculate the total sum of squares (SST), explained sum of squares (SSE), and residual\n",
    "sum of squares (SSR) in a one-way ANOVA using Python?\n",
    "Ans:"
   ]
  },
  {
   "cell_type": "code",
   "execution_count": 3,
   "id": "5cc6dce2-4b1c-4184-8828-c7ab7e880827",
   "metadata": {},
   "outputs": [
    {
     "ename": "NameError",
     "evalue": "name 'df' is not defined",
     "output_type": "error",
     "traceback": [
      "\u001b[1;31m---------------------------------------------------------------------------\u001b[0m",
      "\u001b[1;31mNameError\u001b[0m                                 Traceback (most recent call last)",
      "Cell \u001b[1;32mIn[3], line 3\u001b[0m\n\u001b[0;32m      1\u001b[0m \u001b[38;5;28;01mimport\u001b[39;00m \u001b[38;5;21;01mstatsmodels\u001b[39;00m\u001b[38;5;21;01m.\u001b[39;00m\u001b[38;5;21;01mapi\u001b[39;00m \u001b[38;5;28;01mas\u001b[39;00m \u001b[38;5;21;01msm\u001b[39;00m\n\u001b[0;32m      2\u001b[0m \u001b[38;5;28;01mfrom\u001b[39;00m \u001b[38;5;21;01mstatsmodels\u001b[39;00m\u001b[38;5;21;01m.\u001b[39;00m\u001b[38;5;21;01mformula\u001b[39;00m\u001b[38;5;21;01m.\u001b[39;00m\u001b[38;5;21;01mapi\u001b[39;00m \u001b[38;5;28;01mimport\u001b[39;00m ols\n\u001b[1;32m----> 3\u001b[0m model \u001b[38;5;241m=\u001b[39m ols(\u001b[38;5;124m'\u001b[39m\u001b[38;5;124mdependent_variable ~ group\u001b[39m\u001b[38;5;124m'\u001b[39m, data\u001b[38;5;241m=\u001b[39m\u001b[43mdf\u001b[49m)\u001b[38;5;241m.\u001b[39mfit()\n\u001b[0;32m      5\u001b[0m anova_table \u001b[38;5;241m=\u001b[39m sm\u001b[38;5;241m.\u001b[39mstats\u001b[38;5;241m.\u001b[39manova_lm(model)\n\u001b[0;32m      7\u001b[0m \u001b[38;5;66;03m# Extract the values\u001b[39;00m\n",
      "\u001b[1;31mNameError\u001b[0m: name 'df' is not defined"
     ]
    }
   ],
   "source": [
    "import statsmodels.api as sm\n",
    "from statsmodels.formula.api import ols\n",
    "model = ols('dependent_variable ~ group', data=df).fit()\n",
    "\n",
    "anova_table = sm.stats.anova_lm(model)\n",
    "\n",
    "# Extract the values\n",
    "sst = anova_table['sum_sq'][0]\n",
    "sse = anova_table['sum_sq'][1]\n",
    "ssr = anova_table['sum_sq'][0] - anova_table['sum_sq'][1]\n",
    "\n",
    "print(\"SST:\", sst)\n",
    "print(\"SSE:\", sse)\n",
    "print(\"SSR:\", ssr)"
   ]
  },
  {
   "cell_type": "code",
   "execution_count": null,
   "id": "73f89fd6-64ec-4ec9-b48e-bfb478c724ea",
   "metadata": {},
   "outputs": [],
   "source": [
    "Q5. In a two-way ANOVA, how would you calculate the main effects and interaction effects using Python?\n",
    "Ans:"
   ]
  },
  {
   "cell_type": "code",
   "execution_count": null,
   "id": "aa8b87aa-4c6c-4e2c-9284-d94398a77c6b",
   "metadata": {},
   "outputs": [],
   "source": [
    "import statsmodels.api as sm\n",
    "from statsmodels.formula.api import ols\n",
    "\n",
    "# Assuming you have a DataFrame 'df' with columns 'factor1', 'factor2', and 'dependent_variable'\n",
    "model = ols('dependent_variable ~ factor1 * factor2', data=df).fit()\n",
    "\n",
    "anova_table = sm.stats.anova_lm(model, typ=2)  # Type 2 ANOVA for balanced designs\n",
    "\n",
    "# Extract the values\n",
    "main_effect_factor1 = anova_table['sum_sq'][1]\n",
    "main_effect_factor2 = anova_table['sum_sq'][2]\n",
    "interaction_effect = anova_table['sum_sq'][3]\n",
    "\n",
    "print(\"Main Effect of Factor 1:\", main_effect_factor1)\n",
    "print(\"Main Effect of Factor 2:\", main_effect_factor2)\n",
    "print(\"Interaction Effect:\", interaction_effect)"
   ]
  },
  {
   "cell_type": "code",
   "execution_count": null,
   "id": "9c1651ff-ba02-4e2f-ac07-3820d8c51779",
   "metadata": {},
   "outputs": [],
   "source": [
    "Q6. Suppose you conducted a one-way ANOVA and obtained an F-statistic of 5.23 and a p-value of 0.02.\n",
    "What can you conclude about the differences between the groups, and how would you interpret these\n",
    "results?\n",
    "Ans:Interpretation of ANOVA Results\n",
    "\n",
    "Given:\n",
    "\n",
    "F-statistic = 5.23\n",
    "p-value = 0.02\n",
    "Conclusion:\n",
    "\n",
    "Since the p-value (0.02) is less than the commonly used significance level (0.05), we reject the null hypothesis. This means that there is a significant difference between the means of the groups.   \n",
    "\n",
    "Interpretation:\n",
    "\n",
    "The F-statistic of 5.23 indicates that there is a moderate to strong effect size. A larger F-statistic suggests a more pronounced difference between the groups.\n",
    "The p-value of 0.02 suggests that the observed differences between the groups are unlikely to be due to chance. There is a strong probability that the differences are real and meaningful.\n",
    "Overall, we can conclude that the one-way ANOVA analysis provides evidence to suggest that there are significant differences in the dependent variable across the groups.\n",
    "\n",
    "Additional Considerations:\n",
    "\n",
    "Post-hoc tests: To identify which specific groups differ significantly from each other, post-hoc tests like Tukey's HSD or Bonferroni's correction can be used.\n",
    "Effect size: While the p-value indicates statistical significance, the effect size (e.g., eta-squared) can help quantify the magnitude of the differences between the groups."
   ]
  },
  {
   "cell_type": "code",
   "execution_count": null,
   "id": "ba1cb619-691f-4007-86b2-fe0676e2c415",
   "metadata": {},
   "outputs": [],
   "source": [
    "Q7. In a repeated measures ANOVA, how would you handle missing data, and what are the potential\n",
    "consequences of using different methods to handle missing data?\n",
    "Ans:Handling Missing Data in Repeated Measures ANOVA\n",
    "Missing data is a common issue in research studies, and it can affect the validity and reliability of the results. Here are some common methods to handle missing data in repeated measures ANOVA:\n",
    "\n",
    "Methods to Handle Missing Data\n",
    "Listwise deletion: This method involves excluding all participants with any missing data.\n",
    "Pairwise deletion: This method excludes only the participants with missing data for a specific time point or measurement.\n",
    "Mean imputation: This method replaces missing values with the mean of the available data for that participant.\n",
    "Last observation carried forward (LOCF): This method replaces missing values with the last observed value for that participant.\n",
    "Next observation carried backward (NOCB): This method replaces missing values with the next observed value for that participant.\n",
    "Multiple imputation: This method involves creating multiple complete datasets by filling in missing values with plausible values based on the observed data.\n",
    "Potential Consequences of Different Methods\n",
    "The choice of method for handling missing data can have significant consequences on the results of the analysis. Some potential consequences include:\n",
    "\n",
    "Bias: Some methods, such as listwise deletion and mean imputation, can introduce bias into the analysis if the missing data is not missing at random.\n",
    "Loss of power: Excluding participants with missing data (listwise or pairwise deletion) can reduce the sample size and decrease the power of the analysis.\n",
    "Type I error rate: Some methods, such as LOCF and NOCB, can inflate the Type I error rate, leading to false positives.\n",
    "Type II error rate: Some methods, such as mean imputation, can reduce the Type II error rate, leading to false negatives."
   ]
  },
  {
   "cell_type": "code",
   "execution_count": null,
   "id": "1b716622-7673-495e-a06e-b1ec3c371d77",
   "metadata": {},
   "outputs": [],
   "source": [
    "Q8. What are some common post-hoc tests used after ANOVA, and when would you use each one? Provide\n",
    "an example of a situation where a post-hoc test might be necessary.\n",
    "Ans:Common Post-Hoc Tests and Their Applications\n",
    "Post-hoc tests are used to identify which specific groups differ significantly from each other after a significant ANOVA result. Here are some common post-hoc tests:\n",
    "\n",
    "1. Tukey Honestly Significant Difference (HSD)\n",
    "When to use: When you have equal sample sizes and want to compare all possible pairs of group means.\n",
    "Example: Comparing the average test scores of students from three different schools.\n",
    "2. Bonferroni Correction\n",
    "When to use: When you want to control the family-wise error rate (FWER), especially when conducting multiple comparisons.\n",
    "Example: Comparing the effects of a drug on multiple dependent variables.\n",
    "3. Tukey-Kramer Test\n",
    "When to use: When you have unequal sample sizes and want to compare all possible pairs of group means.\n",
    "Example: Comparing the survival times of patients in three treatment groups with different sample sizes.\n",
    "4. Dunnetts Test\n",
    "When to use: When you want to compare all groups to a control group.\n",
    "Example: Comparing the effectiveness of several new drugs to a placebo.\n",
    "5. Scheffé's Test\n",
    "When to use: When you want to control the FWER for all possible contrasts (linear combinations of group means).\n",
    "Example: Comparing the effects of a factor at multiple levels."
   ]
  },
  {
   "cell_type": "code",
   "execution_count": null,
   "id": "2f042bcf-bccf-42f4-811b-ecc8aca8fdee",
   "metadata": {},
   "outputs": [],
   "source": [
    "Q9. A researcher wants to compare the mean weight loss of three diets: A, B, and C. They collect data from\n",
    "50 participants who were randomly assigned to one of the diets. Conduct a one-way ANOVA using Python\n",
    "to determine if there are any significant differences between the mean weight loss of the three diets.\n",
    "Report the F-statistic and p-value, and interpret the results.\n",
    "Ans:"
   ]
  },
  {
   "cell_type": "code",
   "execution_count": null,
   "id": "0228b032-1447-4f23-9315-cb8bf031a824",
   "metadata": {},
   "outputs": [],
   "source": [
    "import scipy.stats as stats\n",
    "diet_a_weight_loss = [10, 8, 12, ...]\n",
    "diet_b_weight_loss = [7, 9, 11, ...]\n",
    "diet_c_weight_loss = [15, 13, 14, ...]\n",
    "\n",
    "f_statistic, p_value = stats.f_oneway(diet_a_weight_loss, diet_b_weight_loss, diet_c_weight_loss)\n",
    "\n",
    "print(\"F-statistic:\", f_statistic)\n",
    "print(\"P-value:\", p_value)"
   ]
  },
  {
   "cell_type": "code",
   "execution_count": null,
   "id": "9102ce0d-90d9-4084-a684-39cb743787a1",
   "metadata": {},
   "outputs": [],
   "source": []
  },
  {
   "cell_type": "code",
   "execution_count": null,
   "id": "e1a151d8-464d-40dc-9f08-adf0f6cf0a31",
   "metadata": {},
   "outputs": [],
   "source": []
  },
  {
   "cell_type": "code",
   "execution_count": null,
   "id": "708aa85c-9197-422f-afae-9489371264e5",
   "metadata": {},
   "outputs": [],
   "source": []
  }
 ],
 "metadata": {
  "kernelspec": {
   "display_name": "Python 3 (ipykernel)",
   "language": "python",
   "name": "python3"
  },
  "language_info": {
   "codemirror_mode": {
    "name": "ipython",
    "version": 3
   },
   "file_extension": ".py",
   "mimetype": "text/x-python",
   "name": "python",
   "nbconvert_exporter": "python",
   "pygments_lexer": "ipython3",
   "version": "3.12.1"
  }
 },
 "nbformat": 4,
 "nbformat_minor": 5
}
