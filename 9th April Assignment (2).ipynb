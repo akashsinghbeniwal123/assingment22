{
 "cells": [
  {
   "cell_type": "code",
   "execution_count": null,
   "id": "4b619d06-bc13-4d97-8ca3-9f4625fbe8e0",
   "metadata": {},
   "outputs": [],
   "source": [
    "Q1. What is Bayes theorem?\n",
    "Ans:Bayes theorem is a mathematical rule that allows us to update our beliefs about the probability of an event based on new evidence. It is a fundamental tool in probability theory and statistics.   \n",
    "\n",
    "Here the mathematical formulation of Bayes' theorem:\n",
    "\n",
    "P(A|B) = P(B|A) * P(A) / P(B)"
   ]
  },
  {
   "cell_type": "code",
   "execution_count": null,
   "id": "72c07de1-8d89-44b7-a0b2-0b09237ccf01",
   "metadata": {},
   "outputs": [],
   "source": [
    "Q2. What is the formula for Bayes' theorem?\n",
    "Ans:P(A|B) = P(B|A) * P(A) / P(B)\n"
   ]
  },
  {
   "cell_type": "code",
   "execution_count": null,
   "id": "b1a4be7a-7777-4270-bb9b-7980dc406cd7",
   "metadata": {},
   "outputs": [],
   "source": [
    "Q3. How is Bayes' theorem used in practice?\n",
    "Ans:Bayes theorem is a powerful tool with many practical applications. Here are some examples:   \n",
    "\n",
    "1. Medical Diagnosis:\n",
    "\n",
    "A doctor might use Bayes theorem to assess the probability of a patient having a disease given a positive test result. They would consider the prior probability of the disease, the sensitivity and specificity of the test, and the prevalence of the disease in the population.   \n",
    "2. Spam Filtering:\n",
    "\n",
    "Email clients use Bayes theorem to classify emails as spam or not spam. They analyze the words and phrases in an email and calculate the probability that it's spam based on previous data.   \n",
    "3. Weather Forecasting:\n",
    "\n",
    "Meteorologists use Baye theorem to update their forecasts as new data becomes available. They consider historical weather patterns, current conditions, and new information to make more accurate predictions.   \n",
    "4. Machine Learning:\n",
    "\n",
    "Bayes theorem is a fundamental concept in Bayesian machine learning, where its used to update the probabilities of model parameters as new data is observed.\n",
    "5. Finance:\n",
    "\n",
    "Investors use Bayes theorem to update their beliefs about the future performance of stocks and other investments as new information becomes available.   \n",
    "6. Artificial Intelligence:\n",
    "\n",
    "Bayes theorem is used in various AI applications, such as natural language processing and computer vision, to make probabilistic inferences.   \n",
    "In"
   ]
  },
  {
   "cell_type": "code",
   "execution_count": null,
   "id": "6800b152-57f3-4d65-82ab-d41499c89d2f",
   "metadata": {},
   "outputs": [],
   "source": [
    "Q4. What is the relationship between Bayes' theorem and conditional probability?\n",
    "Ans:P(A|B) = P(B|A) * P(A) / P(B)\n",
    "Bayes theorem is essentially a restatement of the definition of conditional probability. Let's break down the relationship:\n",
    "\n",
    "Conditional Probability:\n",
    "\n",
    "The probability of event A occurring given that event B has occurred is denoted as P(A|B).\n",
    "Bayes' Theorem:\n",
    "\n",
    "It rearranges the conditional probability formula to express P(A|B) in terms of other probabilities:\n",
    "P(A|B) = P(B|A) * P(A) / P(B)"
   ]
  },
  {
   "cell_type": "code",
   "execution_count": null,
   "id": "c2b1d33b-2d34-4a6f-b547-896f9447cb1a",
   "metadata": {},
   "outputs": [],
   "source": [
    "Q5. How do you choose which type of Naive Bayes classifier to use for any given problem?\n",
    "Ans:Choosing the Right Naive Bayes Classifier\n",
    "\n",
    "The choice of a Naive Bayes classifier depends on the nature of your data, specifically the type of features you're working with:\n",
    "\n",
    "Gaussian Naive Bayes:\n",
    "\n",
    "Best for: Continuous numerical features.   \n",
    "Assumption: Features are normally distributed.   \n",
    "Use Cases:\n",
    "Predicting house prices based on square footage, number of bedrooms, etc.   \n",
    "Predicting medical diagnoses based on continuous measurements like blood pressure, heart rate, etc.\n",
    "Multinomial Naive Bayes:\n",
    "\n",
    "Best for: Discrete count data.   \n",
    "Assumption: Features represent the frequency of occurrence of a particular event or category.\n",
    "Use Cases:\n",
    "Text classification (e.g., spam filtering, sentiment analysis)   \n",
    "Document categorization\n",
    "Bernoulli Naive Bayes:\n",
    "\n",
    "Best for: Binary features (presence or absence of a feature).   \n",
    "Assumption: Features are binary variables.\n",
    "Use Cases:\n",
    "Text classification (e.g., spam filtering, sentiment analysis)   \n",
    "Document classification"
   ]
  },
  {
   "cell_type": "code",
   "execution_count": null,
   "id": "5b3ffe80-afef-49dd-bc36-75ec18489286",
   "metadata": {},
   "outputs": [],
   "source": [
    "Q6. Assignment:\n",
    "You have a dataset with two features, X1 and X2, and two possible classes, A and B. You want to use Naive\n",
    "Bayes to classify a new instance with features X1 = 3 and X2 = 4. The following table shows the frequency of\n",
    "each feature value for each class:\n",
    "Class X1=1 X1=2 X1=3 X2=1 X2=2 X2=3 X2=4\n",
    "A 3 3 4 4 3 3 3\n",
    "B 2 2 1 2 2 2 3\n",
    "Assuming equal prior probabilities for each class, which class would Naive Bayes predict the new instance\n",
    "to belong to?\n",
    "Ans:To solve this problem, well use Bayes theorem to calculate the probability of the instance belonging to each class, given the observed features.\n",
    "\n",
    "Step 1: Calculate Prior Probabilities:\n",
    "\n",
    "Since the problem states that the prior probabilities for each class are equal, we have:\n",
    "\n",
    "P(A) = P(B) = 0.5\n",
    "Step 2: Calculate Likelihoods:\n",
    "\n",
    "For class A:\n",
    "\n",
    "P(X1=3|A) = 4/18\n",
    "P(X2=4|A) = 3/18\n",
    "For class B:\n",
    "\n",
    "P(X1=3|B) = 1/9\n",
    "P(X2=4|B) = 3/9\n",
    "Step 3: Apply Bayes' Theorem:\n",
    "\n",
    "For class A:\n",
    "\n",
    "P(A|X1=3, X2=4) = P(X1=3|A) * P(X2=4|A) * P(A)\n",
    "For class B:\n",
    "\n",
    "P(B|X1=3, X2=4) = P(X1=3|B) * P(X2=4|B) * P(B)\n",
    "Step 4: Compare Probabilities:\n",
    "\n",
    "Calculate the probabilities for both classes and compare them. The class with the higher probability is the predicted class.\n",
    "\n",
    "Note: Since Naive Bayes assumes feature independence, we can multiply the probabilities of individual features to get the joint probability."
   ]
  },
  {
   "cell_type": "code",
   "execution_count": null,
   "id": "86b29157-f06e-4def-95ee-eaa3766562d8",
   "metadata": {},
   "outputs": [],
   "source": []
  },
  {
   "cell_type": "code",
   "execution_count": null,
   "id": "03aab823-48f5-450a-babb-4b55707578d3",
   "metadata": {},
   "outputs": [],
   "source": []
  }
 ],
 "metadata": {
  "kernelspec": {
   "display_name": "Python 3 (ipykernel)",
   "language": "python",
   "name": "python3"
  },
  "language_info": {
   "codemirror_mode": {
    "name": "ipython",
    "version": 3
   },
   "file_extension": ".py",
   "mimetype": "text/x-python",
   "name": "python",
   "nbconvert_exporter": "python",
   "pygments_lexer": "ipython3",
   "version": "3.12.1"
  }
 },
 "nbformat": 4,
 "nbformat_minor": 5
}
