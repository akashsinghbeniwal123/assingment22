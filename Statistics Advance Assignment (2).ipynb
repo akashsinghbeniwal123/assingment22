{
 "cells": [
  {
   "cell_type": "code",
   "execution_count": null,
   "id": "11f87c48-f5f1-40b1-9d1c-d90ab6a7bb73",
   "metadata": {},
   "outputs": [],
   "source": [
    "Q1. What is the Probability density function?\n",
    "Ans:In probability theory, a probability density function (PDF) is a function that describes the relative likelihood that a continuous random variable will take on a specific value. Unlike discrete random variables, where the probability of a specific value can be directly calculated, for continuous random variables, the probability of any single point is zero. Instead, the PDF gives us the probability of the variable falling within a certain range or interval\n"
   ]
  },
  {
   "cell_type": "code",
   "execution_count": null,
   "id": "80d9e1b2-ec5e-443f-8c31-189a958ba58d",
   "metadata": {},
   "outputs": [],
   "source": [
    "Q2. What are the types of Probability distribution?\n",
    "Ans:Types: discrete and continuous.   \n",
    "\n",
    "Discrete Probability Distributions\n",
    "These distributions are used for random variables that can take on a countable number of values. Examples include:\n",
    "\n",
    "Bernoulli Distribution: Models a single binary outcome (e.g., success or failure, yes or no).\n",
    "Binomial Distribution: Models the number of successes in a fixed number of independent Bernoulli trials.\n",
    "Poisson Distribution: Models the number of events occurring in a fixed interval of time or space.   \n",
    "Geometric Distribution: Models the number of trials needed to achieve the first success in a series of Bernoulli trials.   \n",
    "Hypergeometric Distribution: Models the number of successes in a fixed number of draws without replacement from a finite population.   \n",
    "Continuous Probability Distributions\n",
    "These distributions are used for random variables that can take on any value within a continuous range. Examples include:\n",
    "\n",
    "Uniform Distribution: Models a random variable with equal probability of occurring anywhere within a specified range.\n",
    "Normal (Gaussian) Distribution: Models a bell-shaped curve with a central tendency and a certain spread.\n",
    "Exponential Distribution: Models the time between events in a Poisson process.\n",
    "Gamma Distribution: Models the sum of multiple exponential random variables.\n",
    "Beta Distribution: Models a random variable that takes on values between 0 and 1.\n",
    "Chi-Square Distribution: Used in hypothesis testing and confidence intervals.\n",
    "Student's t-Distribution: Used in hypothesis testing and confidence intervals, especially when sample sizes are small.\n",
    "F-Distribution: Used in analysis of variance (ANOVA) and regression analysis."
   ]
  },
  {
   "cell_type": "code",
   "execution_count": null,
   "id": "1500dadb-4a24-4175-962e-d1a7e69259b1",
   "metadata": {},
   "outputs": [],
   "source": [
    "Q3. Write a Python function to calculate the probability density function of a normal distribution with\n",
    "given mean and standard deviation at a given point.\n",
    "Ans:"
   ]
  },
  {
   "cell_type": "code",
   "execution_count": 1,
   "id": "1d77c79c-d92b-48e7-b26a-8466af394425",
   "metadata": {},
   "outputs": [],
   "source": [
    "import math\n",
    "\n",
    "def normal_pdf(x, mean, std_dev):\n",
    "  exponent = -0.5 * ((x - mean) / std_dev)**2\n",
    "  coefficient = 1 / (std_dev * math.sqrt(2 * math.pi))\n",
    "  return coefficient * math.exp(exponent)"
   ]
  },
  {
   "cell_type": "code",
   "execution_count": null,
   "id": "70babcd3-77a3-468a-be4c-1dcf18acf27d",
   "metadata": {},
   "outputs": [],
   "source": [
    "Q4. What are the properties of Binomial distribution? Give two examples of events where binomial\n",
    "distribution can be applied.\n",
    "Ans:The binomial distribution is a discrete probability distribution that models the number of successes in a fixed number of independent Bernoulli trials. Each trial has only two possible outcomes: success or failure. The probability of success (p) remains constant in each trial\n",
    "\n",
    "\n",
    "Examples of Binomial Distribution\n",
    "Flipping a coin: If you flip a coin 10 times, the number of heads can be modeled using a binomial distribution. Each flip is a trial, and the outcome is either a head (success) or a tail (failure). The probability of success (getting a head) is 0.5 in each flip.\n",
    "Quality control: In a manufacturing process, a random sample of 100 items is selected to check for defects. The number of defective items in the sample can be modeled using a binomial distribution. Each item is a trial, and the outcome is either defective (success) or non-defective (failure). The probability of success (finding a defective item) depends on the overall defect rate in the manufacturing process.\n"
   ]
  },
  {
   "cell_type": "code",
   "execution_count": null,
   "id": "80ba0052-2a7f-49a7-bcf8-e34b50526895",
   "metadata": {},
   "outputs": [],
   "source": [
    "Q5. Generate a random sample of size 1000 from a binomial distribution with probability of success 0.4\n",
    "and plot a histogram of the results using matplotlib.\n",
    "Ans:"
   ]
  },
  {
   "cell_type": "code",
   "execution_count": 2,
   "id": "2d3bf2ef-3edb-4586-bc71-a4723b0995f6",
   "metadata": {},
   "outputs": [
    {
     "data": {
      "image/png": "[encoded data removed]",
      "text/plain": [
       "<Figure size 640x480 with 1 Axes>"
      ]
     },
     "metadata": {},
     "output_type": "display_data"
    }
   ],
   "source": [
    "import numpy as np\n",
    "import matplotlib.pyplot as plt\n",
    "sample = np.random.binomial(n=1, p=0.4, size=1000)\n",
    "plt.hist(sample, bins=2, color='blue', edgecolor='black')\n",
    "plt.title(\"Histogram of Binomial Distribution\")\n",
    "plt.xlabel(\"Number of Successes\")\n",
    "plt.ylabel(\"Frequency\")\n",
    "plt.show()"
   ]
  },
  {
   "cell_type": "code",
   "execution_count": null,
   "id": "11a87427-9058-4b9e-a75e-22f38da50250",
   "metadata": {},
   "outputs": [],
   "source": [
    "Q6. Write a Python function to calculate the cumulative distribution function of a Poisson distribution\n",
    "with given mean at a given point.\n",
    "Ans:"
   ]
  },
  {
   "cell_type": "code",
   "execution_count": 3,
   "id": "700c2c5e-762b-4d87-a0f1-fe5107c8328e",
   "metadata": {},
   "outputs": [],
   "source": [
    "import math\n",
    "\n",
    "def poisson_cdf(x, mean):\n",
    "  cdf = 0\n",
    "  for k in range(x + 1):\n",
    "    cdf += (mean**k * math.exp(-mean)) / math.factorial(k)\n",
    "  return cdf"
   ]
  },
  {
   "cell_type": "code",
   "execution_count": 4,
   "id": "3a8911a9-1546-4f52-9dc0-6d03a9554927",
   "metadata": {},
   "outputs": [
    {
     "name": "stdout",
     "output_type": "stream",
     "text": [
      "0.42319008112684353\n"
     ]
    }
   ],
   "source": [
    "mean = 3\n",
    "x = 2\n",
    "\n",
    "cdf_value = poisson_cdf(x, mean)\n",
    "print(cdf_value)"
   ]
  },
  {
   "cell_type": "code",
   "execution_count": null,
   "id": "54feedce-2749-4bdb-a9a3-d5eaa786e35a",
   "metadata": {},
   "outputs": [],
   "source": [
    "Q7. How Binomial distribution different from Poisson distribution?\n",
    "Binomial Distribution\n",
    "Fixed number of trials: The binomial distribution is used when the number of trials (n) is fixed and known in advance.\n",
    "Independent trials: Each trial must be independent of the others.\n",
    "Two possible outcomes: Each trial can result in either success or failure.\n",
    "Constant probability of success: The probability of success (p) remains constant in each trial.\n",
    "Poisson Distribution\n",
    "Random number of trials: The Poisson distribution is used when the number of trials is not fixed but rather random and can be arbitrarily large.\n",
    "Rare events: The Poisson distribution is often used to model the occurrence of rare events.\n",
    "Continuous time or space: The events are assumed to occur randomly and independently over a continuous interval of time or space."
   ]
  },
  {
   "cell_type": "code",
   "execution_count": null,
   "id": "28243ce6-7771-478d-8c18-b0d4f064e958",
   "metadata": {},
   "outputs": [],
   "source": [
    "Q8. Generate a random sample of size 1000 from a Poisson distribution with mean 5 and calculate the\n",
    "sample mean and variance.\n",
    "Ans:"
   ]
  },
  {
   "cell_type": "code",
   "execution_count": 5,
   "id": "aff4755e-f1f0-4cf2-97c9-f0f25371efcf",
   "metadata": {},
   "outputs": [
    {
     "name": "stdout",
     "output_type": "stream",
     "text": [
      "Sample Mean: 4.884\n",
      "Sample Variance: 4.976544\n"
     ]
    }
   ],
   "source": [
    "import numpy as np\n",
    "sample = np.random.poisson(lam=5, size=1000)\n",
    "sample_mean = np.mean(sample)\n",
    "sample_variance = np.var(sample)\n",
    "\n",
    "print(\"Sample Mean:\", sample_mean)\n",
    "print(\"Sample Variance:\", sample_variance)"
   ]
  },
  {
   "cell_type": "code",
   "execution_count": null,
   "id": "d48df154-c68b-47d8-bbbc-6bb24d76da94",
   "metadata": {},
   "outputs": [],
   "source": [
    "Q9. How mean and variance are related in Binomial distribution and Poisson distribution?\n",
    "Ans:Binomial Distribution\n",
    "Mean: The mean of a binomial distribution is given by μ = n * p, where n is the number of trials and p is the probability of success in each trial.   \n",
    "Variance: The variance of a binomial distribution is given by σ² = n * p * q, where q = 1 - p is the probability of failure.\n",
    "Relationship:\n",
    "\n",
    "The mean and variance of a binomial distribution are directly related to the number of trials (n) and the probability of success (p).\n",
    "As the number of trials increases (n), both the mean and variance increase proportionally.\n",
    "For a fixed number of trials, the variance is maximum when p = 0.5.\n",
    "Poisson Distribution\n",
    "Mean: The mean of a Poisson distribution is equal to its parameter λ.\n",
    "Variance: The variance of a Poisson distribution is also equal to its parameter λ.   \n",
    "Relationship:\n",
    "\n",
    "In a Poisson distribution, the mean and variance are always equal.\n",
    "This property is a characteristic feature of the Poisson distribution and distinguishes it from other probability distributions."
   ]
  },
  {
   "cell_type": "code",
   "execution_count": null,
   "id": "c50644e6-62df-47ff-a952-960a09ff19d6",
   "metadata": {},
   "outputs": [],
   "source": [
    "Q10. In normal distribution with respect to mean position, where does the least frequent data appear?\n",
    "Ans:"
   ]
  },
  {
   "cell_type": "code",
   "execution_count": null,
   "id": "f7b3ca9d-0a5a-4154-b70f-eef2a630f36e",
   "metadata": {},
   "outputs": [],
   "source": []
  },
  {
   "cell_type": "code",
   "execution_count": null,
   "id": "3948614b-8d06-4dd5-ba66-b8095afe5284",
   "metadata": {},
   "outputs": [],
   "source": []
  },
  {
   "cell_type": "code",
   "execution_count": null,
   "id": "3ee0a4b1-d607-4daf-8e34-0fac5ff31fa0",
   "metadata": {},
   "outputs": [],
   "source": []
  },
  {
   "cell_type": "code",
   "execution_count": null,
   "id": "5a0fa75f-4a25-444c-a9d4-cf88ed405822",
   "metadata": {},
   "outputs": [],
   "source": []
  }
 ],
 "metadata": {
  "kernelspec": {
   "display_name": "Python 3 (ipykernel)",
   "language": "python",
   "name": "python3"
  },
  "language_info": {
   "codemirror_mode": {
    "name": "ipython",
    "version": 3
   },
   "file_extension": ".py",
   "mimetype": "text/x-python",
   "name": "python",
   "nbconvert_exporter": "python",
   "pygments_lexer": "ipython3",
   "version": "3.12.1"
  }
 },
 "nbformat": 4,
 "nbformat_minor": 5
}
