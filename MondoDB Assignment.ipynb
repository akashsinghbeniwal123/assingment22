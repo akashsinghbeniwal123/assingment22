{
 "cells": [
  {
   "cell_type": "code",
   "execution_count": null,
   "id": "1e7dd616-ce65-476a-956d-6328050ed925",
   "metadata": {},
   "outputs": [],
   "source": [
    "Q1. What is MongoDB? Explain non-relational databases in short. In which scenarios it is preferred to use\n",
    "MongoDB over SQL databases?\n",
    "Ans:MongoDB is a popular NoSQL database, which stands for \"Not Only SQL.\" Unlike traditional relational databases (RDBMS) that use tables and rows to store data, MongoDB stores data in a flexible document-oriented format. This means that each document can have different fields and structures, making it more adaptable to changing data requirements.\n",
    "\n",
    "Non-relational databases in short:Non-relational databases are designed to handle large datasets and complex data structures that are not easily represented in a relational format. They often use key-value pairs, document-oriented, graph, or wide-column storage models. \n",
    "\n",
    "scenarios it is preferred to use\n",
    "MongoDB:\n",
    "Unstructured or semi-structured data.\n",
    "High performance and scalability.\n",
    "Real-time application."
   ]
  },
  {
   "cell_type": "code",
   "execution_count": null,
   "id": "0b6aea04-6291-4dc1-94c5-8c173c9fb366",
   "metadata": {},
   "outputs": [],
   "source": [
    "Q2. State and Explain the features of MongoDB.\n",
    "ans:\n",
    "1.Document-oriented storage: MongoDB stores data in flexible documents, which can have different fields and structures. This makes it easy to model complex data structures and handle changing data requirements.\n",
    "\n",
    "2.Dynamic schema: Unlike relational databases, MongoDB does not require a fixed schema. This means that you can add or remove fields from documents without having to modify the database structure.\n",
    "\n",
    "3.Indexing: MongoDB supports indexing on any field, including nested fields. This allows for efficient querying and retrieval of data.\n",
    "\n",
    "4.Aggregation framework: MongoDB provides a powerful aggregation framework that allows you to perform complex data analysis and reporting tasks.   \n",
    "\n",
    "5.Geospatial queries: MongoDB has built-in support for geospatial data types and indexing, making it ideal for applications that deal with location-based data.\n",
    "\n",
    "6.Full-text search: MongoDB supports full-text search, allowing you to search for text within documents.\n",
    "\n",
    "7.Replication and sharding: MongoDB provides replication and sharding mechanisms for high availability and scalability.\n",
    "\n",
    "8.ACID compliance: MongoDB supports ACID (Atomicity, Consistency, Isolation, Durability) compliance, ensuring data integrity and reliability.\n",
    "\n",
    "9.Integration with programming languages: MongoDB has drivers for most popular programming languages, making it easy to integrate into your applications.\n",
    "\n",
    "10.Community and ecosystem: MongoDB has a large and active community and ecosystem, providing a wealth of resources, tools, and support."
   ]
  },
  {
   "cell_type": "code",
   "execution_count": null,
   "id": "47f11cf4-b3d7-47fe-b9f1-9beffa1952bb",
   "metadata": {},
   "outputs": [],
   "source": [
    "Q3. Write a code to connect MongoDB to Python. Also, create a database and a collection in MongoDB.\n",
    "Ans:\n",
    "import pymongo\n",
    "client = pymongo.MongoClient(\"mongodb://localhost:27017/\")\n",
    "db = client[\"mydatabase\"]\n",
    "collection = db[\"mycollection\"]\n",
    "data = {\"name\": \"Akash\", \"age\": 21, \"city\": \"Hodal\"}\n",
    "result = collection.insert_one(data)\n",
    "print(result.inserted_id)"
   ]
  },
  {
   "cell_type": "code",
   "execution_count": null,
   "id": "4345e53e-54c9-4fca-bf31-ff5136b72bd3",
   "metadata": {},
   "outputs": [],
   "source": [
    "Q4. Using the database and the collection created in question number 3, write a code to insert one record,\n",
    "and insert many records. Use the find() and find_one() methods to print the inserted record.\n",
    "import pymongo\n",
    "client = pymongo.MongoClient(\"mongodb://localhost:27017/\")\n",
    "db = client[\"mydatabase\"]\n",
    "collection = db[\"mycollection\"]\n",
    "data1 = {\"name\": \"Akash\", \"age\": 21, \"city\": \"Hodal\"}\n",
    "result1 = collection.insert_one(data1)\n",
    "print(\"Inserted ID:\", result1.inserted_id)\n",
    "data2 = [\n",
    "    {\"name\": \"Sorav\", \"age\": 25, \"city\": \"Mathura\"},\n",
    "    {\"name\": \"Rajesh\", \"age\": 20, \"city\": \"Chhata\"}\n",
    "]\n",
    "result2 = collection.insert_many(data2)\n",
    "print(\"Inserted IDs:\", result2.inserted_ids)\n",
    "one_record = collection.find_one()\n",
    "print(\"Found one record:\", one_record)\n",
    "all_records = collection.find()\n",
    "for record in all_records:\n",
    "    print(record)"
   ]
  },
  {
   "cell_type": "code",
   "execution_count": null,
   "id": "169f00d6-1cc5-4423-9c41-9675cccbcf48",
   "metadata": {},
   "outputs": [],
   "source": [
    "Q5. Explain how you can use the find() method to query the MongoDB database. Write a simple code to\n",
    "demonstrate this.\n",
    "Ans:\n",
    "import pymongo\n",
    "client = pymongo.MongoClient(\"mongodb://localhost:27017/\")\n",
    "db = client[\"mydatabase\"]\n",
    "collection = db[\"mycollection\"]\n",
    "data1 = {\"name\": \"Sumit\", \"age\": 25, \"city\": \"Delhi\"}\n",
    "result1 = collection.insert_one(data1)\n",
    "print(\"Inserted ID:\", result1.inserted_id)\n",
    "data2 = [\n",
    "    {\"name\": \"Akash\", \"age\": 25, \"city\": \"Hodal\"},\n",
    "    {\"name\": \"Sachin\", \"age\": 40, \"city\": \"Faridabad\"}\n",
    "]\n",
    "result2 = collection.insert_many(data2)\n",
    "print(\"Inserted IDs:\", result2.inserted_ids)\n",
    "one_record = collection.find_one()\n",
    "print(\"Found one record:\", one_record)\n",
    "all_records = collection.find()\n",
    "for record in all_records:\n",
    "    print(record)"
   ]
  },
  {
   "cell_type": "code",
   "execution_count": null,
   "id": "ff8bf1a2-e00e-4008-89fa-bec68a46ddf0",
   "metadata": {},
   "outputs": [],
   "source": [
    "Q6. Explain the sort() method. Give an example to demonstrate sorting in MongoDB.\n",
    "Ans:\n",
    "import pymongo\n",
    "client = pymongo.MongoClient(\"mongodb://localhost:27017/\")\n",
    "\n",
    "# Access the database and collectio]\n",
    "collection = db[\"mycollection\"]\n",
    "\n",
    "# Insert some data\n",
    "data = [\n",
    "    {\"name\": \"Alice\", \"age\": 30},\n",
    "    {\"name\": \"Bob\", \"age\": 25},\n",
    "    {\"name\": \"Charlie\", \"age\": 35}\n",
    "]\n",
    "collection.insert_many(data)\n",
    "\n",
    "# Sort documents by age in ascending order\n",
    "results = collection.find().sort(\"age\", 1)\n",
    "for result in results:\n",
    "    print(result)"
   ]
  }
 ],
 "metadata": {
  "kernelspec": {
   "display_name": "Python 3 (ipykernel)",
   "language": "python",
   "name": "python3"
  },
  "language_info": {
   "codemirror_mode": {
    "name": "ipython",
    "version": 3
   },
   "file_extension": ".py",
   "mimetype": "text/x-python",
   "name": "python",
   "nbconvert_exporter": "python",
   "pygments_lexer": "ipython3",
   "version": "3.12.1"
  }
 },
 "nbformat": 4,
 "nbformat_minor": 5
}
