{
 "cells": [
  {
   "cell_type": "code",
   "execution_count": null,
   "id": "12750f34-92c1-4f8b-a345-341c9ff14272",
   "metadata": {},
   "outputs": [],
   "source": [
    "Q1. Write a Python function that takes in two arrays of data and calculates the F-value for a variance ratio\n",
    "test. The function should return the F-value and the corresponding p-value for the test.\n",
    "Ans:"
   ]
  },
  {
   "cell_type": "code",
   "execution_count": 1,
   "id": "2c8b7b68-cc75-4652-afd2-b51798d775f7",
   "metadata": {},
   "outputs": [],
   "source": [
    "import scipy.stats as stats\n",
    "\n",
    "def calculate_f_value(data1, data2):\n",
    "  variance1 = stats.variance(data1)\n",
    "  variance2 = stats.variance(data2)\n",
    "  f_value = variance1 / variance2\n",
    "  p_value = stats.f.sf(f_value, len(data1) - 1, len(data2) - 1)\n",
    "  return f_value, p_value"
   ]
  },
  {
   "cell_type": "code",
   "execution_count": null,
   "id": "952c04aa-8af2-4717-b034-bd5247048a97",
   "metadata": {},
   "outputs": [],
   "source": [
    "Q2. Given a significance level of 0.05 and the degrees of freedom for the numerator and denominator of an\n",
    "F-distribution, write a Python function that returns the critical F-value for a two-tailed test.\n",
    "Ans:"
   ]
  },
  {
   "cell_type": "code",
   "execution_count": 2,
   "id": "c964b0b5-b377-48f4-8da0-6ddc7d51f699",
   "metadata": {},
   "outputs": [],
   "source": [
    "import scipy.stats as stats\n",
    "\n",
    "def get_critical_f_value(alpha, df_num, df_den):\n",
    "  critical_f = stats.f.ppf(1 - alpha / 2, df_num, df_den)\n",
    "  return critical_f"
   ]
  },
  {
   "cell_type": "code",
   "execution_count": null,
   "id": "3623efe4-c5da-47ef-853d-db2f69786324",
   "metadata": {},
   "outputs": [],
   "source": [
    "Q3. Write a Python program that generates random samples from two normal distributions with known\n",
    "\n",
    "variances and uses an F-test to determine if the variances are equal. The program should output the F-\n",
    "value, degrees of freedom, and p-value for the test.\n",
    "Ans:"
   ]
  },
  {
   "cell_type": "code",
   "execution_count": 3,
   "id": "f55f7ed0-7d7e-4914-b1d5-df9d25609833",
   "metadata": {},
   "outputs": [
    {
     "ename": "AttributeError",
     "evalue": "'f_gen' object has no attribute 'fratio'",
     "output_type": "error",
     "traceback": [
      "\u001b[1;31m---------------------------------------------------------------------------\u001b[0m",
      "\u001b[1;31mAttributeError\u001b[0m                            Traceback (most recent call last)",
      "Cell \u001b[1;32mIn[3], line 52\u001b[0m\n\u001b[0;32m     49\u001b[0m sample1, sample2 \u001b[38;5;241m=\u001b[39m generate_normal_samples(mean1, mean2, var1, var2, sample_size)\n\u001b[0;32m     51\u001b[0m \u001b[38;5;66;03m# Conduct the F-test\u001b[39;00m\n\u001b[1;32m---> 52\u001b[0m f_value, df_num, df_den, p_value \u001b[38;5;241m=\u001b[39m \u001b[43mf_test_for_equal_variance\u001b[49m\u001b[43m(\u001b[49m\u001b[43msample1\u001b[49m\u001b[43m,\u001b[49m\u001b[43m \u001b[49m\u001b[43msample2\u001b[49m\u001b[43m)\u001b[49m\n\u001b[0;32m     54\u001b[0m \u001b[38;5;28mprint\u001b[39m(\u001b[38;5;124m\"\u001b[39m\u001b[38;5;124mF-value:\u001b[39m\u001b[38;5;124m\"\u001b[39m, f_value)\n\u001b[0;32m     55\u001b[0m \u001b[38;5;28mprint\u001b[39m(\u001b[38;5;124m\"\u001b[39m\u001b[38;5;124mDegrees of Freedom (Numerator):\u001b[39m\u001b[38;5;124m\"\u001b[39m, df_num)\n",
      "Cell \u001b[1;32mIn[3], line 34\u001b[0m, in \u001b[0;36mf_test_for_equal_variance\u001b[1;34m(sample1, sample2)\u001b[0m\n\u001b[0;32m     23\u001b[0m \u001b[38;5;28;01mdef\u001b[39;00m \u001b[38;5;21mf_test_for_equal_variance\u001b[39m(sample1, sample2):\n\u001b[0;32m     24\u001b[0m \u001b[38;5;250m  \u001b[39m\u001b[38;5;124;03m\"\"\"Conducts an F-test for equal variance.\u001b[39;00m\n\u001b[0;32m     25\u001b[0m \n\u001b[0;32m     26\u001b[0m \u001b[38;5;124;03m  Args:\u001b[39;00m\n\u001b[1;32m   (...)\u001b[0m\n\u001b[0;32m     31\u001b[0m \u001b[38;5;124;03m    A tuple containing the F-value, degrees of freedom for the numerator, degrees of freedom for the denominator, and p-value.\u001b[39;00m\n\u001b[0;32m     32\u001b[0m \u001b[38;5;124;03m  \"\"\"\u001b[39;00m\n\u001b[1;32m---> 34\u001b[0m   f_value \u001b[38;5;241m=\u001b[39m \u001b[43mstats\u001b[49m\u001b[38;5;241;43m.\u001b[39;49m\u001b[43mf\u001b[49m\u001b[38;5;241;43m.\u001b[39;49m\u001b[43mfratio\u001b[49m(stats\u001b[38;5;241m.\u001b[39mvariance(sample1), stats\u001b[38;5;241m.\u001b[39mvariance(sample2))\n\u001b[0;32m     35\u001b[0m   df_num \u001b[38;5;241m=\u001b[39m \u001b[38;5;28mlen\u001b[39m(sample1) \u001b[38;5;241m-\u001b[39m \u001b[38;5;241m1\u001b[39m\n\u001b[0;32m     36\u001b[0m   df_den \u001b[38;5;241m=\u001b[39m \u001b[38;5;28mlen\u001b[39m(sample2) \u001b[38;5;241m-\u001b[39m \u001b[38;5;241m1\u001b[39m\n",
      "\u001b[1;31mAttributeError\u001b[0m: 'f_gen' object has no attribute 'fratio'"
     ]
    }
   ],
   "source": [
    "import numpy as np\n",
    "import scipy.stats as stats\n",
    "\n",
    "def generate_normal_samples(mean1, mean2, var1, var2, sample_size):\n",
    "  \"\"\"Generates random samples from two normal distributions.\n",
    "\n",
    "  Args:\n",
    "    mean1: The mean of the first distribution.\n",
    "    mean2: The mean of the second distribution.\n",
    "    var1: The variance of the first distribution.\n",
    "    var2: The variance of the second distribution.\n",
    "    sample_size: The sample size for each distribution.\n",
    "\n",
    "  Returns:\n",
    "    A tuple containing the two samples.\n",
    "  \"\"\"\n",
    "\n",
    "  sample1 = np.random.normal(mean1, var1**0.5, sample_size)\n",
    "  sample2 = np.random.normal(mean2, var2**0.5, sample_size)\n",
    "\n",
    "  return sample1, sample2\n",
    "\n",
    "def f_test_for_equal_variance(sample1, sample2):\n",
    "  f_value = stats.f.fratio(stats.variance(sample1), stats.variance(sample2))\n",
    "  df_num = len(sample1) - 1\n",
    "  df_den = len(sample2) - 1\n",
    "  p_value = stats.f.sf(f_value, df_num, df_den)\n",
    "\n",
    "  return f_value, df_num, df_den, p_value\n",
    "mean1 = 100\n",
    "mean2 = 120\n",
    "var1 = 25\n",
    "var2 = 36\n",
    "sample_size = 30\n",
    "sample1, sample2 = generate_normal_samples(mean1, mean2, var1, var2, sample_size)\n",
    "f_value, df_num, df_den, p_value = f_test_for_equal_variance(sample1, sample2)\n",
    "print(\"F-value:\", f_value)\n",
    "print(\"Degrees of Freedom (Numerator):\", df_num)\n",
    "print(\"Degrees of Freedom (Denominator):\", df_den)\n",
    "print(\"P-value:\", p_value)"
   ]
  },
  {
   "cell_type": "code",
   "execution_count": null,
   "id": "6a223d48-b035-4d5f-b6b2-1520bab6ef68",
   "metadata": {},
   "outputs": [],
   "source": [
    "Q4.The variances of two populations are known to be 10 and 15. A sample of 12 observations is taken from\n",
    "each population. Conduct an F-test at the 5% significance level to determine if the variances are\n",
    "significantly different.\n",
    "Ans:F-Test for Equal Variances\n",
    "Given:\n",
    "\n",
    "Population variance 1 (σ₁²) = 10\n",
    "Population variance 2 (σ₂²) = 15\n",
    "Sample size for each population (n) = 12\n",
    "Significance level (α) = 0.05\n",
    "Hypotheses:\n",
    "\n",
    "Null hypothesis (H₀): σ₁² = σ₂² (The variances are equal)\n",
    "Alternative hypothesis (H₁): σ₁² ≠ σ₂² (The variances are not equal)\n",
    "Test statistic (F-value):\n",
    "\n",
    "F = σ₁² / σ₂²\n",
    "Substituting the values:\n",
    "\n",
    "F = 10 / 15 = 0.67\n",
    "Degrees of freedom:\n",
    "\n",
    "Numerator degrees of freedom (df₁): n₁ - 1 = 12 - 1 = 11\n",
    "Denominator degrees of freedom (df₂): n₂ - 1 = 12 - 1 = 11\n",
    "Critical value:\n",
    "Using an F-distribution table or a statistical software, find the critical F-value for α/2 = 0.025 and df₁ = 11, df₂ = 11.\n",
    "\n",
    "Decision:\n",
    "If the calculated F-value is less than the critical F-value, fail to reject the null hypothesis. Otherwise, reject the null hypothesis.   \n",
    "\n",
    "Conclusion:\n",
    "Once you find the critical F-value, compare it to the calculated F-value. If the calculated F-value is less than the critical F-value, you can conclude that there is not enough evidence to reject the null hypothesis, meaning there is no significant difference between the two variances. If the calculated F-value is greater than the critical F-value, you can conclude that there is a significant difference between the two variances."
   ]
  },
  {
   "cell_type": "code",
   "execution_count": null,
   "id": "86ce8111-38b7-4cd7-8991-2302545044fb",
   "metadata": {},
   "outputs": [],
   "source": [
    "Q5. A manufacturer claims that the variance of the diameter of a certain product is 0.005. A sample of 25\n",
    "products is taken, and the sample variance is found to be 0.006. Conduct an F-test at the 1% significance\n",
    "level to determine if the claim is justified.\n",
    "Ans:F-Test for Variance\n",
    "Given:\n",
    "\n",
    "Claimed population variance (σ₀²) = 0.005\n",
    "Sample variance (s²) = 0.006\n",
    "Sample size (n) = 25\n",
    "Significance level (α) = 0.01\n",
    "Hypotheses:\n",
    "\n",
    "Null hypothesis (H₀): σ² = σ₀² (The sample variance is not significantly different from the claimed population variance)\n",
    "Alternative hypothesis (H₁): σ² ≠ σ₀² (The sample variance is significantly different from the claimed population variance)\n",
    "Test statistic (F-value):\n",
    "\n",
    "F = s² / σ₀²\n",
    "Substituting the values:\n",
    "\n",
    "F = 0.006 / 0.005 = 1.2\n",
    "Degrees of freedom:\n",
    "\n",
    "Numerator degrees of freedom (df₁): n - 1 = 25 - 1 = 24\n",
    "Denominator degrees of freedom (df₂): 1 (since we are comparing to a known population variance)\n",
    "Critical value:\n",
    "Using an F-distribution table or a statistical software, find the critical F-value for α/2 = 0.005 and df₁ = 24, df₂ = 1.\n",
    "\n",
    "Decision:\n",
    "If the calculated F-value is greater than the critical F-value, reject the null hypothesis. Otherwise, fail to reject the null hypothesis.   \n"
   ]
  },
  {
   "cell_type": "code",
   "execution_count": null,
   "id": "660a3d92-8761-469f-ab57-b651e0be1abf",
   "metadata": {},
   "outputs": [],
   "source": [
    "Q6. Write a Python function that takes in the degrees of freedom for the numerator and denominator of an\n",
    "F-distribution and calculates the mean and variance of the distribution. The function should return the\n",
    "mean and variance as a tuple.\n",
    "ANs:"
   ]
  },
  {
   "cell_type": "code",
   "execution_count": 12,
   "id": "59b55cc6-f349-478e-9ac3-2172648b3eb7",
   "metadata": {},
   "outputs": [],
   "source": [
    "import scipy.stats as stats\n",
    "\n",
    "def calculate_f_distribution_mean_variance(df_num, df_den):\n",
    "  mean = df_den / (df_den - 2)\n",
    "  variance = 2 * df_den**2 * (df_num + df_den - 2) / ((df_den - 2)**2 * (df_den - 4))\n",
    "  return mean, variance\n",
    "  mean = df_den / (df_den - 2)\n",
    "  variance = 2 * df_den**2 * (df_num + df_den - 2) / ((df_den - 2)**2 * (df_den - 4))"
   ]
  },
  {
   "cell_type": "code",
   "execution_count": null,
   "id": "12b838fa-beeb-4b1c-95f7-7d1b2404bb61",
   "metadata": {},
   "outputs": [],
   "source": [
    "Q7. A random sample of 10 measurements is taken from a normal population with unknown variance. The\n",
    "sample variance is found to be 25. Another random sample of 15 measurements is taken from another\n",
    "normal population with unknown variance, and the sample variance is found to be 20. Conduct an F-test\n",
    "at the 10% significance level to determine if the variances are significantly different.\n",
    "Ans:F-Test for Equal Variances\n",
    "Given:\n",
    "\n",
    "Sample 1:\n",
    "Sample size (n₁) = 10\n",
    "Sample variance (s₁²) = 25\n",
    "Sample 2:\n",
    "Sample size (n₂) = 15\n",
    "Sample variance (s₂²) = 20\n",
    "Significance level (α) = 0.10\n",
    "Hypotheses:\n",
    "\n",
    "Null hypothesis (H₀): σ₁² = σ₂² (The variances are equal)\n",
    "Alternative hypothesis (H₁): σ₁² ≠ σ₂² (The variances are not equal)\n",
    "Test statistic (F-value):\n",
    "\n",
    "F = s₁² / s₂²\n",
    "Substituting the values:\n",
    "\n",
    "F = 25 / 20 = 1.25\n",
    "Degrees of freedom:\n",
    "\n",
    "Numerator degrees of freedom (df₁): n₁ - 1 = 10 - 1 = 9\n",
    "Denominator degrees of freedom (df₂): n₂ - 1 = 15 - 1 = 14\n",
    "Critical values:\n",
    "Since this is a two-tailed test, we need to find the critical F-values for α/2 = 0.05 and α/2 = 0.95. Using an F-distribution table or a statistical software, you can find these values.\n",
    "\n",
    "Decision:\n",
    "If the calculated F-value falls outside the critical region (i.e., it is greater than the upper critical value or less than the lower critical value), reject the null hypothesis. Otherwise, fail to reject the null hypothesis."
   ]
  },
  {
   "cell_type": "code",
   "execution_count": null,
   "id": "23c75788-15be-42fc-ab58-3ef2ea17ef74",
   "metadata": {},
   "outputs": [],
   "source": [
    "Q8. The following data represent the waiting times in minutes at two different restaurants on a Saturday\n",
    "night: Restaurant A: 24, 25, 28, 23, 22, 20, 27; Restaurant B: 31, 33, 35, 30, 32, 36. Conduct an F-test at the 5%\n",
    "significance level to determine if the variances are significantly different.\n",
    "Ans:"
   ]
  },
  {
   "cell_type": "code",
   "execution_count": 13,
   "id": "cc5126f1-91c7-4579-97d2-9a78a59ae8fb",
   "metadata": {},
   "outputs": [],
   "source": [
    "import numpy as np\n",
    "\n",
    "sample_a = [24, 25, 28, 23, 22, 20, 27]\n",
    "sample_b = [31, 33, 35, 30, 32, 36]\n",
    "\n",
    "variance_a = np.var(sample_a)\n",
    "variance_b = np.var(sample_b)"
   ]
  },
  {
   "cell_type": "code",
   "execution_count": 14,
   "id": "48921500-7a2f-4aab-b484-2bec742f8464",
   "metadata": {},
   "outputs": [],
   "source": [
    "F = variance_a / variance_b"
   ]
  },
  {
   "cell_type": "code",
   "execution_count": null,
   "id": "b51b906c-7e00-4557-9dfa-c32f51752a08",
   "metadata": {},
   "outputs": [],
   "source": [
    "Q9. The following data represent the test scores of two groups of students: Group A: 80, 85, 90, 92, 87, 83;\n",
    "Group B: 75, 78, 82, 79, 81, 84. Conduct an F-test at the 1% significance level to determine if the variances\n",
    "are significantly different.\n",
    "Ans:F-Test for Equal Variances\n",
    "Given:\n",
    "\n",
    "Group A: 80, 85, 90, 92, 87, 83\n",
    "Group B: 75, 78, 82, 79, 81, 84\n",
    "Calculate sample variances:\n",
    "\n",
    "Python\n",
    "import numpy as np\n",
    "\n",
    "group_a = [80, 85, 90, 92, 87, 83]\n",
    "group_b = [75, 78, 82, 79, 81, 84]\n",
    "\n",
    "variance_a = np.var(group_a)\n",
    "variance_b = np.var(group_b)\n",
    "Use code with caution.\n",
    "\n",
    "Test statistic (F-value):\n",
    "\n",
    "F = variance_a / variance_b\n",
    "Degrees of freedom:\n",
    "\n",
    "Numerator degrees of freedom (df₁): n₁ - 1 = 6 - 1 = 5\n",
    "Denominator degrees of freedom (df₂): n₂ - 1 = 6 - 1 = 5\n",
    "Critical value:\n",
    "Using an F-distribution table or a statistical software, find the critical F-value for α/2 = 0.005 and df₁ = 5, df₂ = 5.\n",
    "\n",
    "Decision:\n",
    "If the calculated F-value is greater than the critical F-value, reject the null hypothesis. Otherwise, fail to reject the null hypothesis"
   ]
  },
  {
   "cell_type": "code",
   "execution_count": null,
   "id": "01dcaed8-5bf3-4b66-8fd8-c016492615cb",
   "metadata": {},
   "outputs": [],
   "source": []
  }
 ],
 "metadata": {
  "kernelspec": {
   "display_name": "Python 3 (ipykernel)",
   "language": "python",
   "name": "python3"
  },
  "language_info": {
   "codemirror_mode": {
    "name": "ipython",
    "version": 3
   },
   "file_extension": ".py",
   "mimetype": "text/x-python",
   "name": "python",
   "nbconvert_exporter": "python",
   "pygments_lexer": "ipython3",
   "version": "3.12.1"
  }
 },
 "nbformat": 4,
 "nbformat_minor": 5
}
