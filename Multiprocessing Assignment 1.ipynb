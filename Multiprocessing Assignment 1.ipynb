{
 "cells": [
  {
   "cell_type": "markdown",
   "id": "a4046839-47d3-4b0a-bc62-2b779af966d5",
   "metadata": {},
   "source": [
    "Q1. What is multiprocessing in python? Why is it useful?\n",
    "Ans: Multiprocessing is a technique that allows multiple processes to run concurrently on a multi-core system. Each process has its own independent memory space, which can be beneficial for avoiding race conditions and other synchronization issues.\n",
    "\n",
    "Why is it useful?\n",
    "\n",
    "CPU-bound tasks: Multiprocessing is particularly effective for CPU-bound tasks, where the program is limited by the processing power of the CPU. By distributing the workload across multiple processes, you can make better use of your system's resources and improve performance.\n",
    "I/O-bound tasks: While multiprocessing is not as effective for I/O-bound tasks (where the program is limited by input/output operations), it can still be beneficial in some cases, such as when you need to perform multiple I/O operations simultaneously.\n",
    "Avoiding synchronization issues: Because each process has its own memory space, there is no need for complex synchronization mechanisms to coordinate access to shared data. This can simplify the development and debugging of your code."
   ]
  },
  {
   "cell_type": "code",
   "execution_count": null,
   "id": "f2f06f96-3a8d-49d3-b216-feb8f343a87c",
   "metadata": {},
   "outputs": [],
   "source": [
    "Q2. What are the differences between multiprocessing and multithreading?\n",
    "ultiprocessing is better suited for CPU-bound tasks and avoids synchronization issues due to separate memory spaces.\n",
    "Multithreading can be more efficient for I/O-bound tasks and provides finer-grained control over task execution, but it can be affected by the GIL in Python."
   ]
  },
  {
   "cell_type": "code",
   "execution_count": 2,
   "id": "b1767d0f-9054-4358-920d-1b9fba853f11",
   "metadata": {},
   "outputs": [
    {
     "name": "stdout",
     "output_type": "stream",
     "text": [
      "Main process finished\n"
     ]
    }
   ],
   "source": [
    "Q3. Write a python code to create a process using the multiprocessing module.\n",
    "import multiprocessing\n",
    "\n",
    "def worker():\n",
    "    print(\"Worker process started\")\n",
    "    print(\"Worker process finished\")\n",
    "\n",
    "if __name__ == \"__main__\":\n",
    "    p = multiprocessing.Process(target=worker)\n",
    "    p.start()\n",
    "    p.join()\n",
    "    print(\"Main process finished\")"
   ]
  },
  {
   "cell_type": "code",
   "execution_count": null,
   "id": "70f14184-62cf-4b75-bccb-c661cf3de61d",
   "metadata": {},
   "outputs": [],
   "source": [
    "Q4. What is a multiprocessing pool in python? Why is it used?\n",
    "Ans:A multiprocessing pool in Python is a collection of worker processes that can be used to execute tasks concurrently. It provides a convenient way to distribute tasks across multiple processes, improving performance and making better use of available resources.\n",
    "Efficient task distribution: A pool automatically distributes tasks among its worker processes, ensuring that the workload is balanced and the CPU resources are utilized effectively.\n",
    "Simplified process management: The pool handles the creation, management, and termination of worker processes, reducing the complexity of your code.\n",
    "Flexibility: You can control the number of worker processes in the pool, allowing you to adjust the level of concurrency based on your application needs and the available system resources.\n"
   ]
  },
  {
   "cell_type": "code",
   "execution_count": null,
   "id": "14867961-e702-4150-ae51-6709f8352a06",
   "metadata": {},
   "outputs": [],
   "source": [
    "#Q5. How can we create a pool of worker processes in python using the multiprocessing module?\n",
    "import multiprocessing\n",
    "\n",
    "def worker(num):\n",
    "    print(\"Worker process:\", num)\n",
    "if __name__ == \"__main__\":\n",
    "    pool = multiprocessing.Pool(processes=4)\n",
    "    for i in range(10):\n",
    "        pool.apply_async(worker, args=(i,))\n",
    "    pool.close()\n",
    "    pool.join()\n",
    "    print(\"Main process finished\")"
   ]
  },
  {
   "cell_type": "code",
   "execution_count": null,
   "id": "6efc5879-5687-48f7-979d-a80975f8e3db",
   "metadata": {},
   "outputs": [],
   "source": [
    "Q6. Write a python program to create 4 processes, each process should print a different number using the\n",
    "multiprocessing module in python.\n"
   ]
  },
  {
   "cell_type": "code",
   "execution_count": null,
   "id": "3759a3ca-3e62-44c8-9e00-990f05ba0e76",
   "metadata": {},
   "outputs": [],
   "source": [
    "import multiprocessing\n",
    "\n",
    "def print_number(num):\n",
    "    print(f\"Process {num} is printing...\")\n",
    "    print(num)\n",
    "\n",
    "if __name__ == \"__main__\":\n",
    "    # Create a pool of 4 processes\n",
    "    pool = multiprocessing.Pool(processes=4)\n",
    "\n",
    "    # Submit tasks to the pool\n",
    "    for i in range(1, 5):\n",
    "        pool.apply_async(print_number, args=(i,))\n",
    "\n",
    "    # Close the pool and wait for all tasks to finish\n",
    "    pool.close()\n",
    "    pool.join()\n",
    "\n",
    "    print(\"All processes finished\")"
   ]
  }
 ],
 "metadata": {
  "kernelspec": {
   "display_name": "Python 3 (ipykernel)",
   "language": "python",
   "name": "python3"
  },
  "language_info": {
   "codemirror_mode": {
    "name": "ipython",
    "version": 3
   },
   "file_extension": ".py",
   "mimetype": "text/x-python",
   "name": "python",
   "nbconvert_exporter": "python",
   "pygments_lexer": "ipython3",
   "version": "3.12.1"
  }
 },
 "nbformat": 4,
 "nbformat_minor": 5
}
